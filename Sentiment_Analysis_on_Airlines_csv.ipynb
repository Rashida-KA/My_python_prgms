{
  "cells": [
    {
      "cell_type": "markdown",
      "source": [
        "# **Sentiment Analysis**"
      ],
      "metadata": {
        "id": "lGqL_kztfgdQ"
      }
    },
    {
      "cell_type": "markdown",
      "source": [
        "Sentiment analysis refers to analyzing opinions or feelings about something using data such as text or images, covering a wide range of subjects. Sentiment analysis plays a vital role in the decision-making process for companies. For instance, if the public sentiment towards a product is unfavorable, a company may consider modifying the product or even discontinuing its production to mitigate potential losses.\n",
        "\n",
        "There are numerous sources of public sentiment, including public interviews, opinion polls, surveys, and more. However, with the increasing number of people joining social media platforms, websites like Facebook and Twitter can be leveraged to gather public sentiment."
      ],
      "metadata": {
        "id": "axm-TsR7fiDn"
      }
    },
    {
      "cell_type": "markdown",
      "source": [
        "# **Problem Definition**"
      ],
      "metadata": {
        "id": "uHd4010ygMV2"
      }
    },
    {
      "cell_type": "markdown",
      "source": [
        "Given tweets about six US airlines, the task is to predict whether a tweet contains positive, negative, or neutral sentiment about the airline. This is a typical supervised learning task where given a text string, we have to categorize the text string into predefined categories."
      ],
      "metadata": {
        "id": "lsOgaKWxgcKS"
      }
    },
    {
      "cell_type": "markdown",
      "source": [
        "# **Solution**"
      ],
      "metadata": {
        "id": "0yqbfyxWglfS"
      }
    },
    {
      "cell_type": "markdown",
      "source": [
        "To solve this problem, we will follow the standard machine learning pipeline. Firstly, we will import the necessary libraries and the dataset. Next, we will conduct exploratory data analysis to identify any trends within the dataset. Then, we will perform text preprocessing to convert the textual data into a numeric format suitable for machine learning algorithms. Finally, we will utilize machine learning algorithms to train and test our sentiment analysis models"
      ],
      "metadata": {
        "id": "9ql6H0rEgvdH"
      }
    },
    {
      "cell_type": "markdown",
      "source": [
        "***Import the necessary libraries***"
      ],
      "metadata": {
        "id": "5rqfApLsgyQ-"
      }
    },
    {
      "cell_type": "code",
      "execution_count": 1,
      "metadata": {
        "id": "FpEYlMWa3tbm",
        "colab": {
          "base_uri": "https://localhost:8080/"
        },
        "outputId": "6c078253-9335-4bf4-eeaf-c9d017dcdd0b"
      },
      "outputs": [
        {
          "output_type": "stream",
          "name": "stdout",
          "text": [
            "Requirement already satisfied: emoji in /usr/local/lib/python3.10/dist-packages (2.7.0)\n"
          ]
        }
      ],
      "source": [
        "!pip install emoji\n"
      ]
    },
    {
      "cell_type": "code",
      "execution_count": 2,
      "metadata": {
        "id": "kVc5xWIg1unQ",
        "colab": {
          "base_uri": "https://localhost:8080/"
        },
        "outputId": "71b9f3a6-1891-4be3-d72f-16d8842f1724"
      },
      "outputs": [
        {
          "output_type": "stream",
          "name": "stderr",
          "text": [
            "<ipython-input-2-0fe466bb86d0>:5: FutureWarning: Passing a negative integer is deprecated in version 1.0 and will not be supported in future version. Instead, use None to not limit the column width.\n",
            "  pd.set_option ('display.max_colwidth', -1)\n"
          ]
        }
      ],
      "source": [
        "import numpy as np\n",
        "\n",
        "import pandas as pd\n",
        "\n",
        "pd.set_option ('display.max_colwidth', -1)\n",
        "\n",
        "from time import time\n",
        "\n",
        "import os\n",
        "\n",
        "import re\n",
        "\n",
        "import string\n",
        "\n",
        "import emoji\n",
        "\n",
        "from pprint import pprint\n",
        "\n",
        "import collections\n",
        "\n",
        "import matplotlib.pyplot as plt\n",
        "\n",
        "import seaborn as sns\n",
        "\n",
        "sns.set (style=\"darkgrid\")\n",
        "\n",
        "sns.set (font_scale=1.3)\n",
        "\n",
        "from sklearn.base import BaseEstimator, TransformerMixin\n",
        "\n",
        "from sklearn. feature_extraction.text import CountVectorizer\n",
        "\n",
        "from sklearn. feature_extraction.text import TfidfVectorizer\n",
        "\n",
        "from sklearn.model_selection import GridSearchCV\n",
        "\n",
        "from sklearn.model_selection import train_test_split\n",
        "\n",
        "from sklearn.pipeline import Pipeline, FeatureUnion\n",
        "\n",
        "from sklearn.metrics import classification_report\n",
        "\n",
        "from sklearn.naive_bayes import MultinomialNB\n",
        "\n",
        "from sklearn.linear_model import LogisticRegression\n",
        "\n",
        "import joblib\n",
        "\n",
        "import nltk\n",
        "\n",
        "from nltk.corpus import stopwords\n",
        "\n",
        "from nltk.stem import PorterStemmer\n",
        "\n",
        "from nltk.tokenize import word_tokenize\n",
        "\n",
        "import warnings\n",
        "warnings.filterwarnings('ignore')\n",
        "\n",
        "np.random.seed(37)"
      ]
    },
    {
      "cell_type": "markdown",
      "source": [
        "***Load the Dataset***"
      ],
      "metadata": {
        "id": "Ev111r3LhA-z"
      }
    },
    {
      "cell_type": "code",
      "execution_count": 3,
      "metadata": {
        "id": "ncMGhc5dM1Z_"
      },
      "outputs": [],
      "source": [
        "airlines_train = pd.read_csv('Tweets.csv')\n"
      ]
    },
    {
      "cell_type": "code",
      "execution_count": 4,
      "metadata": {
        "colab": {
          "base_uri": "https://localhost:8080/",
          "height": 686
        },
        "id": "lAZUZFBq9ncu",
        "outputId": "b453c611-b8f4-488c-ef00-dc53811e42c7"
      },
      "outputs": [
        {
          "output_type": "execute_result",
          "data": {
            "text/plain": [
              "             tweet_id airline_sentiment  airline_sentiment_confidence  \\\n",
              "0  570306133677760513  neutral           1.0000                         \n",
              "1  570301130888122368  positive          0.3486                         \n",
              "2  570301083672813571  neutral           0.6837                         \n",
              "3  570301031407624196  negative          1.0000                         \n",
              "4  570300817074462722  negative          1.0000                         \n",
              "\n",
              "  negativereason  negativereason_confidence         airline  \\\n",
              "0  NaN           NaN                         Virgin America   \n",
              "1  NaN            0.0000                     Virgin America   \n",
              "2  NaN           NaN                         Virgin America   \n",
              "3  Bad Flight     0.7033                     Virgin America   \n",
              "4  Can't Tell     1.0000                     Virgin America   \n",
              "\n",
              "  airline_sentiment_gold        name negativereason_gold  retweet_count  \\\n",
              "0  NaN                    cairdin     NaN                 0               \n",
              "1  NaN                    jnardino    NaN                 0               \n",
              "2  NaN                    yvonnalynn  NaN                 0               \n",
              "3  NaN                    jnardino    NaN                 0               \n",
              "4  NaN                    jnardino    NaN                 0               \n",
              "\n",
              "                                                                                                                             text  \\\n",
              "0  @VirginAmerica What @dhepburn said.                                                                                              \n",
              "1  @VirginAmerica plus you've added commercials to the experience... tacky.                                                         \n",
              "2  @VirginAmerica I didn't today... Must mean I need to take another trip!                                                          \n",
              "3  @VirginAmerica it's really aggressive to blast obnoxious \"entertainment\" in your guests' faces &amp; they have little recourse   \n",
              "4  @VirginAmerica and it's a really big bad thing about it                                                                          \n",
              "\n",
              "  tweet_coord              tweet_created tweet_location  \\\n",
              "0  NaN         2015-02-24 11:35:52 -0800  NaN             \n",
              "1  NaN         2015-02-24 11:15:59 -0800  NaN             \n",
              "2  NaN         2015-02-24 11:15:48 -0800  Lets Play       \n",
              "3  NaN         2015-02-24 11:15:36 -0800  NaN             \n",
              "4  NaN         2015-02-24 11:14:45 -0800  NaN             \n",
              "\n",
              "                user_timezone  \n",
              "0  Eastern Time (US & Canada)  \n",
              "1  Pacific Time (US & Canada)  \n",
              "2  Central Time (US & Canada)  \n",
              "3  Pacific Time (US & Canada)  \n",
              "4  Pacific Time (US & Canada)  "
            ],
            "text/html": [
              "\n",
              "\n",
              "  <div id=\"df-59cb32fb-f216-45ce-82c7-516a8dc66fd2\">\n",
              "    <div class=\"colab-df-container\">\n",
              "      <div>\n",
              "<style scoped>\n",
              "    .dataframe tbody tr th:only-of-type {\n",
              "        vertical-align: middle;\n",
              "    }\n",
              "\n",
              "    .dataframe tbody tr th {\n",
              "        vertical-align: top;\n",
              "    }\n",
              "\n",
              "    .dataframe thead th {\n",
              "        text-align: right;\n",
              "    }\n",
              "</style>\n",
              "<table border=\"1\" class=\"dataframe\">\n",
              "  <thead>\n",
              "    <tr style=\"text-align: right;\">\n",
              "      <th></th>\n",
              "      <th>tweet_id</th>\n",
              "      <th>airline_sentiment</th>\n",
              "      <th>airline_sentiment_confidence</th>\n",
              "      <th>negativereason</th>\n",
              "      <th>negativereason_confidence</th>\n",
              "      <th>airline</th>\n",
              "      <th>airline_sentiment_gold</th>\n",
              "      <th>name</th>\n",
              "      <th>negativereason_gold</th>\n",
              "      <th>retweet_count</th>\n",
              "      <th>text</th>\n",
              "      <th>tweet_coord</th>\n",
              "      <th>tweet_created</th>\n",
              "      <th>tweet_location</th>\n",
              "      <th>user_timezone</th>\n",
              "    </tr>\n",
              "  </thead>\n",
              "  <tbody>\n",
              "    <tr>\n",
              "      <th>0</th>\n",
              "      <td>570306133677760513</td>\n",
              "      <td>neutral</td>\n",
              "      <td>1.0000</td>\n",
              "      <td>NaN</td>\n",
              "      <td>NaN</td>\n",
              "      <td>Virgin America</td>\n",
              "      <td>NaN</td>\n",
              "      <td>cairdin</td>\n",
              "      <td>NaN</td>\n",
              "      <td>0</td>\n",
              "      <td>@VirginAmerica What @dhepburn said.</td>\n",
              "      <td>NaN</td>\n",
              "      <td>2015-02-24 11:35:52 -0800</td>\n",
              "      <td>NaN</td>\n",
              "      <td>Eastern Time (US &amp; Canada)</td>\n",
              "    </tr>\n",
              "    <tr>\n",
              "      <th>1</th>\n",
              "      <td>570301130888122368</td>\n",
              "      <td>positive</td>\n",
              "      <td>0.3486</td>\n",
              "      <td>NaN</td>\n",
              "      <td>0.0000</td>\n",
              "      <td>Virgin America</td>\n",
              "      <td>NaN</td>\n",
              "      <td>jnardino</td>\n",
              "      <td>NaN</td>\n",
              "      <td>0</td>\n",
              "      <td>@VirginAmerica plus you've added commercials to the experience... tacky.</td>\n",
              "      <td>NaN</td>\n",
              "      <td>2015-02-24 11:15:59 -0800</td>\n",
              "      <td>NaN</td>\n",
              "      <td>Pacific Time (US &amp; Canada)</td>\n",
              "    </tr>\n",
              "    <tr>\n",
              "      <th>2</th>\n",
              "      <td>570301083672813571</td>\n",
              "      <td>neutral</td>\n",
              "      <td>0.6837</td>\n",
              "      <td>NaN</td>\n",
              "      <td>NaN</td>\n",
              "      <td>Virgin America</td>\n",
              "      <td>NaN</td>\n",
              "      <td>yvonnalynn</td>\n",
              "      <td>NaN</td>\n",
              "      <td>0</td>\n",
              "      <td>@VirginAmerica I didn't today... Must mean I need to take another trip!</td>\n",
              "      <td>NaN</td>\n",
              "      <td>2015-02-24 11:15:48 -0800</td>\n",
              "      <td>Lets Play</td>\n",
              "      <td>Central Time (US &amp; Canada)</td>\n",
              "    </tr>\n",
              "    <tr>\n",
              "      <th>3</th>\n",
              "      <td>570301031407624196</td>\n",
              "      <td>negative</td>\n",
              "      <td>1.0000</td>\n",
              "      <td>Bad Flight</td>\n",
              "      <td>0.7033</td>\n",
              "      <td>Virgin America</td>\n",
              "      <td>NaN</td>\n",
              "      <td>jnardino</td>\n",
              "      <td>NaN</td>\n",
              "      <td>0</td>\n",
              "      <td>@VirginAmerica it's really aggressive to blast obnoxious \"entertainment\" in your guests' faces &amp;amp; they have little recourse</td>\n",
              "      <td>NaN</td>\n",
              "      <td>2015-02-24 11:15:36 -0800</td>\n",
              "      <td>NaN</td>\n",
              "      <td>Pacific Time (US &amp; Canada)</td>\n",
              "    </tr>\n",
              "    <tr>\n",
              "      <th>4</th>\n",
              "      <td>570300817074462722</td>\n",
              "      <td>negative</td>\n",
              "      <td>1.0000</td>\n",
              "      <td>Can't Tell</td>\n",
              "      <td>1.0000</td>\n",
              "      <td>Virgin America</td>\n",
              "      <td>NaN</td>\n",
              "      <td>jnardino</td>\n",
              "      <td>NaN</td>\n",
              "      <td>0</td>\n",
              "      <td>@VirginAmerica and it's a really big bad thing about it</td>\n",
              "      <td>NaN</td>\n",
              "      <td>2015-02-24 11:14:45 -0800</td>\n",
              "      <td>NaN</td>\n",
              "      <td>Pacific Time (US &amp; Canada)</td>\n",
              "    </tr>\n",
              "  </tbody>\n",
              "</table>\n",
              "</div>\n",
              "      <button class=\"colab-df-convert\" onclick=\"convertToInteractive('df-59cb32fb-f216-45ce-82c7-516a8dc66fd2')\"\n",
              "              title=\"Convert this dataframe to an interactive table.\"\n",
              "              style=\"display:none;\">\n",
              "\n",
              "  <svg xmlns=\"http://www.w3.org/2000/svg\" height=\"24px\"viewBox=\"0 0 24 24\"\n",
              "       width=\"24px\">\n",
              "    <path d=\"M0 0h24v24H0V0z\" fill=\"none\"/>\n",
              "    <path d=\"M18.56 5.44l.94 2.06.94-2.06 2.06-.94-2.06-.94-.94-2.06-.94 2.06-2.06.94zm-11 1L8.5 8.5l.94-2.06 2.06-.94-2.06-.94L8.5 2.5l-.94 2.06-2.06.94zm10 10l.94 2.06.94-2.06 2.06-.94-2.06-.94-.94-2.06-.94 2.06-2.06.94z\"/><path d=\"M17.41 7.96l-1.37-1.37c-.4-.4-.92-.59-1.43-.59-.52 0-1.04.2-1.43.59L10.3 9.45l-7.72 7.72c-.78.78-.78 2.05 0 2.83L4 21.41c.39.39.9.59 1.41.59.51 0 1.02-.2 1.41-.59l7.78-7.78 2.81-2.81c.8-.78.8-2.07 0-2.86zM5.41 20L4 18.59l7.72-7.72 1.47 1.35L5.41 20z\"/>\n",
              "  </svg>\n",
              "      </button>\n",
              "\n",
              "\n",
              "\n",
              "    <div id=\"df-718d84e1-9dbb-4695-afcf-499b2d866fa0\">\n",
              "      <button class=\"colab-df-quickchart\" onclick=\"quickchart('df-718d84e1-9dbb-4695-afcf-499b2d866fa0')\"\n",
              "              title=\"Suggest charts.\"\n",
              "              style=\"display:none;\">\n",
              "\n",
              "<svg xmlns=\"http://www.w3.org/2000/svg\" height=\"24px\"viewBox=\"0 0 24 24\"\n",
              "     width=\"24px\">\n",
              "    <g>\n",
              "        <path d=\"M19 3H5c-1.1 0-2 .9-2 2v14c0 1.1.9 2 2 2h14c1.1 0 2-.9 2-2V5c0-1.1-.9-2-2-2zM9 17H7v-7h2v7zm4 0h-2V7h2v10zm4 0h-2v-4h2v4z\"/>\n",
              "    </g>\n",
              "</svg>\n",
              "      </button>\n",
              "    </div>\n",
              "\n",
              "<style>\n",
              "  .colab-df-quickchart {\n",
              "    background-color: #E8F0FE;\n",
              "    border: none;\n",
              "    border-radius: 50%;\n",
              "    cursor: pointer;\n",
              "    display: none;\n",
              "    fill: #1967D2;\n",
              "    height: 32px;\n",
              "    padding: 0 0 0 0;\n",
              "    width: 32px;\n",
              "  }\n",
              "\n",
              "  .colab-df-quickchart:hover {\n",
              "    background-color: #E2EBFA;\n",
              "    box-shadow: 0px 1px 2px rgba(60, 64, 67, 0.3), 0px 1px 3px 1px rgba(60, 64, 67, 0.15);\n",
              "    fill: #174EA6;\n",
              "  }\n",
              "\n",
              "  [theme=dark] .colab-df-quickchart {\n",
              "    background-color: #3B4455;\n",
              "    fill: #D2E3FC;\n",
              "  }\n",
              "\n",
              "  [theme=dark] .colab-df-quickchart:hover {\n",
              "    background-color: #434B5C;\n",
              "    box-shadow: 0px 1px 3px 1px rgba(0, 0, 0, 0.15);\n",
              "    filter: drop-shadow(0px 1px 2px rgba(0, 0, 0, 0.3));\n",
              "    fill: #FFFFFF;\n",
              "  }\n",
              "</style>\n",
              "\n",
              "    <script>\n",
              "      async function quickchart(key) {\n",
              "        const containerElement = document.querySelector('#' + key);\n",
              "        const charts = await google.colab.kernel.invokeFunction(\n",
              "            'suggestCharts', [key], {});\n",
              "      }\n",
              "    </script>\n",
              "\n",
              "      <script>\n",
              "\n",
              "function displayQuickchartButton(domScope) {\n",
              "  let quickchartButtonEl =\n",
              "    domScope.querySelector('#df-718d84e1-9dbb-4695-afcf-499b2d866fa0 button.colab-df-quickchart');\n",
              "  quickchartButtonEl.style.display =\n",
              "    google.colab.kernel.accessAllowed ? 'block' : 'none';\n",
              "}\n",
              "\n",
              "        displayQuickchartButton(document);\n",
              "      </script>\n",
              "      <style>\n",
              "    .colab-df-container {\n",
              "      display:flex;\n",
              "      flex-wrap:wrap;\n",
              "      gap: 12px;\n",
              "    }\n",
              "\n",
              "    .colab-df-convert {\n",
              "      background-color: #E8F0FE;\n",
              "      border: none;\n",
              "      border-radius: 50%;\n",
              "      cursor: pointer;\n",
              "      display: none;\n",
              "      fill: #1967D2;\n",
              "      height: 32px;\n",
              "      padding: 0 0 0 0;\n",
              "      width: 32px;\n",
              "    }\n",
              "\n",
              "    .colab-df-convert:hover {\n",
              "      background-color: #E2EBFA;\n",
              "      box-shadow: 0px 1px 2px rgba(60, 64, 67, 0.3), 0px 1px 3px 1px rgba(60, 64, 67, 0.15);\n",
              "      fill: #174EA6;\n",
              "    }\n",
              "\n",
              "    [theme=dark] .colab-df-convert {\n",
              "      background-color: #3B4455;\n",
              "      fill: #D2E3FC;\n",
              "    }\n",
              "\n",
              "    [theme=dark] .colab-df-convert:hover {\n",
              "      background-color: #434B5C;\n",
              "      box-shadow: 0px 1px 3px 1px rgba(0, 0, 0, 0.15);\n",
              "      filter: drop-shadow(0px 1px 2px rgba(0, 0, 0, 0.3));\n",
              "      fill: #FFFFFF;\n",
              "    }\n",
              "  </style>\n",
              "\n",
              "      <script>\n",
              "        const buttonEl =\n",
              "          document.querySelector('#df-59cb32fb-f216-45ce-82c7-516a8dc66fd2 button.colab-df-convert');\n",
              "        buttonEl.style.display =\n",
              "          google.colab.kernel.accessAllowed ? 'block' : 'none';\n",
              "\n",
              "        async function convertToInteractive(key) {\n",
              "          const element = document.querySelector('#df-59cb32fb-f216-45ce-82c7-516a8dc66fd2');\n",
              "          const dataTable =\n",
              "            await google.colab.kernel.invokeFunction('convertToInteractive',\n",
              "                                                     [key], {});\n",
              "          if (!dataTable) return;\n",
              "\n",
              "          const docLinkHtml = 'Like what you see? Visit the ' +\n",
              "            '<a target=\"_blank\" href=https://colab.research.google.com/notebooks/data_table.ipynb>data table notebook</a>'\n",
              "            + ' to learn more about interactive tables.';\n",
              "          element.innerHTML = '';\n",
              "          dataTable['output_type'] = 'display_data';\n",
              "          await google.colab.output.renderOutput(dataTable, element);\n",
              "          const docLink = document.createElement('div');\n",
              "          docLink.innerHTML = docLinkHtml;\n",
              "          element.appendChild(docLink);\n",
              "        }\n",
              "      </script>\n",
              "    </div>\n",
              "  </div>\n"
            ]
          },
          "metadata": {},
          "execution_count": 4
        }
      ],
      "source": [
        "airlines_train.head()"
      ]
    },
    {
      "cell_type": "code",
      "execution_count": 5,
      "metadata": {
        "colab": {
          "base_uri": "https://localhost:8080/"
        },
        "id": "LVxgwZtW9wW6",
        "outputId": "4e326b63-f36c-42a2-bcf2-e2fd7f4bb2e7"
      },
      "outputs": [
        {
          "output_type": "execute_result",
          "data": {
            "text/plain": [
              "Index(['tweet_id', 'airline_sentiment', 'airline_sentiment_confidence',\n",
              "       'negativereason', 'negativereason_confidence', 'airline',\n",
              "       'airline_sentiment_gold', 'name', 'negativereason_gold',\n",
              "       'retweet_count', 'text', 'tweet_coord', 'tweet_created',\n",
              "       'tweet_location', 'user_timezone'],\n",
              "      dtype='object')"
            ]
          },
          "metadata": {},
          "execution_count": 5
        }
      ],
      "source": [
        "airlines_train.columns"
      ]
    },
    {
      "cell_type": "code",
      "execution_count": 6,
      "metadata": {
        "colab": {
          "base_uri": "https://localhost:8080/"
        },
        "id": "rMGImR5wCtnq",
        "outputId": "d202da69-363f-4789-d202-6e6ec4110d26"
      },
      "outputs": [
        {
          "output_type": "execute_result",
          "data": {
            "text/plain": [
              "tweet_id                        0    \n",
              "airline_sentiment               0    \n",
              "airline_sentiment_confidence    0    \n",
              "negativereason                  5462 \n",
              "negativereason_confidence       4118 \n",
              "airline                         0    \n",
              "airline_sentiment_gold          14600\n",
              "name                            0    \n",
              "negativereason_gold             14608\n",
              "retweet_count                   0    \n",
              "text                            0    \n",
              "tweet_coord                     13621\n",
              "tweet_created                   0    \n",
              "tweet_location                  4733 \n",
              "user_timezone                   4820 \n",
              "dtype: int64"
            ]
          },
          "metadata": {},
          "execution_count": 6
        }
      ],
      "source": [
        "airlines_train.isna().sum()"
      ]
    },
    {
      "cell_type": "code",
      "source": [
        "airlines_train['airline'].value_counts()"
      ],
      "metadata": {
        "id": "rJ-MAXudkRSJ",
        "colab": {
          "base_uri": "https://localhost:8080/"
        },
        "outputId": "619e6098-4e48-4263-b137-1c2068748fcd"
      },
      "execution_count": 7,
      "outputs": [
        {
          "output_type": "execute_result",
          "data": {
            "text/plain": [
              "United            3822\n",
              "US Airways        2913\n",
              "American          2759\n",
              "Southwest         2420\n",
              "Delta             2222\n",
              "Virgin America    504 \n",
              "Name: airline, dtype: int64"
            ]
          },
          "metadata": {},
          "execution_count": 7
        }
      ]
    },
    {
      "cell_type": "markdown",
      "source": [
        "# **Exploration Of Data**"
      ],
      "metadata": {
        "id": "j2LzWyvAnil1"
      }
    },
    {
      "cell_type": "markdown",
      "source": [
        "***Let's see the number of tweets for each airline. We will plot a pie chart for that***"
      ],
      "metadata": {
        "id": "jVN85e4ekhef"
      }
    },
    {
      "cell_type": "code",
      "source": [
        "airlines_train.airline.value_counts().plot(kind='pie', autopct='%1.0f%%')\n"
      ],
      "metadata": {
        "id": "92sNzqXakfft",
        "colab": {
          "base_uri": "https://localhost:8080/",
          "height": 424
        },
        "outputId": "35f82215-03c6-4ccd-9571-e9003f00a1f9"
      },
      "execution_count": 8,
      "outputs": [
        {
          "output_type": "execute_result",
          "data": {
            "text/plain": [
              "<Axes: ylabel='airline'>"
            ]
          },
          "metadata": {},
          "execution_count": 8
        },
        {
          "output_type": "display_data",
          "data": {
            "text/plain": [
              "<Figure size 640x480 with 1 Axes>"
            ],
            "image/png": "[encoded data removed]"
          },
          "metadata": {}
        }
      ]
    },
    {
      "cell_type": "markdown",
      "source": [
        "***Let's see the distribution of sentiments across all the tweets.***"
      ],
      "metadata": {
        "id": "gLIPR3WglEAA"
      }
    },
    {
      "cell_type": "code",
      "source": [
        "airlines_train.airline_sentiment.value_counts().plot(kind='pie', autopct='%1.0f%%', colors=[\"red\", \"yellow\", \"green\"])\n"
      ],
      "metadata": {
        "id": "sDw0uKp-lK9o",
        "colab": {
          "base_uri": "https://localhost:8080/",
          "height": 424
        },
        "outputId": "0590d3be-4015-4468-9c12-ae1b05d38132"
      },
      "execution_count": 9,
      "outputs": [
        {
          "output_type": "execute_result",
          "data": {
            "text/plain": [
              "<Axes: ylabel='airline_sentiment'>"
            ]
          },
          "metadata": {},
          "execution_count": 9
        },
        {
          "output_type": "display_data",
          "data": {
            "text/plain": [
              "<Figure size 640x480 with 1 Axes>"
            ],
            "image/png": "[encoded data removed]"
          },
          "metadata": {}
        }
      ]
    },
    {
      "cell_type": "code",
      "source": [
        "airline_sentiment = airlines_train.groupby(['airline', 'airline_sentiment']).airline_sentiment.count().unstack()\n",
        "airline_sentiment.plot(kind='bar')"
      ],
      "metadata": {
        "id": "il9P6U8JlZd4",
        "colab": {
          "base_uri": "https://localhost:8080/",
          "height": 608
        },
        "outputId": "77c28c98-40bd-4da0-d43c-240f8a1de705"
      },
      "execution_count": 10,
      "outputs": [
        {
          "output_type": "execute_result",
          "data": {
            "text/plain": [
              "<Axes: xlabel='airline'>"
            ]
          },
          "metadata": {},
          "execution_count": 10
        },
        {
          "output_type": "display_data",
          "data": {
            "text/plain": [
              "<Figure size 640x480 with 1 Axes>"
            ],
            "image/png": "[encoded data removed]"
          },
          "metadata": {}
        }
      ]
    },
    {
      "cell_type": "markdown",
      "source": [
        "*It is evident from the output that for almost all the airlines, the majority of the tweets are negative, followed by neutral and positive tweets. Virgin America is probably the only airline where the ratio of the three sentiments is somewhat similar.italicized text*"
      ],
      "metadata": {
        "id": "IJY5ZRIklumc"
      }
    },
    {
      "cell_type": "code",
      "execution_count": 11,
      "metadata": {
        "colab": {
          "base_uri": "https://localhost:8080/",
          "height": 590
        },
        "id": "UoAUnW6YMLq3",
        "outputId": "dd405203-c607-48a9-dfe3-b1238564526d"
      },
      "outputs": [
        {
          "output_type": "display_data",
          "data": {
            "text/plain": [
              "<Figure size 900x600 with 1 Axes>"
            ],
            "image/png": "[encoded data removed]"
          },
          "metadata": {}
        }
      ],
      "source": [
        "\n",
        "sns.catplot(x=\"airline_sentiment\", data=airlines_train, kind=\"count\", height=6, aspect=1.5, palette=\"GnBu_r\")\n",
        "\n",
        "plt.show();"
      ]
    },
    {
      "cell_type": "markdown",
      "source": [
        "*Above graph visualising a count plot, which shows the frequency of each category in the 'airline_sentiment' column.*"
      ],
      "metadata": {
        "id": "OHsu49o6OXSz"
      }
    },
    {
      "cell_type": "markdown",
      "source": [
        "***Drop the unnecessary columns***"
      ],
      "metadata": {
        "id": "BFc2J0sgl-uC"
      }
    },
    {
      "cell_type": "code",
      "execution_count": 12,
      "metadata": {
        "id": "_BSB4_x6feLp"
      },
      "outputs": [],
      "source": [
        "airlines_train= airlines_train.reindex (np.random.permutation (airlines_train.index))\n",
        "\n",
        "airlines_train = airlines_train[['text', 'airline_sentiment']]"
      ]
    },
    {
      "cell_type": "code",
      "execution_count": 13,
      "metadata": {
        "colab": {
          "base_uri": "https://localhost:8080/",
          "height": 423
        },
        "id": "-ifmP6cE9__t",
        "outputId": "0f06fd4f-55ad-4283-ec42-54f1465c594c"
      },
      "outputs": [
        {
          "output_type": "execute_result",
          "data": {
            "text/plain": [
              "                                                                                                                                             text  \\\n",
              "10620  @USAirways told to work it out ourselves #joke #fail                                                                                         \n",
              "13609  @AmericanAir that all AA is for USAir Elite members. It's one big disappointment in the way we are treated. #epicfailure                     \n",
              "2955   @united Bummer. Might have to go with @AmericanAir card instead. TY for response though.                                                     \n",
              "3585   @united well the income flight to dca to take us to ewr was delayed and it made us miss our connection to FLL so yes hotels were necessary   \n",
              "2087   @united we have tried to change our flight THREE times on the phone and got disconnected each time.                                          \n",
              "...                                                                                                    ...                                          \n",
              "988    @united done                                                                                                                                 \n",
              "14587  @AmericanAir I’ll play it by ear. I know that you are doing your best. Buy some chewey oatmeal cookies for your customer care folks.         \n",
              "9036   @USAirways I left my personal stuff on US4551 from PHL-BOS about an hour ago. Went baggage, was told plane left to call 800#                 \n",
              "4459   @SouthwestAir: Tried for VIP Live in The Vineyard but yr site went down, by the time I got in 2 redeem pts those packages gone.              \n",
              "1935   @united, more lies... http://t.co/BEqoTLNugc                                                                                                 \n",
              "\n",
              "      airline_sentiment  \n",
              "10620  negative          \n",
              "13609  negative          \n",
              "2955   negative          \n",
              "3585   negative          \n",
              "2087   negative          \n",
              "...         ...          \n",
              "988    neutral           \n",
              "14587  negative          \n",
              "9036   neutral           \n",
              "4459   negative          \n",
              "1935   negative          \n",
              "\n",
              "[14640 rows x 2 columns]"
            ],
            "text/html": [
              "\n",
              "\n",
              "  <div id=\"df-b85d6482-b034-439c-9f58-c58cd82422d5\">\n",
              "    <div class=\"colab-df-container\">\n",
              "      <div>\n",
              "<style scoped>\n",
              "    .dataframe tbody tr th:only-of-type {\n",
              "        vertical-align: middle;\n",
              "    }\n",
              "\n",
              "    .dataframe tbody tr th {\n",
              "        vertical-align: top;\n",
              "    }\n",
              "\n",
              "    .dataframe thead th {\n",
              "        text-align: right;\n",
              "    }\n",
              "</style>\n",
              "<table border=\"1\" class=\"dataframe\">\n",
              "  <thead>\n",
              "    <tr style=\"text-align: right;\">\n",
              "      <th></th>\n",
              "      <th>text</th>\n",
              "      <th>airline_sentiment</th>\n",
              "    </tr>\n",
              "  </thead>\n",
              "  <tbody>\n",
              "    <tr>\n",
              "      <th>10620</th>\n",
              "      <td>@USAirways told to work it out ourselves #joke #fail</td>\n",
              "      <td>negative</td>\n",
              "    </tr>\n",
              "    <tr>\n",
              "      <th>13609</th>\n",
              "      <td>@AmericanAir that all AA is for USAir Elite members. It's one big disappointment in the way we are treated. #epicfailure</td>\n",
              "      <td>negative</td>\n",
              "    </tr>\n",
              "    <tr>\n",
              "      <th>2955</th>\n",
              "      <td>@united Bummer. Might have to go with @AmericanAir card instead. TY for response though.</td>\n",
              "      <td>negative</td>\n",
              "    </tr>\n",
              "    <tr>\n",
              "      <th>3585</th>\n",
              "      <td>@united well the income flight to dca to take us to ewr was delayed and it made us miss our connection to FLL so yes hotels were necessary</td>\n",
              "      <td>negative</td>\n",
              "    </tr>\n",
              "    <tr>\n",
              "      <th>2087</th>\n",
              "      <td>@united we have tried to change our flight THREE times on the phone and got disconnected each time.</td>\n",
              "      <td>negative</td>\n",
              "    </tr>\n",
              "    <tr>\n",
              "      <th>...</th>\n",
              "      <td>...</td>\n",
              "      <td>...</td>\n",
              "    </tr>\n",
              "    <tr>\n",
              "      <th>988</th>\n",
              "      <td>@united done</td>\n",
              "      <td>neutral</td>\n",
              "    </tr>\n",
              "    <tr>\n",
              "      <th>14587</th>\n",
              "      <td>@AmericanAir I’ll play it by ear. I know that you are doing your best. Buy some chewey oatmeal cookies for your customer care folks.</td>\n",
              "      <td>negative</td>\n",
              "    </tr>\n",
              "    <tr>\n",
              "      <th>9036</th>\n",
              "      <td>@USAirways I left my personal stuff on US4551 from PHL-BOS about an hour ago. Went baggage, was told plane left to call 800#</td>\n",
              "      <td>neutral</td>\n",
              "    </tr>\n",
              "    <tr>\n",
              "      <th>4459</th>\n",
              "      <td>@SouthwestAir: Tried for VIP Live in The Vineyard but yr site went down, by the time I got in 2 redeem pts those packages gone.</td>\n",
              "      <td>negative</td>\n",
              "    </tr>\n",
              "    <tr>\n",
              "      <th>1935</th>\n",
              "      <td>@united, more lies... http://t.co/BEqoTLNugc</td>\n",
              "      <td>negative</td>\n",
              "    </tr>\n",
              "  </tbody>\n",
              "</table>\n",
              "<p>14640 rows × 2 columns</p>\n",
              "</div>\n",
              "      <button class=\"colab-df-convert\" onclick=\"convertToInteractive('df-b85d6482-b034-439c-9f58-c58cd82422d5')\"\n",
              "              title=\"Convert this dataframe to an interactive table.\"\n",
              "              style=\"display:none;\">\n",
              "\n",
              "  <svg xmlns=\"http://www.w3.org/2000/svg\" height=\"24px\"viewBox=\"0 0 24 24\"\n",
              "       width=\"24px\">\n",
              "    <path d=\"M0 0h24v24H0V0z\" fill=\"none\"/>\n",
              "    <path d=\"M18.56 5.44l.94 2.06.94-2.06 2.06-.94-2.06-.94-.94-2.06-.94 2.06-2.06.94zm-11 1L8.5 8.5l.94-2.06 2.06-.94-2.06-.94L8.5 2.5l-.94 2.06-2.06.94zm10 10l.94 2.06.94-2.06 2.06-.94-2.06-.94-.94-2.06-.94 2.06-2.06.94z\"/><path d=\"M17.41 7.96l-1.37-1.37c-.4-.4-.92-.59-1.43-.59-.52 0-1.04.2-1.43.59L10.3 9.45l-7.72 7.72c-.78.78-.78 2.05 0 2.83L4 21.41c.39.39.9.59 1.41.59.51 0 1.02-.2 1.41-.59l7.78-7.78 2.81-2.81c.8-.78.8-2.07 0-2.86zM5.41 20L4 18.59l7.72-7.72 1.47 1.35L5.41 20z\"/>\n",
              "  </svg>\n",
              "      </button>\n",
              "\n",
              "\n",
              "\n",
              "    <div id=\"df-b81418d3-14e7-4b70-9c28-e506a2f838da\">\n",
              "      <button class=\"colab-df-quickchart\" onclick=\"quickchart('df-b81418d3-14e7-4b70-9c28-e506a2f838da')\"\n",
              "              title=\"Suggest charts.\"\n",
              "              style=\"display:none;\">\n",
              "\n",
              "<svg xmlns=\"http://www.w3.org/2000/svg\" height=\"24px\"viewBox=\"0 0 24 24\"\n",
              "     width=\"24px\">\n",
              "    <g>\n",
              "        <path d=\"M19 3H5c-1.1 0-2 .9-2 2v14c0 1.1.9 2 2 2h14c1.1 0 2-.9 2-2V5c0-1.1-.9-2-2-2zM9 17H7v-7h2v7zm4 0h-2V7h2v10zm4 0h-2v-4h2v4z\"/>\n",
              "    </g>\n",
              "</svg>\n",
              "      </button>\n",
              "    </div>\n",
              "\n",
              "<style>\n",
              "  .colab-df-quickchart {\n",
              "    background-color: #E8F0FE;\n",
              "    border: none;\n",
              "    border-radius: 50%;\n",
              "    cursor: pointer;\n",
              "    display: none;\n",
              "    fill: #1967D2;\n",
              "    height: 32px;\n",
              "    padding: 0 0 0 0;\n",
              "    width: 32px;\n",
              "  }\n",
              "\n",
              "  .colab-df-quickchart:hover {\n",
              "    background-color: #E2EBFA;\n",
              "    box-shadow: 0px 1px 2px rgba(60, 64, 67, 0.3), 0px 1px 3px 1px rgba(60, 64, 67, 0.15);\n",
              "    fill: #174EA6;\n",
              "  }\n",
              "\n",
              "  [theme=dark] .colab-df-quickchart {\n",
              "    background-color: #3B4455;\n",
              "    fill: #D2E3FC;\n",
              "  }\n",
              "\n",
              "  [theme=dark] .colab-df-quickchart:hover {\n",
              "    background-color: #434B5C;\n",
              "    box-shadow: 0px 1px 3px 1px rgba(0, 0, 0, 0.15);\n",
              "    filter: drop-shadow(0px 1px 2px rgba(0, 0, 0, 0.3));\n",
              "    fill: #FFFFFF;\n",
              "  }\n",
              "</style>\n",
              "\n",
              "    <script>\n",
              "      async function quickchart(key) {\n",
              "        const containerElement = document.querySelector('#' + key);\n",
              "        const charts = await google.colab.kernel.invokeFunction(\n",
              "            'suggestCharts', [key], {});\n",
              "      }\n",
              "    </script>\n",
              "\n",
              "      <script>\n",
              "\n",
              "function displayQuickchartButton(domScope) {\n",
              "  let quickchartButtonEl =\n",
              "    domScope.querySelector('#df-b81418d3-14e7-4b70-9c28-e506a2f838da button.colab-df-quickchart');\n",
              "  quickchartButtonEl.style.display =\n",
              "    google.colab.kernel.accessAllowed ? 'block' : 'none';\n",
              "}\n",
              "\n",
              "        displayQuickchartButton(document);\n",
              "      </script>\n",
              "      <style>\n",
              "    .colab-df-container {\n",
              "      display:flex;\n",
              "      flex-wrap:wrap;\n",
              "      gap: 12px;\n",
              "    }\n",
              "\n",
              "    .colab-df-convert {\n",
              "      background-color: #E8F0FE;\n",
              "      border: none;\n",
              "      border-radius: 50%;\n",
              "      cursor: pointer;\n",
              "      display: none;\n",
              "      fill: #1967D2;\n",
              "      height: 32px;\n",
              "      padding: 0 0 0 0;\n",
              "      width: 32px;\n",
              "    }\n",
              "\n",
              "    .colab-df-convert:hover {\n",
              "      background-color: #E2EBFA;\n",
              "      box-shadow: 0px 1px 2px rgba(60, 64, 67, 0.3), 0px 1px 3px 1px rgba(60, 64, 67, 0.15);\n",
              "      fill: #174EA6;\n",
              "    }\n",
              "\n",
              "    [theme=dark] .colab-df-convert {\n",
              "      background-color: #3B4455;\n",
              "      fill: #D2E3FC;\n",
              "    }\n",
              "\n",
              "    [theme=dark] .colab-df-convert:hover {\n",
              "      background-color: #434B5C;\n",
              "      box-shadow: 0px 1px 3px 1px rgba(0, 0, 0, 0.15);\n",
              "      filter: drop-shadow(0px 1px 2px rgba(0, 0, 0, 0.3));\n",
              "      fill: #FFFFFF;\n",
              "    }\n",
              "  </style>\n",
              "\n",
              "      <script>\n",
              "        const buttonEl =\n",
              "          document.querySelector('#df-b85d6482-b034-439c-9f58-c58cd82422d5 button.colab-df-convert');\n",
              "        buttonEl.style.display =\n",
              "          google.colab.kernel.accessAllowed ? 'block' : 'none';\n",
              "\n",
              "        async function convertToInteractive(key) {\n",
              "          const element = document.querySelector('#df-b85d6482-b034-439c-9f58-c58cd82422d5');\n",
              "          const dataTable =\n",
              "            await google.colab.kernel.invokeFunction('convertToInteractive',\n",
              "                                                     [key], {});\n",
              "          if (!dataTable) return;\n",
              "\n",
              "          const docLinkHtml = 'Like what you see? Visit the ' +\n",
              "            '<a target=\"_blank\" href=https://colab.research.google.com/notebooks/data_table.ipynb>data table notebook</a>'\n",
              "            + ' to learn more about interactive tables.';\n",
              "          element.innerHTML = '';\n",
              "          dataTable['output_type'] = 'display_data';\n",
              "          await google.colab.output.renderOutput(dataTable, element);\n",
              "          const docLink = document.createElement('div');\n",
              "          docLink.innerHTML = docLinkHtml;\n",
              "          element.appendChild(docLink);\n",
              "        }\n",
              "      </script>\n",
              "    </div>\n",
              "  </div>\n"
            ]
          },
          "metadata": {},
          "execution_count": 13
        }
      ],
      "source": [
        "airlines_train"
      ]
    },
    {
      "cell_type": "markdown",
      "source": [
        "# **Data Cleaning**"
      ],
      "metadata": {
        "id": "HY6wASYCmQ6g"
      }
    },
    {
      "cell_type": "markdown",
      "source": [
        "*Tweets contain many slang words and punctuation marks. We need to clean our tweets before they can be used for training the machine learning model. So we use a custom text cleaning class called '**CleanText**'*"
      ],
      "metadata": {
        "id": "Z5jLBAj1mYhq"
      }
    },
    {
      "cell_type": "code",
      "execution_count": 14,
      "metadata": {
        "id": "Wa_yQ9o0BEyQ"
      },
      "outputs": [],
      "source": [
        "class CleanText(BaseEstimator, TransformerMixin):\n",
        "\n",
        "    def remove_mentions (self, input_text):\n",
        "      return re.sub(r'@\\w+','', input_text)\n",
        "\n",
        "    def remove_urls (self, input_text):\n",
        "      return re.sub (r'http.?://[^\\s]+[\\s]?','', input_text)\n",
        "\n",
        "    def emoji_oneword(self, input_text):\n",
        "    #By compressing the underscore, the emoji is kept as one word\n",
        "      return input_text.replace('_','')\n",
        "\n",
        "    def remove_punctuation (self, input_text):\n",
        "    #Make translation table\n",
        "        punct= string.punctuation\n",
        "        trantab= str.maketrans (punct, len (punct)*' ') # Every punctuation symbol will be replaced by a space\n",
        "        return input_text.translate (trantab)\n",
        "\n",
        "    def remove_digits (self, input_text):\n",
        "      return re.sub('\\d+', '', input_text)\n",
        "\n",
        "    def to_lower (self, input_text):\n",
        "      return input_text.lower()\n",
        "\n",
        "    def remove_stopwords(self, input_text):\n",
        "      stopwords_list = stopwords.words('english')\n",
        "      # Some words which might indicate a certain sentiment are kept via a whitelist\n",
        "      whitelist = [\"n't\", \"not\", \"no\"]\n",
        "      words=input_text.split()\n",
        "      clean_words =[word for word in words if (word not in stopwords_list or word in whitelist) and len(word) > 1]\n",
        "      return \" \".join(clean_words)\n",
        "\n",
        "    def stemming(self, input_text):\n",
        "      porter = PorterStemmer ()\n",
        "      words = input_text.split()\n",
        "      stemmed_words = [porter.stem(word) for word in words]\n",
        "      return \" \".join(stemmed_words)\n",
        "\n",
        "    def fit (self, X, y=None, **fit_params):\n",
        "      return self\n",
        "\n",
        "    def transform(self, X, **transform_params):\n",
        "      clean_X = X.apply(self.remove_mentions).apply(self.remove_urls).apply(self.remove_punctuation).apply(self.remove_digits).apply(self.to_lower).apply(self.remove_stopwords).apply(self.stemming)\n",
        "      return clean_X\n"
      ]
    },
    {
      "cell_type": "markdown",
      "source": [
        "Downloading the Natural Language Toolkit (NLTK) library which is used for text processing and data cleaning operations."
      ],
      "metadata": {
        "id": "x17f1-7EQNJK"
      }
    },
    {
      "cell_type": "code",
      "execution_count": 15,
      "metadata": {
        "colab": {
          "base_uri": "https://localhost:8080/"
        },
        "id": "Zt30JAWxZ3jA",
        "outputId": "652ed2b6-00cb-4c1c-e87c-ed2d82dd3d31"
      },
      "outputs": [
        {
          "output_type": "stream",
          "name": "stderr",
          "text": [
            "[nltk_data] Downloading package punkt to /root/nltk_data...\n",
            "[nltk_data]   Package punkt is already up-to-date!\n",
            "[nltk_data] Downloading package stopwords to /root/nltk_data...\n",
            "[nltk_data]   Package stopwords is already up-to-date!\n"
          ]
        },
        {
          "output_type": "execute_result",
          "data": {
            "text/plain": [
              "True"
            ]
          },
          "metadata": {},
          "execution_count": 15
        }
      ],
      "source": [
        "nltk.download ('punkt')\n",
        "\n",
        "nltk.download('stopwords')\n"
      ]
    },
    {
      "cell_type": "code",
      "execution_count": 16,
      "metadata": {
        "id": "f8RMFfV2-0i1"
      },
      "outputs": [],
      "source": [
        "ct= CleanText()\n",
        "\n",
        "sr_clean = ct.fit_transform(airlines_train.text)\n",
        "\n"
      ]
    },
    {
      "cell_type": "markdown",
      "source": [
        "***Display cleaned text randomly***"
      ],
      "metadata": {
        "id": "0KG_u-zQnJsO"
      }
    },
    {
      "cell_type": "code",
      "execution_count": 17,
      "metadata": {
        "colab": {
          "base_uri": "https://localhost:8080/"
        },
        "id": "6V0wfMr5-6lX",
        "outputId": "a66c05a6-f536-44b5-b6e0-764d93a323a0"
      },
      "outputs": [
        {
          "output_type": "execute_result",
          "data": {
            "text/plain": [
              "12222    glad rt bet bird wish flown south winter                         \n",
              "3936     point upc code check baggag tell luggag vacat day tri swimsuit   \n",
              "367      vx jfk la dirti plane not standard                               \n",
              "12257    tell mean work need estim time arriv pleas need laptop work thank\n",
              "2957     sure busi go els airlin travel name kathryn sotelo               \n",
              "Name: text, dtype: object"
            ]
          },
          "metadata": {},
          "execution_count": 17
        }
      ],
      "source": [
        "sr_clean.sample(5)\n"
      ]
    },
    {
      "cell_type": "markdown",
      "source": [
        "*Prints the number of records with no words after cleaning*"
      ],
      "metadata": {
        "id": "YEJZqgx0QqIq"
      }
    },
    {
      "cell_type": "code",
      "execution_count": 18,
      "metadata": {
        "colab": {
          "base_uri": "https://localhost:8080/"
        },
        "id": "jlIG7RAL-9aD",
        "outputId": "0ce9e820-76bd-46f9-fed5-c296ba7be5b3"
      },
      "outputs": [
        {
          "output_type": "stream",
          "name": "stdout",
          "text": [
            "22 records have no words left after text cleaning\n"
          ]
        }
      ],
      "source": [
        "empty_clean =sr_clean ==''\n",
        "\n",
        "print('{} records have no words left after text cleaning'.format (sr_clean[empty_clean].count()))\n"
      ]
    },
    {
      "cell_type": "markdown",
      "source": [
        "Replaces those empty strings with the string '[no_text]'"
      ],
      "metadata": {
        "id": "4tfhTYGfQ-HB"
      }
    },
    {
      "cell_type": "code",
      "execution_count": 19,
      "metadata": {
        "id": "EeTQbucd-_Y_"
      },
      "outputs": [],
      "source": [
        "\n",
        "sr_clean.loc[empty_clean] = '[no_text]'"
      ]
    },
    {
      "cell_type": "code",
      "execution_count": 20,
      "metadata": {
        "colab": {
          "base_uri": "https://localhost:8080/"
        },
        "id": "rAqkbvUv_M_S",
        "outputId": "a519c900-41b6-4440-9b77-399067582c0a"
      },
      "outputs": [
        {
          "output_type": "execute_result",
          "data": {
            "text/plain": [
              "10620    told work joke fail                                                                \n",
              "13609    aa usair elit member one big disappoint way treat epicfailur                       \n",
              "2955     bummer might go card instead ty respons though                                     \n",
              "3585     well incom flight dca take us ewr delay made us miss connect fll ye hotel necessari\n",
              "2087     tri chang flight three time phone got disconnect time                              \n",
              "                                 ...                                                        \n",
              "988      done                                                                               \n",
              "14587    i’ll play ear know best buy chewey oatmeal cooki custom care folk                  \n",
              "9036     left person stuff us phl bo hour ago went baggag told plane left call              \n",
              "4459     tri vip live vineyard yr site went time got redeem pt packag gone                  \n",
              "1935     lie                                                                                \n",
              "Name: text, Length: 14640, dtype: object"
            ]
          },
          "metadata": {},
          "execution_count": 20
        }
      ],
      "source": [
        "sr_clean"
      ]
    },
    {
      "cell_type": "markdown",
      "source": [
        "Calculates the frequency count of each word in the cleaned text data using the bag-of-words representation with the CountVectorizer"
      ],
      "metadata": {
        "id": "6IBL9lCFRQ7V"
      }
    },
    {
      "cell_type": "code",
      "execution_count": 21,
      "metadata": {
        "id": "hme7C2uT_X6V"
      },
      "outputs": [],
      "source": [
        "cv=CountVectorizer()\n",
        "bow= cv.fit_transform(sr_clean)\n",
        "word_freq=dict(zip(cv.get_feature_names_out(),np.asarray(bow.sum(axis=0)).ravel()))\n",
        "word_counter=collections.Counter(word_freq)\n",
        "word_counter_df=pd.DataFrame(word_counter.most_common(20),columns=['word','freq'])"
      ]
    },
    {
      "cell_type": "code",
      "execution_count": 22,
      "metadata": {
        "colab": {
          "base_uri": "https://localhost:8080/",
          "height": 676
        },
        "id": "rPaIgz-4_dPq",
        "outputId": "b7f20895-2534-457f-8df1-a123b6e85f17"
      },
      "outputs": [
        {
          "output_type": "execute_result",
          "data": {
            "text/plain": [
              "      word  freq\n",
              "0   flight  4879\n",
              "1   thank   1703\n",
              "2   get     1623\n",
              "3   not     1586\n",
              "4   no      1507\n",
              "5   hour    1167\n",
              "6   cancel  1065\n",
              "7   help    1062\n",
              "8   delay   1010\n",
              "9   servic  1002\n",
              "10  time    987 \n",
              "11  custom  947 \n",
              "12  call    792 \n",
              "13  bag     771 \n",
              "14  wait    754 \n",
              "15  plane   735 \n",
              "16  us      705 \n",
              "17  fli     702 \n",
              "18  need    688 \n",
              "19  hold    687 "
            ],
            "text/html": [
              "\n",
              "\n",
              "  <div id=\"df-98972989-a298-42fe-a3f5-7e11315eb3eb\">\n",
              "    <div class=\"colab-df-container\">\n",
              "      <div>\n",
              "<style scoped>\n",
              "    .dataframe tbody tr th:only-of-type {\n",
              "        vertical-align: middle;\n",
              "    }\n",
              "\n",
              "    .dataframe tbody tr th {\n",
              "        vertical-align: top;\n",
              "    }\n",
              "\n",
              "    .dataframe thead th {\n",
              "        text-align: right;\n",
              "    }\n",
              "</style>\n",
              "<table border=\"1\" class=\"dataframe\">\n",
              "  <thead>\n",
              "    <tr style=\"text-align: right;\">\n",
              "      <th></th>\n",
              "      <th>word</th>\n",
              "      <th>freq</th>\n",
              "    </tr>\n",
              "  </thead>\n",
              "  <tbody>\n",
              "    <tr>\n",
              "      <th>0</th>\n",
              "      <td>flight</td>\n",
              "      <td>4879</td>\n",
              "    </tr>\n",
              "    <tr>\n",
              "      <th>1</th>\n",
              "      <td>thank</td>\n",
              "      <td>1703</td>\n",
              "    </tr>\n",
              "    <tr>\n",
              "      <th>2</th>\n",
              "      <td>get</td>\n",
              "      <td>1623</td>\n",
              "    </tr>\n",
              "    <tr>\n",
              "      <th>3</th>\n",
              "      <td>not</td>\n",
              "      <td>1586</td>\n",
              "    </tr>\n",
              "    <tr>\n",
              "      <th>4</th>\n",
              "      <td>no</td>\n",
              "      <td>1507</td>\n",
              "    </tr>\n",
              "    <tr>\n",
              "      <th>5</th>\n",
              "      <td>hour</td>\n",
              "      <td>1167</td>\n",
              "    </tr>\n",
              "    <tr>\n",
              "      <th>6</th>\n",
              "      <td>cancel</td>\n",
              "      <td>1065</td>\n",
              "    </tr>\n",
              "    <tr>\n",
              "      <th>7</th>\n",
              "      <td>help</td>\n",
              "      <td>1062</td>\n",
              "    </tr>\n",
              "    <tr>\n",
              "      <th>8</th>\n",
              "      <td>delay</td>\n",
              "      <td>1010</td>\n",
              "    </tr>\n",
              "    <tr>\n",
              "      <th>9</th>\n",
              "      <td>servic</td>\n",
              "      <td>1002</td>\n",
              "    </tr>\n",
              "    <tr>\n",
              "      <th>10</th>\n",
              "      <td>time</td>\n",
              "      <td>987</td>\n",
              "    </tr>\n",
              "    <tr>\n",
              "      <th>11</th>\n",
              "      <td>custom</td>\n",
              "      <td>947</td>\n",
              "    </tr>\n",
              "    <tr>\n",
              "      <th>12</th>\n",
              "      <td>call</td>\n",
              "      <td>792</td>\n",
              "    </tr>\n",
              "    <tr>\n",
              "      <th>13</th>\n",
              "      <td>bag</td>\n",
              "      <td>771</td>\n",
              "    </tr>\n",
              "    <tr>\n",
              "      <th>14</th>\n",
              "      <td>wait</td>\n",
              "      <td>754</td>\n",
              "    </tr>\n",
              "    <tr>\n",
              "      <th>15</th>\n",
              "      <td>plane</td>\n",
              "      <td>735</td>\n",
              "    </tr>\n",
              "    <tr>\n",
              "      <th>16</th>\n",
              "      <td>us</td>\n",
              "      <td>705</td>\n",
              "    </tr>\n",
              "    <tr>\n",
              "      <th>17</th>\n",
              "      <td>fli</td>\n",
              "      <td>702</td>\n",
              "    </tr>\n",
              "    <tr>\n",
              "      <th>18</th>\n",
              "      <td>need</td>\n",
              "      <td>688</td>\n",
              "    </tr>\n",
              "    <tr>\n",
              "      <th>19</th>\n",
              "      <td>hold</td>\n",
              "      <td>687</td>\n",
              "    </tr>\n",
              "  </tbody>\n",
              "</table>\n",
              "</div>\n",
              "      <button class=\"colab-df-convert\" onclick=\"convertToInteractive('df-98972989-a298-42fe-a3f5-7e11315eb3eb')\"\n",
              "              title=\"Convert this dataframe to an interactive table.\"\n",
              "              style=\"display:none;\">\n",
              "\n",
              "  <svg xmlns=\"http://www.w3.org/2000/svg\" height=\"24px\"viewBox=\"0 0 24 24\"\n",
              "       width=\"24px\">\n",
              "    <path d=\"M0 0h24v24H0V0z\" fill=\"none\"/>\n",
              "    <path d=\"M18.56 5.44l.94 2.06.94-2.06 2.06-.94-2.06-.94-.94-2.06-.94 2.06-2.06.94zm-11 1L8.5 8.5l.94-2.06 2.06-.94-2.06-.94L8.5 2.5l-.94 2.06-2.06.94zm10 10l.94 2.06.94-2.06 2.06-.94-2.06-.94-.94-2.06-.94 2.06-2.06.94z\"/><path d=\"M17.41 7.96l-1.37-1.37c-.4-.4-.92-.59-1.43-.59-.52 0-1.04.2-1.43.59L10.3 9.45l-7.72 7.72c-.78.78-.78 2.05 0 2.83L4 21.41c.39.39.9.59 1.41.59.51 0 1.02-.2 1.41-.59l7.78-7.78 2.81-2.81c.8-.78.8-2.07 0-2.86zM5.41 20L4 18.59l7.72-7.72 1.47 1.35L5.41 20z\"/>\n",
              "  </svg>\n",
              "      </button>\n",
              "\n",
              "\n",
              "\n",
              "    <div id=\"df-c66a888d-8605-4c74-8f4d-f9d35de025b1\">\n",
              "      <button class=\"colab-df-quickchart\" onclick=\"quickchart('df-c66a888d-8605-4c74-8f4d-f9d35de025b1')\"\n",
              "              title=\"Suggest charts.\"\n",
              "              style=\"display:none;\">\n",
              "\n",
              "<svg xmlns=\"http://www.w3.org/2000/svg\" height=\"24px\"viewBox=\"0 0 24 24\"\n",
              "     width=\"24px\">\n",
              "    <g>\n",
              "        <path d=\"M19 3H5c-1.1 0-2 .9-2 2v14c0 1.1.9 2 2 2h14c1.1 0 2-.9 2-2V5c0-1.1-.9-2-2-2zM9 17H7v-7h2v7zm4 0h-2V7h2v10zm4 0h-2v-4h2v4z\"/>\n",
              "    </g>\n",
              "</svg>\n",
              "      </button>\n",
              "    </div>\n",
              "\n",
              "<style>\n",
              "  .colab-df-quickchart {\n",
              "    background-color: #E8F0FE;\n",
              "    border: none;\n",
              "    border-radius: 50%;\n",
              "    cursor: pointer;\n",
              "    display: none;\n",
              "    fill: #1967D2;\n",
              "    height: 32px;\n",
              "    padding: 0 0 0 0;\n",
              "    width: 32px;\n",
              "  }\n",
              "\n",
              "  .colab-df-quickchart:hover {\n",
              "    background-color: #E2EBFA;\n",
              "    box-shadow: 0px 1px 2px rgba(60, 64, 67, 0.3), 0px 1px 3px 1px rgba(60, 64, 67, 0.15);\n",
              "    fill: #174EA6;\n",
              "  }\n",
              "\n",
              "  [theme=dark] .colab-df-quickchart {\n",
              "    background-color: #3B4455;\n",
              "    fill: #D2E3FC;\n",
              "  }\n",
              "\n",
              "  [theme=dark] .colab-df-quickchart:hover {\n",
              "    background-color: #434B5C;\n",
              "    box-shadow: 0px 1px 3px 1px rgba(0, 0, 0, 0.15);\n",
              "    filter: drop-shadow(0px 1px 2px rgba(0, 0, 0, 0.3));\n",
              "    fill: #FFFFFF;\n",
              "  }\n",
              "</style>\n",
              "\n",
              "    <script>\n",
              "      async function quickchart(key) {\n",
              "        const containerElement = document.querySelector('#' + key);\n",
              "        const charts = await google.colab.kernel.invokeFunction(\n",
              "            'suggestCharts', [key], {});\n",
              "      }\n",
              "    </script>\n",
              "\n",
              "      <script>\n",
              "\n",
              "function displayQuickchartButton(domScope) {\n",
              "  let quickchartButtonEl =\n",
              "    domScope.querySelector('#df-c66a888d-8605-4c74-8f4d-f9d35de025b1 button.colab-df-quickchart');\n",
              "  quickchartButtonEl.style.display =\n",
              "    google.colab.kernel.accessAllowed ? 'block' : 'none';\n",
              "}\n",
              "\n",
              "        displayQuickchartButton(document);\n",
              "      </script>\n",
              "      <style>\n",
              "    .colab-df-container {\n",
              "      display:flex;\n",
              "      flex-wrap:wrap;\n",
              "      gap: 12px;\n",
              "    }\n",
              "\n",
              "    .colab-df-convert {\n",
              "      background-color: #E8F0FE;\n",
              "      border: none;\n",
              "      border-radius: 50%;\n",
              "      cursor: pointer;\n",
              "      display: none;\n",
              "      fill: #1967D2;\n",
              "      height: 32px;\n",
              "      padding: 0 0 0 0;\n",
              "      width: 32px;\n",
              "    }\n",
              "\n",
              "    .colab-df-convert:hover {\n",
              "      background-color: #E2EBFA;\n",
              "      box-shadow: 0px 1px 2px rgba(60, 64, 67, 0.3), 0px 1px 3px 1px rgba(60, 64, 67, 0.15);\n",
              "      fill: #174EA6;\n",
              "    }\n",
              "\n",
              "    [theme=dark] .colab-df-convert {\n",
              "      background-color: #3B4455;\n",
              "      fill: #D2E3FC;\n",
              "    }\n",
              "\n",
              "    [theme=dark] .colab-df-convert:hover {\n",
              "      background-color: #434B5C;\n",
              "      box-shadow: 0px 1px 3px 1px rgba(0, 0, 0, 0.15);\n",
              "      filter: drop-shadow(0px 1px 2px rgba(0, 0, 0, 0.3));\n",
              "      fill: #FFFFFF;\n",
              "    }\n",
              "  </style>\n",
              "\n",
              "      <script>\n",
              "        const buttonEl =\n",
              "          document.querySelector('#df-98972989-a298-42fe-a3f5-7e11315eb3eb button.colab-df-convert');\n",
              "        buttonEl.style.display =\n",
              "          google.colab.kernel.accessAllowed ? 'block' : 'none';\n",
              "\n",
              "        async function convertToInteractive(key) {\n",
              "          const element = document.querySelector('#df-98972989-a298-42fe-a3f5-7e11315eb3eb');\n",
              "          const dataTable =\n",
              "            await google.colab.kernel.invokeFunction('convertToInteractive',\n",
              "                                                     [key], {});\n",
              "          if (!dataTable) return;\n",
              "\n",
              "          const docLinkHtml = 'Like what you see? Visit the ' +\n",
              "            '<a target=\"_blank\" href=https://colab.research.google.com/notebooks/data_table.ipynb>data table notebook</a>'\n",
              "            + ' to learn more about interactive tables.';\n",
              "          element.innerHTML = '';\n",
              "          dataTable['output_type'] = 'display_data';\n",
              "          await google.colab.output.renderOutput(dataTable, element);\n",
              "          const docLink = document.createElement('div');\n",
              "          docLink.innerHTML = docLinkHtml;\n",
              "          element.appendChild(docLink);\n",
              "        }\n",
              "      </script>\n",
              "    </div>\n",
              "  </div>\n"
            ]
          },
          "metadata": {},
          "execution_count": 22
        }
      ],
      "source": [
        "word_counter_df"
      ]
    },
    {
      "cell_type": "code",
      "execution_count": 23,
      "metadata": {
        "colab": {
          "base_uri": "https://localhost:8080/",
          "height": 864
        },
        "id": "wV3zeNDqqIf5",
        "outputId": "9634e7b4-45c8-4d03-b177-495004236f07"
      },
      "outputs": [
        {
          "output_type": "display_data",
          "data": {
            "text/plain": [
              "<Figure size 1200x1000 with 1 Axes>"
            ],
            "image/png": "[encoded data removed]"
          },
          "metadata": {}
        }
      ],
      "source": [
        "\n",
        "fig,ax=plt.subplots(figsize=(12,10))\n",
        "sns.barplot(x=\"word\",y=\"freq\",data=word_counter_df,palette=\"PuBuGn_d\",ax=ax)\n",
        "plt.show();\n"
      ]
    },
    {
      "cell_type": "markdown",
      "source": [
        "*The above bar plot displays the top 20 most common words and their frequencies in the text data. Which can be helpful for understanding the content and characteristics of the text data.*"
      ],
      "metadata": {
        "id": "vkRPvaLORoSK"
      }
    },
    {
      "cell_type": "markdown",
      "source": [
        "The **grid_vect** function is defined to perform grid search over a combination of classifier parameters and text vectorization parameters. The function aims to find the best combination of these parameters for a given classifier model and text data."
      ],
      "metadata": {
        "id": "mrSL5-2NSID4"
      }
    },
    {
      "cell_type": "code",
      "execution_count": 24,
      "metadata": {
        "id": "KOWNEZFpf-s6"
      },
      "outputs": [],
      "source": [
        "def grid_vect(clf,parameters_clf,X_train,X_test,parameters_text=None,vect=None,is_w2v=False):\n",
        "  textcountscols=['count_capital_words','count_emojis','count_excl_quest_marks','count_hashtags'\n",
        "                   ,'count_mentions','count_urls','count_words']\n",
        "\n",
        "  if is_w2v:\n",
        "    w2vcols=[]\n",
        "    for i in range(SIZE):\n",
        "        w2vcols.append(i)\n",
        "    features=FeatureUnion([('textcounts',ColumnExtractor(cols=textcountscols))\n",
        "                          ,('w2v',ColumnExtractor(cols=w2vcols))]\n",
        "                          ,n_jobs=-1)\n",
        "  else:\n",
        "    features=FeatureUnion([('textcounts',ColumnExtractor(cols=textcountscols))\n",
        "                           ,('pipe',Pipeline([('cleantext',ColumnExtractor(cols='clean_text')),('vect',vect)]))]\n",
        "                         ,n_jobs=-1 )\n",
        "\n",
        "  pipeline=Pipeline([('features',features)\n",
        "                 ,('clf',clf)])\n",
        "\n",
        "\n",
        "  #join the parameters dictionaries together\n",
        "  parameters =dict()\n",
        "  if parameters_text:\n",
        "    parameters.update(parameters_text)\n",
        "  parameters.update(parameters_clf)\n",
        "  grid_search=GridSearchCV(pipeline,parameters,n_jobs=-1,verbose=1,cv=5,refit=True, error_score=0.0)\n",
        "\n",
        "  print(\"Performing grid search....\")\n",
        "  print(\"pipeline:\",[name for name, _ in pipeline.steps])\n",
        "  print(\"Parameters:\")\n",
        "  pprint(parameters)\n",
        "  t0=time()\n",
        "  grid_search.fit(X_train,y_train)\n",
        "  print(\"done in %0.3f\" % (time() - t0))\n",
        "  print()\n",
        "  print(\"Best CV score: %0.3f\" % grid_search.best_score_)\n",
        "  print(\"Best parameters set:\")\n",
        "  best_parameters=grid_search.best_estimator_.get_params()\n",
        "  for param_name in sorted(parameters.keys()):\n",
        "    print(\"\\t%s : %r\" % (param_name,best_parameters[param_name]))\n",
        "\n",
        "  print(\"Test score with best_estimator_: %0.3f\" % grid_search.best_estimator_.score(X_test,y_test))\n",
        "  print(\"\\n\")\n",
        "  print(\"Classification Report Test Data\")\n",
        "  print(classification_report(y_test,grid_search.best_estimator_.predict(X_test)))\n",
        "  return grid_search\n",
        "\n"
      ]
    },
    {
      "cell_type": "markdown",
      "source": [
        "The **ColumnExtractor** transformer can be used within Scikit-learn pipelines to extract specific columns from the input data and pass only those columns to subsequent steps in the pipeline, enabling data selection and feature engineering as part of the pipeline's data processing flow."
      ],
      "metadata": {
        "id": "jMKNJ61nTMFI"
      }
    },
    {
      "cell_type": "code",
      "execution_count": 25,
      "metadata": {
        "id": "8AUwiT3-rs4N"
      },
      "outputs": [],
      "source": [
        "class ColumnExtractor (TransformerMixin, BaseEstimator):\n",
        "  def __init__(self, cols):\n",
        "    self.cols = cols\n",
        "\n",
        "  def fit(self, X, y=None, **fit_params):\n",
        "    return self\n",
        "\n",
        "  def transform(self, X, **transform_params):\n",
        "    return X[self.cols]\n"
      ]
    },
    {
      "cell_type": "markdown",
      "source": [
        "The **TextCounts** transformer can be used within Scikit-learn pipelines to count specific text patterns in each document of the input data."
      ],
      "metadata": {
        "id": "Wj5nbRGBTcVA"
      }
    },
    {
      "cell_type": "code",
      "execution_count": 26,
      "metadata": {
        "id": "TOhWITnutV6X"
      },
      "outputs": [],
      "source": [
        "class TextCounts (BaseEstimator, TransformerMixin):\n",
        "\n",
        "    def count_regex (self, pattern, tweet):\n",
        "      return len(re.findall (pattern, tweet))\n",
        "\n",
        "    def fit(self, X, y=None, **fit_params):\n",
        "      return self    # fit method is used when specific operations need to be done on the train data, but not on the test data\n",
        "\n",
        "\n",
        "    def transform(self, X, **transform_params):\n",
        "      count_words = X.apply(lambda x: self.count_regex (r'\\w+',x))\n",
        "      count_mentions= X.apply(lambda x: self.count_regex (r'@\\w+',x))\n",
        "      count_hashtags = X.apply(lambda x: self.count_regex (r'#\\w+', x))\n",
        "      count_capital_words = X.apply(lambda x: self.count_regex(r'\\b[A-Z]{2,}\\b', x))\n",
        "      count_excl_quest_marks=X.apply(lambda x:self.count_regex(r'!|\\?',x))\n",
        "      count_urls=X.apply(lambda x:self.count_regex(r'http.?://[^\\s]+[\\s]?',x))\n",
        "      count_emojis=X.apply(lambda x:emoji.demojize(x)).apply(lambda x:self.count_regex(r':[a-z_&]+:',x))\n",
        "\n",
        "      df =pd.DataFrame({'count_words' :count_words\n",
        "\n",
        "                   ,'count_mentions': count_mentions\n",
        "                   ,'count_hashtags': count_hashtags\n",
        "                   ,'count_capital_words':count_capital_words\n",
        "                   ,'count_excl_quest_marks':count_excl_quest_marks\n",
        "                   ,'count_urls': count_urls\n",
        "                   ,'count_emojis': count_emojis\n",
        "                       })\n",
        "\n",
        "      return df\n"
      ]
    },
    {
      "cell_type": "code",
      "execution_count": 27,
      "metadata": {
        "id": "JyP3Q7R0kMva"
      },
      "outputs": [],
      "source": [
        "tc = TextCounts()\n",
        "airlines_eda=tc.fit_transform(airlines_train.text)\n",
        "airlines_eda['airline_sentiment']=airlines_train.airline_sentiment\n",
        "\n"
      ]
    },
    {
      "cell_type": "code",
      "execution_count": 28,
      "metadata": {
        "id": "lmuU7iLFQFjj"
      },
      "outputs": [],
      "source": [
        "df_model = airlines_eda\n",
        "\n",
        "df_model['clean_text'] = sr_clean"
      ]
    },
    {
      "cell_type": "markdown",
      "source": [
        "The **df_model** will be a DataFrame that contains the counts of various text patterns (extracted by the **TextCounts** transformer) for each text document, along with the '**clean_text**' column that holds the preprocessed text data obtained from the CleanText transformer."
      ],
      "metadata": {
        "id": "r_PY3WvtUCSR"
      }
    },
    {
      "cell_type": "code",
      "execution_count": 29,
      "metadata": {
        "colab": {
          "base_uri": "https://localhost:8080/",
          "height": 589
        },
        "id": "pXopqg1jQLrG",
        "outputId": "e126ac14-edd7-439b-a507-52274b106bfd"
      },
      "outputs": [
        {
          "output_type": "execute_result",
          "data": {
            "text/plain": [
              "       count_words  count_mentions  count_hashtags  count_capital_words  \\\n",
              "10620  9            1               2               0                     \n",
              "13609  21           1               1               1                     \n",
              "2955   14           2               0               1                     \n",
              "3585   28           1               0               1                     \n",
              "2087   18           1               0               1                     \n",
              "...    ..          ..              ..              ..                     \n",
              "988    2            1               0               0                     \n",
              "14587  25           1               0               0                     \n",
              "9036   24           1               0               2                     \n",
              "4459   25           1               0               1                     \n",
              "1935   7            1               0               0                     \n",
              "\n",
              "       count_excl_quest_marks  count_urls  count_emojis airline_sentiment  \\\n",
              "10620  0                       0           0             negative           \n",
              "13609  0                       0           0             negative           \n",
              "2955   0                       0           0             negative           \n",
              "3585   0                       0           0             negative           \n",
              "2087   0                       0           0             negative           \n",
              "...   ..                      ..          ..                  ...           \n",
              "988    0                       0           0             neutral            \n",
              "14587  0                       0           0             negative           \n",
              "9036   0                       0           0             neutral            \n",
              "4459   0                       0           0             negative           \n",
              "1935   0                       1           0             negative           \n",
              "\n",
              "                                                                                clean_text  \n",
              "10620  told work joke fail                                                                  \n",
              "13609  aa usair elit member one big disappoint way treat epicfailur                         \n",
              "2955   bummer might go card instead ty respons though                                       \n",
              "3585   well incom flight dca take us ewr delay made us miss connect fll ye hotel necessari  \n",
              "2087   tri chang flight three time phone got disconnect time                                \n",
              "...                                                      ...                                \n",
              "988    done                                                                                 \n",
              "14587  i’ll play ear know best buy chewey oatmeal cooki custom care folk                    \n",
              "9036   left person stuff us phl bo hour ago went baggag told plane left call                \n",
              "4459   tri vip live vineyard yr site went time got redeem pt packag gone                    \n",
              "1935   lie                                                                                  \n",
              "\n",
              "[14640 rows x 9 columns]"
            ],
            "text/html": [
              "\n",
              "\n",
              "  <div id=\"df-aa15f8a1-6bed-4d2e-b396-2b488263e1bb\">\n",
              "    <div class=\"colab-df-container\">\n",
              "      <div>\n",
              "<style scoped>\n",
              "    .dataframe tbody tr th:only-of-type {\n",
              "        vertical-align: middle;\n",
              "    }\n",
              "\n",
              "    .dataframe tbody tr th {\n",
              "        vertical-align: top;\n",
              "    }\n",
              "\n",
              "    .dataframe thead th {\n",
              "        text-align: right;\n",
              "    }\n",
              "</style>\n",
              "<table border=\"1\" class=\"dataframe\">\n",
              "  <thead>\n",
              "    <tr style=\"text-align: right;\">\n",
              "      <th></th>\n",
              "      <th>count_words</th>\n",
              "      <th>count_mentions</th>\n",
              "      <th>count_hashtags</th>\n",
              "      <th>count_capital_words</th>\n",
              "      <th>count_excl_quest_marks</th>\n",
              "      <th>count_urls</th>\n",
              "      <th>count_emojis</th>\n",
              "      <th>airline_sentiment</th>\n",
              "      <th>clean_text</th>\n",
              "    </tr>\n",
              "  </thead>\n",
              "  <tbody>\n",
              "    <tr>\n",
              "      <th>10620</th>\n",
              "      <td>9</td>\n",
              "      <td>1</td>\n",
              "      <td>2</td>\n",
              "      <td>0</td>\n",
              "      <td>0</td>\n",
              "      <td>0</td>\n",
              "      <td>0</td>\n",
              "      <td>negative</td>\n",
              "      <td>told work joke fail</td>\n",
              "    </tr>\n",
              "    <tr>\n",
              "      <th>13609</th>\n",
              "      <td>21</td>\n",
              "      <td>1</td>\n",
              "      <td>1</td>\n",
              "      <td>1</td>\n",
              "      <td>0</td>\n",
              "      <td>0</td>\n",
              "      <td>0</td>\n",
              "      <td>negative</td>\n",
              "      <td>aa usair elit member one big disappoint way treat epicfailur</td>\n",
              "    </tr>\n",
              "    <tr>\n",
              "      <th>2955</th>\n",
              "      <td>14</td>\n",
              "      <td>2</td>\n",
              "      <td>0</td>\n",
              "      <td>1</td>\n",
              "      <td>0</td>\n",
              "      <td>0</td>\n",
              "      <td>0</td>\n",
              "      <td>negative</td>\n",
              "      <td>bummer might go card instead ty respons though</td>\n",
              "    </tr>\n",
              "    <tr>\n",
              "      <th>3585</th>\n",
              "      <td>28</td>\n",
              "      <td>1</td>\n",
              "      <td>0</td>\n",
              "      <td>1</td>\n",
              "      <td>0</td>\n",
              "      <td>0</td>\n",
              "      <td>0</td>\n",
              "      <td>negative</td>\n",
              "      <td>well incom flight dca take us ewr delay made us miss connect fll ye hotel necessari</td>\n",
              "    </tr>\n",
              "    <tr>\n",
              "      <th>2087</th>\n",
              "      <td>18</td>\n",
              "      <td>1</td>\n",
              "      <td>0</td>\n",
              "      <td>1</td>\n",
              "      <td>0</td>\n",
              "      <td>0</td>\n",
              "      <td>0</td>\n",
              "      <td>negative</td>\n",
              "      <td>tri chang flight three time phone got disconnect time</td>\n",
              "    </tr>\n",
              "    <tr>\n",
              "      <th>...</th>\n",
              "      <td>...</td>\n",
              "      <td>...</td>\n",
              "      <td>...</td>\n",
              "      <td>...</td>\n",
              "      <td>...</td>\n",
              "      <td>...</td>\n",
              "      <td>...</td>\n",
              "      <td>...</td>\n",
              "      <td>...</td>\n",
              "    </tr>\n",
              "    <tr>\n",
              "      <th>988</th>\n",
              "      <td>2</td>\n",
              "      <td>1</td>\n",
              "      <td>0</td>\n",
              "      <td>0</td>\n",
              "      <td>0</td>\n",
              "      <td>0</td>\n",
              "      <td>0</td>\n",
              "      <td>neutral</td>\n",
              "      <td>done</td>\n",
              "    </tr>\n",
              "    <tr>\n",
              "      <th>14587</th>\n",
              "      <td>25</td>\n",
              "      <td>1</td>\n",
              "      <td>0</td>\n",
              "      <td>0</td>\n",
              "      <td>0</td>\n",
              "      <td>0</td>\n",
              "      <td>0</td>\n",
              "      <td>negative</td>\n",
              "      <td>i’ll play ear know best buy chewey oatmeal cooki custom care folk</td>\n",
              "    </tr>\n",
              "    <tr>\n",
              "      <th>9036</th>\n",
              "      <td>24</td>\n",
              "      <td>1</td>\n",
              "      <td>0</td>\n",
              "      <td>2</td>\n",
              "      <td>0</td>\n",
              "      <td>0</td>\n",
              "      <td>0</td>\n",
              "      <td>neutral</td>\n",
              "      <td>left person stuff us phl bo hour ago went baggag told plane left call</td>\n",
              "    </tr>\n",
              "    <tr>\n",
              "      <th>4459</th>\n",
              "      <td>25</td>\n",
              "      <td>1</td>\n",
              "      <td>0</td>\n",
              "      <td>1</td>\n",
              "      <td>0</td>\n",
              "      <td>0</td>\n",
              "      <td>0</td>\n",
              "      <td>negative</td>\n",
              "      <td>tri vip live vineyard yr site went time got redeem pt packag gone</td>\n",
              "    </tr>\n",
              "    <tr>\n",
              "      <th>1935</th>\n",
              "      <td>7</td>\n",
              "      <td>1</td>\n",
              "      <td>0</td>\n",
              "      <td>0</td>\n",
              "      <td>0</td>\n",
              "      <td>1</td>\n",
              "      <td>0</td>\n",
              "      <td>negative</td>\n",
              "      <td>lie</td>\n",
              "    </tr>\n",
              "  </tbody>\n",
              "</table>\n",
              "<p>14640 rows × 9 columns</p>\n",
              "</div>\n",
              "      <button class=\"colab-df-convert\" onclick=\"convertToInteractive('df-aa15f8a1-6bed-4d2e-b396-2b488263e1bb')\"\n",
              "              title=\"Convert this dataframe to an interactive table.\"\n",
              "              style=\"display:none;\">\n",
              "\n",
              "  <svg xmlns=\"http://www.w3.org/2000/svg\" height=\"24px\"viewBox=\"0 0 24 24\"\n",
              "       width=\"24px\">\n",
              "    <path d=\"M0 0h24v24H0V0z\" fill=\"none\"/>\n",
              "    <path d=\"M18.56 5.44l.94 2.06.94-2.06 2.06-.94-2.06-.94-.94-2.06-.94 2.06-2.06.94zm-11 1L8.5 8.5l.94-2.06 2.06-.94-2.06-.94L8.5 2.5l-.94 2.06-2.06.94zm10 10l.94 2.06.94-2.06 2.06-.94-2.06-.94-.94-2.06-.94 2.06-2.06.94z\"/><path d=\"M17.41 7.96l-1.37-1.37c-.4-.4-.92-.59-1.43-.59-.52 0-1.04.2-1.43.59L10.3 9.45l-7.72 7.72c-.78.78-.78 2.05 0 2.83L4 21.41c.39.39.9.59 1.41.59.51 0 1.02-.2 1.41-.59l7.78-7.78 2.81-2.81c.8-.78.8-2.07 0-2.86zM5.41 20L4 18.59l7.72-7.72 1.47 1.35L5.41 20z\"/>\n",
              "  </svg>\n",
              "      </button>\n",
              "\n",
              "\n",
              "\n",
              "    <div id=\"df-bba8089d-9c1d-477d-b048-ca25607bfdad\">\n",
              "      <button class=\"colab-df-quickchart\" onclick=\"quickchart('df-bba8089d-9c1d-477d-b048-ca25607bfdad')\"\n",
              "              title=\"Suggest charts.\"\n",
              "              style=\"display:none;\">\n",
              "\n",
              "<svg xmlns=\"http://www.w3.org/2000/svg\" height=\"24px\"viewBox=\"0 0 24 24\"\n",
              "     width=\"24px\">\n",
              "    <g>\n",
              "        <path d=\"M19 3H5c-1.1 0-2 .9-2 2v14c0 1.1.9 2 2 2h14c1.1 0 2-.9 2-2V5c0-1.1-.9-2-2-2zM9 17H7v-7h2v7zm4 0h-2V7h2v10zm4 0h-2v-4h2v4z\"/>\n",
              "    </g>\n",
              "</svg>\n",
              "      </button>\n",
              "    </div>\n",
              "\n",
              "<style>\n",
              "  .colab-df-quickchart {\n",
              "    background-color: #E8F0FE;\n",
              "    border: none;\n",
              "    border-radius: 50%;\n",
              "    cursor: pointer;\n",
              "    display: none;\n",
              "    fill: #1967D2;\n",
              "    height: 32px;\n",
              "    padding: 0 0 0 0;\n",
              "    width: 32px;\n",
              "  }\n",
              "\n",
              "  .colab-df-quickchart:hover {\n",
              "    background-color: #E2EBFA;\n",
              "    box-shadow: 0px 1px 2px rgba(60, 64, 67, 0.3), 0px 1px 3px 1px rgba(60, 64, 67, 0.15);\n",
              "    fill: #174EA6;\n",
              "  }\n",
              "\n",
              "  [theme=dark] .colab-df-quickchart {\n",
              "    background-color: #3B4455;\n",
              "    fill: #D2E3FC;\n",
              "  }\n",
              "\n",
              "  [theme=dark] .colab-df-quickchart:hover {\n",
              "    background-color: #434B5C;\n",
              "    box-shadow: 0px 1px 3px 1px rgba(0, 0, 0, 0.15);\n",
              "    filter: drop-shadow(0px 1px 2px rgba(0, 0, 0, 0.3));\n",
              "    fill: #FFFFFF;\n",
              "  }\n",
              "</style>\n",
              "\n",
              "    <script>\n",
              "      async function quickchart(key) {\n",
              "        const containerElement = document.querySelector('#' + key);\n",
              "        const charts = await google.colab.kernel.invokeFunction(\n",
              "            'suggestCharts', [key], {});\n",
              "      }\n",
              "    </script>\n",
              "\n",
              "      <script>\n",
              "\n",
              "function displayQuickchartButton(domScope) {\n",
              "  let quickchartButtonEl =\n",
              "    domScope.querySelector('#df-bba8089d-9c1d-477d-b048-ca25607bfdad button.colab-df-quickchart');\n",
              "  quickchartButtonEl.style.display =\n",
              "    google.colab.kernel.accessAllowed ? 'block' : 'none';\n",
              "}\n",
              "\n",
              "        displayQuickchartButton(document);\n",
              "      </script>\n",
              "      <style>\n",
              "    .colab-df-container {\n",
              "      display:flex;\n",
              "      flex-wrap:wrap;\n",
              "      gap: 12px;\n",
              "    }\n",
              "\n",
              "    .colab-df-convert {\n",
              "      background-color: #E8F0FE;\n",
              "      border: none;\n",
              "      border-radius: 50%;\n",
              "      cursor: pointer;\n",
              "      display: none;\n",
              "      fill: #1967D2;\n",
              "      height: 32px;\n",
              "      padding: 0 0 0 0;\n",
              "      width: 32px;\n",
              "    }\n",
              "\n",
              "    .colab-df-convert:hover {\n",
              "      background-color: #E2EBFA;\n",
              "      box-shadow: 0px 1px 2px rgba(60, 64, 67, 0.3), 0px 1px 3px 1px rgba(60, 64, 67, 0.15);\n",
              "      fill: #174EA6;\n",
              "    }\n",
              "\n",
              "    [theme=dark] .colab-df-convert {\n",
              "      background-color: #3B4455;\n",
              "      fill: #D2E3FC;\n",
              "    }\n",
              "\n",
              "    [theme=dark] .colab-df-convert:hover {\n",
              "      background-color: #434B5C;\n",
              "      box-shadow: 0px 1px 3px 1px rgba(0, 0, 0, 0.15);\n",
              "      filter: drop-shadow(0px 1px 2px rgba(0, 0, 0, 0.3));\n",
              "      fill: #FFFFFF;\n",
              "    }\n",
              "  </style>\n",
              "\n",
              "      <script>\n",
              "        const buttonEl =\n",
              "          document.querySelector('#df-aa15f8a1-6bed-4d2e-b396-2b488263e1bb button.colab-df-convert');\n",
              "        buttonEl.style.display =\n",
              "          google.colab.kernel.accessAllowed ? 'block' : 'none';\n",
              "\n",
              "        async function convertToInteractive(key) {\n",
              "          const element = document.querySelector('#df-aa15f8a1-6bed-4d2e-b396-2b488263e1bb');\n",
              "          const dataTable =\n",
              "            await google.colab.kernel.invokeFunction('convertToInteractive',\n",
              "                                                     [key], {});\n",
              "          if (!dataTable) return;\n",
              "\n",
              "          const docLinkHtml = 'Like what you see? Visit the ' +\n",
              "            '<a target=\"_blank\" href=https://colab.research.google.com/notebooks/data_table.ipynb>data table notebook</a>'\n",
              "            + ' to learn more about interactive tables.';\n",
              "          element.innerHTML = '';\n",
              "          dataTable['output_type'] = 'display_data';\n",
              "          await google.colab.output.renderOutput(dataTable, element);\n",
              "          const docLink = document.createElement('div');\n",
              "          docLink.innerHTML = docLinkHtml;\n",
              "          element.appendChild(docLink);\n",
              "        }\n",
              "      </script>\n",
              "    </div>\n",
              "  </div>\n"
            ]
          },
          "metadata": {},
          "execution_count": 29
        }
      ],
      "source": [
        "df_model"
      ]
    },
    {
      "cell_type": "code",
      "source": [
        "df_model.columns.tolist()"
      ],
      "metadata": {
        "id": "qwu7FSiC9RfD",
        "colab": {
          "base_uri": "https://localhost:8080/"
        },
        "outputId": "db59a55e-fa40-485d-97c3-a497421745b7"
      },
      "execution_count": 30,
      "outputs": [
        {
          "output_type": "execute_result",
          "data": {
            "text/plain": [
              "['count_words',\n",
              " 'count_mentions',\n",
              " 'count_hashtags',\n",
              " 'count_capital_words',\n",
              " 'count_excl_quest_marks',\n",
              " 'count_urls',\n",
              " 'count_emojis',\n",
              " 'airline_sentiment',\n",
              " 'clean_text']"
            ]
          },
          "metadata": {},
          "execution_count": 30
        }
      ]
    },
    {
      "cell_type": "markdown",
      "source": [
        "* Divide our data into training and testing sets. The training set will be used to train the algorithm while the test set will be used to evaluate the performance of the machine learning model.*"
      ],
      "metadata": {
        "id": "C_tqfHNl9VTM"
      }
    },
    {
      "cell_type": "code",
      "execution_count": 31,
      "metadata": {
        "id": "dL358CBNQVcN"
      },
      "outputs": [],
      "source": [
        "X_train, X_test, y_train, y_test = train_test_split(df_model.drop ('airline_sentiment', axis=1), df_model.airline_sentiment,test_size=0.1, random_state=37)"
      ]
    },
    {
      "cell_type": "markdown",
      "source": [
        " creating 4 classifier instances (mnb, logreg, countvect and tfidfvect) are created using the classes from Scikit-learn for Multinomial Naive Bayes, Logistic Regression, and CountVectorizer respectively."
      ],
      "metadata": {
        "id": "lk5hNVDzUX-v"
      }
    },
    {
      "cell_type": "code",
      "execution_count": 32,
      "metadata": {
        "id": "wOzO6mHyQZxq"
      },
      "outputs": [],
      "source": [
        "\n",
        "mnb = MultinomialNB()\n",
        "\n",
        "logreg= LogisticRegression()\n",
        "\n",
        "countvect=CountVectorizer()\n",
        "\n",
        "tfidfvect = TfidfVectorizer()\n"
      ]
    },
    {
      "cell_type": "markdown",
      "source": [
        "*Parameter grid settings for the vectorizers (Count and TFIDF)*\n"
      ],
      "metadata": {
        "id": "7_9EkcdVoOUK"
      }
    },
    {
      "cell_type": "code",
      "execution_count": 33,
      "metadata": {
        "id": "QrRwaK-3f_Ok"
      },
      "outputs": [],
      "source": [
        "parameters_vect = {'features__pipe__vect__max_df': (0.25, 0.5),\n",
        "                   'features__pipe__vect__ngram_range': ((1, 1), (1, 2)),\n",
        "                   'features__pipe__vect__min_df': (1,2)}\n",
        "\n",
        "#Parameter grid settings for Multinomial NB\n",
        "parameters_mnb = { 'clf__alpha': (0.25, 0.5)}\n",
        "\n",
        " # Parameter grid settings for LogisticRegression\n",
        "parameters_logreg = {\n",
        "                      'clf__C': (0.25,1.0),\n",
        "                      'clf__penalty':('l1','l2')}"
      ]
    },
    {
      "cell_type": "markdown",
      "source": [
        "# **Hyperparameter Tuning**"
      ],
      "metadata": {
        "id": "xVC1T0rgYwCf"
      }
    },
    {
      "cell_type": "markdown",
      "source": [
        " The **Multinomial Naive Bayes** classifier (mnb) is used in combination with the **CountVectorizer** (countvect) to perform grid search for finding the best hyperparameters for the classifier."
      ],
      "metadata": {
        "id": "hEWYYXf_UnYB"
      }
    },
    {
      "cell_type": "code",
      "execution_count": 34,
      "metadata": {
        "colab": {
          "base_uri": "https://localhost:8080/"
        },
        "id": "tWwq234CQdaH",
        "outputId": "0779eb54-c916-4af2-fc6f-c8a3f3dc543a"
      },
      "outputs": [
        {
          "output_type": "stream",
          "name": "stdout",
          "text": [
            "Performing grid search....\n",
            "pipeline: ['features', 'clf']\n",
            "Parameters:\n",
            "{'clf__alpha': (0.25, 0.5),\n",
            " 'features__pipe__vect__max_df': (0.25, 0.5),\n",
            " 'features__pipe__vect__min_df': (1, 2),\n",
            " 'features__pipe__vect__ngram_range': ((1, 1), (1, 2))}\n",
            "Fitting 5 folds for each of 16 candidates, totalling 80 fits\n",
            "done in 47.658\n",
            "\n",
            "Best CV score: 0.776\n",
            "Best parameters set:\n",
            "\tclf__alpha : 0.5\n",
            "\tfeatures__pipe__vect__max_df : 0.5\n",
            "\tfeatures__pipe__vect__min_df : 2\n",
            "\tfeatures__pipe__vect__ngram_range : (1, 2)\n",
            "Test score with best_estimator_: 0.784\n",
            "\n",
            "\n",
            "Classification Report Test Data\n",
            "              precision    recall  f1-score   support\n",
            "\n",
            "    negative       0.82      0.91      0.86       911\n",
            "     neutral       0.66      0.48      0.56       320\n",
            "    positive       0.77      0.72      0.74       233\n",
            "\n",
            "    accuracy                           0.78      1464\n",
            "   macro avg       0.75      0.70      0.72      1464\n",
            "weighted avg       0.77      0.78      0.77      1464\n",
            "\n"
          ]
        }
      ],
      "source": [
        " # Multinomial NB using Count vectorizer\n",
        "\n",
        "best_mnb_countvect = grid_vect (mnb, parameters_mnb, X_train, X_test, parameters_text=parameters_vect, vect=countvect)\n"
      ]
    },
    {
      "cell_type": "markdown",
      "source": [
        " The **Multinomial Naive Bayes** classifier (mnb) is used in combination with the **TF-IDF Vectorizer** (tfidfvect) to perform grid search for finding the best hyperparameters for the classifier."
      ],
      "metadata": {
        "id": "YUKBt3T9U_qJ"
      }
    },
    {
      "cell_type": "code",
      "execution_count": 35,
      "metadata": {
        "colab": {
          "base_uri": "https://localhost:8080/"
        },
        "id": "87fVj7FLQuHD",
        "outputId": "95dd5a2a-d1be-49d2-f32d-076372c803f0"
      },
      "outputs": [
        {
          "output_type": "stream",
          "name": "stdout",
          "text": [
            "Performing grid search....\n",
            "pipeline: ['features', 'clf']\n",
            "Parameters:\n",
            "{'clf__alpha': (0.25, 0.5),\n",
            " 'features__pipe__vect__max_df': (0.25, 0.5),\n",
            " 'features__pipe__vect__min_df': (1, 2),\n",
            " 'features__pipe__vect__ngram_range': ((1, 1), (1, 2))}\n",
            "Fitting 5 folds for each of 16 candidates, totalling 80 fits\n",
            "done in 27.955\n",
            "\n",
            "Best CV score: 0.748\n",
            "Best parameters set:\n",
            "\tclf__alpha : 0.25\n",
            "\tfeatures__pipe__vect__max_df : 0.25\n",
            "\tfeatures__pipe__vect__min_df : 2\n",
            "\tfeatures__pipe__vect__ngram_range : (1, 2)\n",
            "Test score with best_estimator_: 0.750\n",
            "\n",
            "\n",
            "Classification Report Test Data\n",
            "              precision    recall  f1-score   support\n",
            "\n",
            "    negative       0.74      0.97      0.84       911\n",
            "     neutral       0.76      0.29      0.42       320\n",
            "    positive       0.80      0.50      0.62       233\n",
            "\n",
            "    accuracy                           0.75      1464\n",
            "   macro avg       0.77      0.59      0.63      1464\n",
            "weighted avg       0.76      0.75      0.72      1464\n",
            "\n"
          ]
        }
      ],
      "source": [
        "\n",
        "# Multinomial NB using TFIDF\n",
        "\n",
        "best_mnb_tfidf = grid_vect (mnb, parameters_mnb, X_train, X_test, parameters_text=parameters_vect, vect=tfidfvect)\n"
      ]
    },
    {
      "cell_type": "markdown",
      "source": [
        " The **LogisticRegression** classifier (logreg) is used in combination with the **CountVectorizer** (countvect) to perform grid search for finding the best hyperparameters for the classifier."
      ],
      "metadata": {
        "id": "90tjksd8U6Uq"
      }
    },
    {
      "cell_type": "code",
      "execution_count": 36,
      "metadata": {
        "colab": {
          "base_uri": "https://localhost:8080/"
        },
        "id": "sIhkRRRU4Nar",
        "outputId": "b19b36c6-226d-443d-961e-f0cbf33a546d"
      },
      "outputs": [
        {
          "output_type": "stream",
          "name": "stdout",
          "text": [
            "Performing grid search....\n",
            "pipeline: ['features', 'clf']\n",
            "Parameters:\n",
            "{'clf__C': (0.25, 1.0),\n",
            " 'clf__penalty': ('l1', 'l2'),\n",
            " 'features__pipe__vect__max_df': (0.25, 0.5),\n",
            " 'features__pipe__vect__min_df': (1, 2),\n",
            " 'features__pipe__vect__ngram_range': ((1, 1), (1, 2))}\n",
            "Fitting 5 folds for each of 32 candidates, totalling 160 fits\n",
            "done in 148.448\n",
            "\n",
            "Best CV score: 0.789\n",
            "Best parameters set:\n",
            "\tclf__C : 0.25\n",
            "\tclf__penalty : 'l2'\n",
            "\tfeatures__pipe__vect__max_df : 0.25\n",
            "\tfeatures__pipe__vect__min_df : 1\n",
            "\tfeatures__pipe__vect__ngram_range : (1, 2)\n",
            "Test score with best_estimator_: 0.794\n",
            "\n",
            "\n",
            "Classification Report Test Data\n",
            "              precision    recall  f1-score   support\n",
            "\n",
            "    negative       0.83      0.91      0.87       911\n",
            "     neutral       0.70      0.52      0.59       320\n",
            "    positive       0.74      0.70      0.72       233\n",
            "\n",
            "    accuracy                           0.79      1464\n",
            "   macro avg       0.76      0.71      0.73      1464\n",
            "weighted avg       0.79      0.79      0.79      1464\n",
            "\n"
          ]
        }
      ],
      "source": [
        "# LogisticRegression using Count vectorizer\n",
        "\n",
        "best_logreg_countvect = grid_vect(logreg, parameters_logreg, X_train, X_test, parameters_text=parameters_vect, vect=countvect)\n"
      ]
    },
    {
      "cell_type": "markdown",
      "source": [
        " The **LogisticRegression** classifier (logreg) is used in combination with the **TF-IDF Vectorizer** (tfidfvect) to perform grid search for finding the best hyperparameters for the classifier."
      ],
      "metadata": {
        "id": "4nwIsMRyVCcJ"
      }
    },
    {
      "cell_type": "code",
      "execution_count": 37,
      "metadata": {
        "colab": {
          "base_uri": "https://localhost:8080/"
        },
        "id": "1M-OczdiFLpC",
        "outputId": "dc111171-8464-4889-a891-7835faf6517d"
      },
      "outputs": [
        {
          "output_type": "stream",
          "name": "stdout",
          "text": [
            "Performing grid search....\n",
            "pipeline: ['features', 'clf']\n",
            "Parameters:\n",
            "{'clf__C': (0.25, 1.0),\n",
            " 'clf__penalty': ('l1', 'l2'),\n",
            " 'features__pipe__vect__max_df': (0.25, 0.5),\n",
            " 'features__pipe__vect__min_df': (1, 2),\n",
            " 'features__pipe__vect__ngram_range': ((1, 1), (1, 2))}\n",
            "Fitting 5 folds for each of 32 candidates, totalling 160 fits\n",
            "done in 130.978\n",
            "\n",
            "Best CV score: 0.758\n",
            "Best parameters set:\n",
            "\tclf__C : 1.0\n",
            "\tclf__penalty : 'l2'\n",
            "\tfeatures__pipe__vect__max_df : 0.25\n",
            "\tfeatures__pipe__vect__min_df : 2\n",
            "\tfeatures__pipe__vect__ngram_range : (1, 1)\n",
            "Test score with best_estimator_: 0.753\n",
            "\n",
            "\n",
            "Classification Report Test Data\n",
            "              precision    recall  f1-score   support\n",
            "\n",
            "    negative       0.78      0.92      0.84       911\n",
            "     neutral       0.66      0.41      0.51       320\n",
            "    positive       0.70      0.56      0.62       233\n",
            "\n",
            "    accuracy                           0.75      1464\n",
            "   macro avg       0.71      0.63      0.66      1464\n",
            "weighted avg       0.74      0.75      0.74      1464\n",
            "\n"
          ]
        }
      ],
      "source": [
        "\n",
        "# LigisticRegression using TFIDF\n",
        "\n",
        "best_logreg_tfidf = grid_vect (logreg, parameters_logreg, X_train, X_test, parameters_text=parameters_vect, vect=tfidfvect)"
      ]
    },
    {
      "cell_type": "markdown",
      "source": [
        "**Support Vector Machine**"
      ],
      "metadata": {
        "id": "WmgyUFqccMe3"
      }
    },
    {
      "cell_type": "code",
      "source": [
        "from sklearn.svm import SVC\n",
        "svm = SVC(kernel='rbf', random_state=42)"
      ],
      "metadata": {
        "id": "N0eD00GiZVPE"
      },
      "execution_count": 38,
      "outputs": []
    },
    {
      "cell_type": "code",
      "source": [
        "# Parameter grid settings for SVM\n",
        "parameters_svm = {\n",
        "    'clf__gamma': ('scale', 'auto')\n",
        "\n",
        "}\n"
      ],
      "metadata": {
        "id": "GfIjmS7safos"
      },
      "execution_count": 39,
      "outputs": []
    },
    {
      "cell_type": "markdown",
      "source": [
        "**SVM** with **count vectorizer**"
      ],
      "metadata": {
        "id": "5vfaRvxHzvRu"
      }
    },
    {
      "cell_type": "code",
      "source": [
        "best_svm_countvect = grid_vect (svm,parameters_svm, X_train, X_test, parameters_text=parameters_vect, vect=countvect)"
      ],
      "metadata": {
        "colab": {
          "base_uri": "https://localhost:8080/"
        },
        "id": "dPwzL_gmcu7m",
        "outputId": "082b5bcf-c694-4c7c-a475-b44052784984"
      },
      "execution_count": 40,
      "outputs": [
        {
          "output_type": "stream",
          "name": "stdout",
          "text": [
            "Performing grid search....\n",
            "pipeline: ['features', 'clf']\n",
            "Parameters:\n",
            "{'clf__gamma': ('scale', 'auto'),\n",
            " 'features__pipe__vect__max_df': (0.25, 0.5),\n",
            " 'features__pipe__vect__min_df': (1, 2),\n",
            " 'features__pipe__vect__ngram_range': ((1, 1), (1, 2))}\n",
            "Fitting 5 folds for each of 16 candidates, totalling 80 fits\n",
            "done in 916.212\n",
            "\n",
            "Best CV score: 0.706\n",
            "Best parameters set:\n",
            "\tclf__gamma : 'scale'\n",
            "\tfeatures__pipe__vect__max_df : 0.25\n",
            "\tfeatures__pipe__vect__min_df : 1\n",
            "\tfeatures__pipe__vect__ngram_range : (1, 2)\n",
            "Test score with best_estimator_: 0.697\n",
            "\n",
            "\n",
            "Classification Report Test Data\n",
            "              precision    recall  f1-score   support\n",
            "\n",
            "    negative       0.71      0.95      0.81       911\n",
            "     neutral       0.48      0.18      0.26       320\n",
            "    positive       0.76      0.43      0.55       233\n",
            "\n",
            "    accuracy                           0.70      1464\n",
            "   macro avg       0.65      0.52      0.54      1464\n",
            "weighted avg       0.67      0.70      0.65      1464\n",
            "\n"
          ]
        }
      ]
    },
    {
      "cell_type": "markdown",
      "source": [
        "**SVM** with **TF-IDF Vectorizer**"
      ],
      "metadata": {
        "id": "2PRywzWoz8Qq"
      }
    },
    {
      "cell_type": "code",
      "source": [
        "best_svm_tfidf = grid_vect (svm,parameters_svm, X_train, X_test, parameters_text=parameters_vect, vect=tfidfvect)"
      ],
      "metadata": {
        "colab": {
          "base_uri": "https://localhost:8080/"
        },
        "id": "H3RnOeBSGZF8",
        "outputId": "0fd8f5bf-a9bb-455f-9f45-cbc415f5cf32"
      },
      "execution_count": 41,
      "outputs": [
        {
          "output_type": "stream",
          "name": "stdout",
          "text": [
            "Performing grid search....\n",
            "pipeline: ['features', 'clf']\n",
            "Parameters:\n",
            "{'clf__gamma': ('scale', 'auto'),\n",
            " 'features__pipe__vect__max_df': (0.25, 0.5),\n",
            " 'features__pipe__vect__min_df': (1, 2),\n",
            " 'features__pipe__vect__ngram_range': ((1, 1), (1, 2))}\n",
            "Fitting 5 folds for each of 16 candidates, totalling 80 fits\n",
            "done in 985.073\n",
            "\n",
            "Best CV score: 0.653\n",
            "Best parameters set:\n",
            "\tclf__gamma : 'scale'\n",
            "\tfeatures__pipe__vect__max_df : 0.25\n",
            "\tfeatures__pipe__vect__min_df : 2\n",
            "\tfeatures__pipe__vect__ngram_range : (1, 1)\n",
            "Test score with best_estimator_: 0.651\n",
            "\n",
            "\n",
            "Classification Report Test Data\n",
            "              precision    recall  f1-score   support\n",
            "\n",
            "    negative       0.66      0.98      0.79       911\n",
            "     neutral       0.44      0.12      0.19       320\n",
            "    positive       0.86      0.11      0.19       233\n",
            "\n",
            "    accuracy                           0.65      1464\n",
            "   macro avg       0.65      0.40      0.39      1464\n",
            "weighted avg       0.64      0.65      0.56      1464\n",
            "\n"
          ]
        }
      ]
    },
    {
      "cell_type": "markdown",
      "source": [
        "**Random Forest Classifier**"
      ],
      "metadata": {
        "id": "S-l09M5Mc9Cp"
      }
    },
    {
      "cell_type": "code",
      "source": [
        "from sklearn.ensemble import RandomForestClassifier\n",
        "\n",
        "rfc= RandomForestClassifier(random_state=0)"
      ],
      "metadata": {
        "id": "nlzxwM2MwwbV"
      },
      "execution_count": 42,
      "outputs": []
    },
    {
      "cell_type": "code",
      "source": [
        "# Parameter grid settings for Random Forest Classifier\n",
        "parameters_rf = {\n",
        "    'clf__n_estimators': (50,100)  # Number of trees in the forest\n",
        "\n",
        "}"
      ],
      "metadata": {
        "id": "XGdPlgsGxX76"
      },
      "execution_count": 43,
      "outputs": []
    },
    {
      "cell_type": "markdown",
      "source": [
        "**Random Forest** with **Countvectorizer**"
      ],
      "metadata": {
        "id": "Tdq4lZRu0xGj"
      }
    },
    {
      "cell_type": "code",
      "source": [
        "best_rfc_countvect = grid_vect(rfc, parameters_rf, X_train, X_test, parameters_text=parameters_vect, vect=countvect)\n"
      ],
      "metadata": {
        "colab": {
          "base_uri": "https://localhost:8080/"
        },
        "id": "Xl4jiv9LxePe",
        "outputId": "f39cf7ac-be3d-4e28-8ce5-b5aeb9c3c564"
      },
      "execution_count": 44,
      "outputs": [
        {
          "output_type": "stream",
          "name": "stdout",
          "text": [
            "Performing grid search....\n",
            "pipeline: ['features', 'clf']\n",
            "Parameters:\n",
            "{'clf__n_estimators': (50, 100),\n",
            " 'features__pipe__vect__max_df': (0.25, 0.5),\n",
            " 'features__pipe__vect__min_df': (1, 2),\n",
            " 'features__pipe__vect__ngram_range': ((1, 1), (1, 2))}\n",
            "Fitting 5 folds for each of 16 candidates, totalling 80 fits\n",
            "done in 1244.570\n",
            "\n",
            "Best CV score: 0.769\n",
            "Best parameters set:\n",
            "\tclf__n_estimators : 100\n",
            "\tfeatures__pipe__vect__max_df : 0.25\n",
            "\tfeatures__pipe__vect__min_df : 2\n",
            "\tfeatures__pipe__vect__ngram_range : (1, 1)\n",
            "Test score with best_estimator_: 0.784\n",
            "\n",
            "\n",
            "Classification Report Test Data\n",
            "              precision    recall  f1-score   support\n",
            "\n",
            "    negative       0.79      0.96      0.86       911\n",
            "     neutral       0.75      0.41      0.53       320\n",
            "    positive       0.80      0.63      0.71       233\n",
            "\n",
            "    accuracy                           0.78      1464\n",
            "   macro avg       0.78      0.66      0.70      1464\n",
            "weighted avg       0.78      0.78      0.76      1464\n",
            "\n"
          ]
        }
      ]
    },
    {
      "cell_type": "markdown",
      "source": [
        "**Random Forest** with **TF-IDF vectorizer**"
      ],
      "metadata": {
        "id": "vTAVSGx70_sJ"
      }
    },
    {
      "cell_type": "code",
      "source": [
        "best_rfc_tfidf = grid_vect(rfc, parameters_rf, X_train, X_test, parameters_text=parameters_vect, vect=tfidfvect)\n"
      ],
      "metadata": {
        "colab": {
          "base_uri": "https://localhost:8080/"
        },
        "id": "MqPUqtwYdIG-",
        "outputId": "fffad2ba-e871-42d0-857b-9c2d1633cd64"
      },
      "execution_count": 45,
      "outputs": [
        {
          "output_type": "stream",
          "name": "stdout",
          "text": [
            "Performing grid search....\n",
            "pipeline: ['features', 'clf']\n",
            "Parameters:\n",
            "{'clf__n_estimators': (50, 100),\n",
            " 'features__pipe__vect__max_df': (0.25, 0.5),\n",
            " 'features__pipe__vect__min_df': (1, 2),\n",
            " 'features__pipe__vect__ngram_range': ((1, 1), (1, 2))}\n",
            "Fitting 5 folds for each of 16 candidates, totalling 80 fits\n",
            "done in 1161.820\n",
            "\n",
            "Best CV score: 0.770\n",
            "Best parameters set:\n",
            "\tclf__n_estimators : 100\n",
            "\tfeatures__pipe__vect__max_df : 0.25\n",
            "\tfeatures__pipe__vect__min_df : 1\n",
            "\tfeatures__pipe__vect__ngram_range : (1, 2)\n",
            "Test score with best_estimator_: 0.779\n",
            "\n",
            "\n",
            "Classification Report Test Data\n",
            "              precision    recall  f1-score   support\n",
            "\n",
            "    negative       0.78      0.96      0.86       911\n",
            "     neutral       0.75      0.42      0.54       320\n",
            "    positive       0.83      0.56      0.67       233\n",
            "\n",
            "    accuracy                           0.78      1464\n",
            "   macro avg       0.78      0.65      0.69      1464\n",
            "weighted avg       0.78      0.78      0.76      1464\n",
            "\n"
          ]
        }
      ]
    },
    {
      "cell_type": "code",
      "source": [
        "from tabulate import tabulate\n",
        "\n",
        "# Test scores data\n",
        "data = [\n",
        "    [\"countvect\", 0.784, 0.794, 0.697, 0.782],\n",
        "    [\"tfidf\", 0.750, 0.753, 0.651, 0.779]\n",
        "]\n",
        "\n",
        "# Column headers\n",
        "headers = [\"\", \"mnb\", \"log\", \"svm\", \"rfc\"]\n",
        "\n",
        "# Print the formatted table\n",
        "table = tabulate(data, headers=headers, tablefmt=\"grid\")\n",
        "print(\"Test score's with best estimator\")\n",
        "print(table)\n"
      ],
      "metadata": {
        "colab": {
          "base_uri": "https://localhost:8080/"
        },
        "id": "13WYEDCq1yKw",
        "outputId": "e416dc05-ffd1-49de-c4c7-4f6193ef11f1"
      },
      "execution_count": 46,
      "outputs": [
        {
          "output_type": "stream",
          "name": "stdout",
          "text": [
            "Test score's with best estimator\n",
            "+-----------+-------+-------+-------+-------+\n",
            "|           |   mnb |   log |   svm |   rfc |\n",
            "+===========+=======+=======+=======+=======+\n",
            "| countvect | 0.784 | 0.794 | 0.697 | 0.782 |\n",
            "+-----------+-------+-------+-------+-------+\n",
            "| tfidf     | 0.75  | 0.753 | 0.651 | 0.779 |\n",
            "+-----------+-------+-------+-------+-------+\n"
          ]
        }
      ]
    },
    {
      "cell_type": "markdown",
      "source": [
        "***LogisticRegression*** using ***Count vectorizer*** shows **best test score** of **0.794** among others"
      ],
      "metadata": {
        "id": "jLdy_NmK0Htl"
      }
    },
    {
      "cell_type": "markdown",
      "source": [
        "Save the model to a file"
      ],
      "metadata": {
        "id": "9Ty5R32G4Q-S"
      }
    },
    {
      "cell_type": "code",
      "source": [
        "\n",
        "\n",
        "output_directory = 'C:/Users/HP/Desktop/sentiment_analysis_webapp/models'\n",
        "output_filename = 'best_logreg_countvect.pkl'\n",
        "\n",
        "# Create the directory if it doesn't exist\n",
        "os.makedirs(output_directory, exist_ok=True)\n",
        "\n",
        "output_path = os.path.join(output_directory, output_filename)\n",
        "\n",
        "joblib.dump(best_logreg_countvect, output_path)\n",
        "\n"
      ],
      "metadata": {
        "colab": {
          "base_uri": "https://localhost:8080/"
        },
        "id": "aqkiv44IW9cl",
        "outputId": "0e466541-eae6-4a67-c3c1-4298330f1e6d"
      },
      "execution_count": 47,
      "outputs": [
        {
          "output_type": "execute_result",
          "data": {
            "text/plain": [
              "['C:/Users/HP/Desktop/sentiment_analysis_webapp/models/best_logreg_countvect.pkl']"
            ]
          },
          "metadata": {},
          "execution_count": 47
        }
      ]
    },
    {
      "cell_type": "markdown",
      "source": [
        "Load the model using joblib\n"
      ],
      "metadata": {
        "id": "6lLl1BR4PXKO"
      }
    },
    {
      "cell_type": "code",
      "source": [
        "\n",
        "\n",
        "# Path to the saved model file\n",
        "model_path = 'C:/Users/HP/Desktop/sentiment_analysis_webapp/models/best_logreg_countvect.pkl'\n",
        "\n",
        "loaded_model = joblib.load(model_path)\n",
        "\n"
      ],
      "metadata": {
        "id": "gHbTUPCnZb46"
      },
      "execution_count": 48,
      "outputs": []
    },
    {
      "cell_type": "markdown",
      "source": [
        "Predict a sample tweet using loaded model"
      ],
      "metadata": {
        "id": "S6Qf8FFkPFI9"
      }
    },
    {
      "cell_type": "code",
      "source": [
        "# Preprocess the tweet using a function\n",
        "\n",
        "def preprocess_tweet(tweet):\n",
        "    # Apply the same cleaning steps as done on the training data\n",
        "    cleaned_tweet = ct.transform(pd.Series(tweet))\n",
        "\n",
        "    # Extract the text counts features from the tweet\n",
        "    tweet_counts = tc.transform(pd.Series(tweet))\n",
        "\n",
        "    # Combine the text counts features with the cleaned text\n",
        "    tweet_data = pd.concat([tweet_counts, pd.Series(cleaned_tweet, name='clean_text')], axis=1)\n",
        "\n",
        "    return tweet_data\n",
        "\n"
      ],
      "metadata": {
        "id": "XKr6hvuXCMKd"
      },
      "execution_count": 50,
      "outputs": []
    },
    {
      "cell_type": "code",
      "source": [
        "text = \"I had a great flight with the airline!\"\n",
        "\n",
        "\n",
        "tweet_sample= preprocess_tweet(text)\n",
        "prediction = loaded_model.predict(tweet_sample)[0]\n",
        "print(\"Predicted Sentiment:\", prediction)\n"
      ],
      "metadata": {
        "colab": {
          "base_uri": "https://localhost:8080/"
        },
        "id": "IkeXnmUIZiVi",
        "outputId": "af58aefb-62eb-4a2c-9139-edf1c5c18c38"
      },
      "execution_count": 51,
      "outputs": [
        {
          "output_type": "stream",
          "name": "stdout",
          "text": [
            "Predicted Sentiment: positive\n"
          ]
        }
      ]
    },
    {
      "cell_type": "markdown",
      "source": [
        "Train the Best Model on the Entire Dataset\n"
      ],
      "metadata": {
        "id": "t4hmTPfM8CeD"
      }
    },
    {
      "cell_type": "code",
      "execution_count": 52,
      "metadata": {
        "id": "tOjxFFSfbooN",
        "colab": {
          "base_uri": "https://localhost:8080/",
          "height": 221
        },
        "outputId": "81a68b7c-ab77-40e3-9a7f-53635ed3b184"
      },
      "outputs": [
        {
          "output_type": "execute_result",
          "data": {
            "text/plain": [
              "Pipeline(steps=[('features',\n",
              "                 FeatureUnion(n_jobs=-1,\n",
              "                              transformer_list=[('textcounts',\n",
              "                                                 ColumnExtractor(cols=['count_capital_words',\n",
              "                                                                       'count_emojis',\n",
              "                                                                       'count_excl_quest_marks',\n",
              "                                                                       'count_hashtags',\n",
              "                                                                       'count_mentions',\n",
              "                                                                       'count_urls',\n",
              "                                                                       'count_words'])),\n",
              "                                                ('pipe',\n",
              "                                                 Pipeline(steps=[('cleantext',\n",
              "                                                                  ColumnExtractor(cols='clean_text')),\n",
              "                                                                 ('vect',\n",
              "                                                                  CountVectorizer(max_df=0.25,\n",
              "                                                                                  ngram_range=(1,\n",
              "                                                                                               2)))]))])),\n",
              "                ('clf', LogisticRegression(C=0.25))])"
            ],
            "text/html": [
              "<style>#sk-container-id-1 {color: black;background-color: white;}#sk-container-id-1 pre{padding: 0;}#sk-container-id-1 div.sk-toggleable {background-color: white;}#sk-container-id-1 label.sk-toggleable__label {cursor: pointer;display: block;width: 100%;margin-bottom: 0;padding: 0.3em;box-sizing: border-box;text-align: center;}#sk-container-id-1 label.sk-toggleable__label-arrow:before {content: \"▸\";float: left;margin-right: 0.25em;color: #696969;}#sk-container-id-1 label.sk-toggleable__label-arrow:hover:before {color: black;}#sk-container-id-1 div.sk-estimator:hover label.sk-toggleable__label-arrow:before {color: black;}#sk-container-id-1 div.sk-toggleable__content {max-height: 0;max-width: 0;overflow: hidden;text-align: left;background-color: #f0f8ff;}#sk-container-id-1 div.sk-toggleable__content pre {margin: 0.2em;color: black;border-radius: 0.25em;background-color: #f0f8ff;}#sk-container-id-1 input.sk-toggleable__control:checked~div.sk-toggleable__content {max-height: 200px;max-width: 100%;overflow: auto;}#sk-container-id-1 input.sk-toggleable__control:checked~label.sk-toggleable__label-arrow:before {content: \"▾\";}#sk-container-id-1 div.sk-estimator input.sk-toggleable__control:checked~label.sk-toggleable__label {background-color: #d4ebff;}#sk-container-id-1 div.sk-label input.sk-toggleable__control:checked~label.sk-toggleable__label {background-color: #d4ebff;}#sk-container-id-1 input.sk-hidden--visually {border: 0;clip: rect(1px 1px 1px 1px);clip: rect(1px, 1px, 1px, 1px);height: 1px;margin: -1px;overflow: hidden;padding: 0;position: absolute;width: 1px;}#sk-container-id-1 div.sk-estimator {font-family: monospace;background-color: #f0f8ff;border: 1px dotted black;border-radius: 0.25em;box-sizing: border-box;margin-bottom: 0.5em;}#sk-container-id-1 div.sk-estimator:hover {background-color: #d4ebff;}#sk-container-id-1 div.sk-parallel-item::after {content: \"\";width: 100%;border-bottom: 1px solid gray;flex-grow: 1;}#sk-container-id-1 div.sk-label:hover label.sk-toggleable__label {background-color: #d4ebff;}#sk-container-id-1 div.sk-serial::before {content: \"\";position: absolute;border-left: 1px solid gray;box-sizing: border-box;top: 0;bottom: 0;left: 50%;z-index: 0;}#sk-container-id-1 div.sk-serial {display: flex;flex-direction: column;align-items: center;background-color: white;padding-right: 0.2em;padding-left: 0.2em;position: relative;}#sk-container-id-1 div.sk-item {position: relative;z-index: 1;}#sk-container-id-1 div.sk-parallel {display: flex;align-items: stretch;justify-content: center;background-color: white;position: relative;}#sk-container-id-1 div.sk-item::before, #sk-container-id-1 div.sk-parallel-item::before {content: \"\";position: absolute;border-left: 1px solid gray;box-sizing: border-box;top: 0;bottom: 0;left: 50%;z-index: -1;}#sk-container-id-1 div.sk-parallel-item {display: flex;flex-direction: column;z-index: 1;position: relative;background-color: white;}#sk-container-id-1 div.sk-parallel-item:first-child::after {align-self: flex-end;width: 50%;}#sk-container-id-1 div.sk-parallel-item:last-child::after {align-self: flex-start;width: 50%;}#sk-container-id-1 div.sk-parallel-item:only-child::after {width: 0;}#sk-container-id-1 div.sk-dashed-wrapped {border: 1px dashed gray;margin: 0 0.4em 0.5em 0.4em;box-sizing: border-box;padding-bottom: 0.4em;background-color: white;}#sk-container-id-1 div.sk-label label {font-family: monospace;font-weight: bold;display: inline-block;line-height: 1.2em;}#sk-container-id-1 div.sk-label-container {text-align: center;}#sk-container-id-1 div.sk-container {/* jupyter's `normalize.less` sets `[hidden] { display: none; }` but bootstrap.min.css set `[hidden] { display: none !important; }` so we also need the `!important` here to be able to override the default hidden behavior on the sphinx rendered scikit-learn.org. See: https://github.com/scikit-learn/scikit-learn/issues/21755 */display: inline-block !important;position: relative;}#sk-container-id-1 div.sk-text-repr-fallback {display: none;}</style><div id=\"sk-container-id-1\" class=\"sk-top-container\"><div class=\"sk-text-repr-fallback\"><pre>Pipeline(steps=[(&#x27;features&#x27;,\n",
              "                 FeatureUnion(n_jobs=-1,\n",
              "                              transformer_list=[(&#x27;textcounts&#x27;,\n",
              "                                                 ColumnExtractor(cols=[&#x27;count_capital_words&#x27;,\n",
              "                                                                       &#x27;count_emojis&#x27;,\n",
              "                                                                       &#x27;count_excl_quest_marks&#x27;,\n",
              "                                                                       &#x27;count_hashtags&#x27;,\n",
              "                                                                       &#x27;count_mentions&#x27;,\n",
              "                                                                       &#x27;count_urls&#x27;,\n",
              "                                                                       &#x27;count_words&#x27;])),\n",
              "                                                (&#x27;pipe&#x27;,\n",
              "                                                 Pipeline(steps=[(&#x27;cleantext&#x27;,\n",
              "                                                                  ColumnExtractor(cols=&#x27;clean_text&#x27;)),\n",
              "                                                                 (&#x27;vect&#x27;,\n",
              "                                                                  CountVectorizer(max_df=0.25,\n",
              "                                                                                  ngram_range=(1,\n",
              "                                                                                               2)))]))])),\n",
              "                (&#x27;clf&#x27;, LogisticRegression(C=0.25))])</pre><b>In a Jupyter environment, please rerun this cell to show the HTML representation or trust the notebook. <br />On GitHub, the HTML representation is unable to render, please try loading this page with nbviewer.org.</b></div><div class=\"sk-container\" hidden><div class=\"sk-item sk-dashed-wrapped\"><div class=\"sk-label-container\"><div class=\"sk-label sk-toggleable\"><input class=\"sk-toggleable__control sk-hidden--visually\" id=\"sk-estimator-id-1\" type=\"checkbox\" ><label for=\"sk-estimator-id-1\" class=\"sk-toggleable__label sk-toggleable__label-arrow\">Pipeline</label><div class=\"sk-toggleable__content\"><pre>Pipeline(steps=[(&#x27;features&#x27;,\n",
              "                 FeatureUnion(n_jobs=-1,\n",
              "                              transformer_list=[(&#x27;textcounts&#x27;,\n",
              "                                                 ColumnExtractor(cols=[&#x27;count_capital_words&#x27;,\n",
              "                                                                       &#x27;count_emojis&#x27;,\n",
              "                                                                       &#x27;count_excl_quest_marks&#x27;,\n",
              "                                                                       &#x27;count_hashtags&#x27;,\n",
              "                                                                       &#x27;count_mentions&#x27;,\n",
              "                                                                       &#x27;count_urls&#x27;,\n",
              "                                                                       &#x27;count_words&#x27;])),\n",
              "                                                (&#x27;pipe&#x27;,\n",
              "                                                 Pipeline(steps=[(&#x27;cleantext&#x27;,\n",
              "                                                                  ColumnExtractor(cols=&#x27;clean_text&#x27;)),\n",
              "                                                                 (&#x27;vect&#x27;,\n",
              "                                                                  CountVectorizer(max_df=0.25,\n",
              "                                                                                  ngram_range=(1,\n",
              "                                                                                               2)))]))])),\n",
              "                (&#x27;clf&#x27;, LogisticRegression(C=0.25))])</pre></div></div></div><div class=\"sk-serial\"><div class=\"sk-item sk-dashed-wrapped\"><div class=\"sk-label-container\"><div class=\"sk-label sk-toggleable\"><input class=\"sk-toggleable__control sk-hidden--visually\" id=\"sk-estimator-id-2\" type=\"checkbox\" ><label for=\"sk-estimator-id-2\" class=\"sk-toggleable__label sk-toggleable__label-arrow\">features: FeatureUnion</label><div class=\"sk-toggleable__content\"><pre>FeatureUnion(n_jobs=-1,\n",
              "             transformer_list=[(&#x27;textcounts&#x27;,\n",
              "                                ColumnExtractor(cols=[&#x27;count_capital_words&#x27;,\n",
              "                                                      &#x27;count_emojis&#x27;,\n",
              "                                                      &#x27;count_excl_quest_marks&#x27;,\n",
              "                                                      &#x27;count_hashtags&#x27;,\n",
              "                                                      &#x27;count_mentions&#x27;,\n",
              "                                                      &#x27;count_urls&#x27;,\n",
              "                                                      &#x27;count_words&#x27;])),\n",
              "                               (&#x27;pipe&#x27;,\n",
              "                                Pipeline(steps=[(&#x27;cleantext&#x27;,\n",
              "                                                 ColumnExtractor(cols=&#x27;clean_text&#x27;)),\n",
              "                                                (&#x27;vect&#x27;,\n",
              "                                                 CountVectorizer(max_df=0.25,\n",
              "                                                                 ngram_range=(1,\n",
              "                                                                              2)))]))])</pre></div></div></div><div class=\"sk-parallel\"><div class=\"sk-parallel-item\"><div class=\"sk-item\"><div class=\"sk-label-container\"><div class=\"sk-label sk-toggleable\"><label>textcounts</label></div></div><div class=\"sk-serial\"><div class=\"sk-item\"><div class=\"sk-estimator sk-toggleable\"><input class=\"sk-toggleable__control sk-hidden--visually\" id=\"sk-estimator-id-3\" type=\"checkbox\" ><label for=\"sk-estimator-id-3\" class=\"sk-toggleable__label sk-toggleable__label-arrow\">ColumnExtractor</label><div class=\"sk-toggleable__content\"><pre>ColumnExtractor(cols=[&#x27;count_capital_words&#x27;, &#x27;count_emojis&#x27;,\n",
              "                      &#x27;count_excl_quest_marks&#x27;, &#x27;count_hashtags&#x27;,\n",
              "                      &#x27;count_mentions&#x27;, &#x27;count_urls&#x27;, &#x27;count_words&#x27;])</pre></div></div></div></div></div></div><div class=\"sk-parallel-item\"><div class=\"sk-item\"><div class=\"sk-label-container\"><div class=\"sk-label sk-toggleable\"><label>pipe</label></div></div><div class=\"sk-serial\"><div class=\"sk-item\"><div class=\"sk-serial\"><div class=\"sk-item\"><div class=\"sk-estimator sk-toggleable\"><input class=\"sk-toggleable__control sk-hidden--visually\" id=\"sk-estimator-id-4\" type=\"checkbox\" ><label for=\"sk-estimator-id-4\" class=\"sk-toggleable__label sk-toggleable__label-arrow\">ColumnExtractor</label><div class=\"sk-toggleable__content\"><pre>ColumnExtractor(cols=&#x27;clean_text&#x27;)</pre></div></div></div><div class=\"sk-item\"><div class=\"sk-estimator sk-toggleable\"><input class=\"sk-toggleable__control sk-hidden--visually\" id=\"sk-estimator-id-5\" type=\"checkbox\" ><label for=\"sk-estimator-id-5\" class=\"sk-toggleable__label sk-toggleable__label-arrow\">CountVectorizer</label><div class=\"sk-toggleable__content\"><pre>CountVectorizer(max_df=0.25, ngram_range=(1, 2))</pre></div></div></div></div></div></div></div></div></div></div><div class=\"sk-item\"><div class=\"sk-estimator sk-toggleable\"><input class=\"sk-toggleable__control sk-hidden--visually\" id=\"sk-estimator-id-6\" type=\"checkbox\" ><label for=\"sk-estimator-id-6\" class=\"sk-toggleable__label sk-toggleable__label-arrow\">LogisticRegression</label><div class=\"sk-toggleable__content\"><pre>LogisticRegression(C=0.25)</pre></div></div></div></div></div></div></div>"
            ]
          },
          "metadata": {},
          "execution_count": 52
        }
      ],
      "source": [
        "best_logreg_countvect.best_estimator_.fit(df_model.drop('airline_sentiment', axis=1), df_model.airline_sentiment)"
      ]
    },
    {
      "cell_type": "markdown",
      "source": [
        "*Evaluate Model Performance,\n",
        "  Splitting the data into training and validation sets*"
      ],
      "metadata": {
        "id": "l-E3iXMp2W4M"
      }
    },
    {
      "cell_type": "code",
      "execution_count": 53,
      "metadata": {
        "id": "Mqw9-EAlbwjO"
      },
      "outputs": [],
      "source": [
        "x_train, x_val, y_train, y_val = train_test_split(df_model.drop('airline_sentiment', axis=1), df_model.airline_sentiment, test_size=0.2, random_state=42)"
      ]
    },
    {
      "cell_type": "markdown",
      "source": [
        "Training the best model on the training set"
      ],
      "metadata": {
        "id": "d1zJIWTN8K7f"
      }
    },
    {
      "cell_type": "code",
      "execution_count": 54,
      "metadata": {
        "id": "QXNppETNcSDU",
        "colab": {
          "base_uri": "https://localhost:8080/",
          "height": 221
        },
        "outputId": "1fe1115f-fe71-4b2b-925d-952f62c839f5"
      },
      "outputs": [
        {
          "output_type": "execute_result",
          "data": {
            "text/plain": [
              "Pipeline(steps=[('features',\n",
              "                 FeatureUnion(n_jobs=-1,\n",
              "                              transformer_list=[('textcounts',\n",
              "                                                 ColumnExtractor(cols=['count_capital_words',\n",
              "                                                                       'count_emojis',\n",
              "                                                                       'count_excl_quest_marks',\n",
              "                                                                       'count_hashtags',\n",
              "                                                                       'count_mentions',\n",
              "                                                                       'count_urls',\n",
              "                                                                       'count_words'])),\n",
              "                                                ('pipe',\n",
              "                                                 Pipeline(steps=[('cleantext',\n",
              "                                                                  ColumnExtractor(cols='clean_text')),\n",
              "                                                                 ('vect',\n",
              "                                                                  CountVectorizer(max_df=0.25,\n",
              "                                                                                  ngram_range=(1,\n",
              "                                                                                               2)))]))])),\n",
              "                ('clf', LogisticRegression(C=0.25))])"
            ],
            "text/html": [
              "<style>#sk-container-id-2 {color: black;background-color: white;}#sk-container-id-2 pre{padding: 0;}#sk-container-id-2 div.sk-toggleable {background-color: white;}#sk-container-id-2 label.sk-toggleable__label {cursor: pointer;display: block;width: 100%;margin-bottom: 0;padding: 0.3em;box-sizing: border-box;text-align: center;}#sk-container-id-2 label.sk-toggleable__label-arrow:before {content: \"▸\";float: left;margin-right: 0.25em;color: #696969;}#sk-container-id-2 label.sk-toggleable__label-arrow:hover:before {color: black;}#sk-container-id-2 div.sk-estimator:hover label.sk-toggleable__label-arrow:before {color: black;}#sk-container-id-2 div.sk-toggleable__content {max-height: 0;max-width: 0;overflow: hidden;text-align: left;background-color: #f0f8ff;}#sk-container-id-2 div.sk-toggleable__content pre {margin: 0.2em;color: black;border-radius: 0.25em;background-color: #f0f8ff;}#sk-container-id-2 input.sk-toggleable__control:checked~div.sk-toggleable__content {max-height: 200px;max-width: 100%;overflow: auto;}#sk-container-id-2 input.sk-toggleable__control:checked~label.sk-toggleable__label-arrow:before {content: \"▾\";}#sk-container-id-2 div.sk-estimator input.sk-toggleable__control:checked~label.sk-toggleable__label {background-color: #d4ebff;}#sk-container-id-2 div.sk-label input.sk-toggleable__control:checked~label.sk-toggleable__label {background-color: #d4ebff;}#sk-container-id-2 input.sk-hidden--visually {border: 0;clip: rect(1px 1px 1px 1px);clip: rect(1px, 1px, 1px, 1px);height: 1px;margin: -1px;overflow: hidden;padding: 0;position: absolute;width: 1px;}#sk-container-id-2 div.sk-estimator {font-family: monospace;background-color: #f0f8ff;border: 1px dotted black;border-radius: 0.25em;box-sizing: border-box;margin-bottom: 0.5em;}#sk-container-id-2 div.sk-estimator:hover {background-color: #d4ebff;}#sk-container-id-2 div.sk-parallel-item::after {content: \"\";width: 100%;border-bottom: 1px solid gray;flex-grow: 1;}#sk-container-id-2 div.sk-label:hover label.sk-toggleable__label {background-color: #d4ebff;}#sk-container-id-2 div.sk-serial::before {content: \"\";position: absolute;border-left: 1px solid gray;box-sizing: border-box;top: 0;bottom: 0;left: 50%;z-index: 0;}#sk-container-id-2 div.sk-serial {display: flex;flex-direction: column;align-items: center;background-color: white;padding-right: 0.2em;padding-left: 0.2em;position: relative;}#sk-container-id-2 div.sk-item {position: relative;z-index: 1;}#sk-container-id-2 div.sk-parallel {display: flex;align-items: stretch;justify-content: center;background-color: white;position: relative;}#sk-container-id-2 div.sk-item::before, #sk-container-id-2 div.sk-parallel-item::before {content: \"\";position: absolute;border-left: 1px solid gray;box-sizing: border-box;top: 0;bottom: 0;left: 50%;z-index: -1;}#sk-container-id-2 div.sk-parallel-item {display: flex;flex-direction: column;z-index: 1;position: relative;background-color: white;}#sk-container-id-2 div.sk-parallel-item:first-child::after {align-self: flex-end;width: 50%;}#sk-container-id-2 div.sk-parallel-item:last-child::after {align-self: flex-start;width: 50%;}#sk-container-id-2 div.sk-parallel-item:only-child::after {width: 0;}#sk-container-id-2 div.sk-dashed-wrapped {border: 1px dashed gray;margin: 0 0.4em 0.5em 0.4em;box-sizing: border-box;padding-bottom: 0.4em;background-color: white;}#sk-container-id-2 div.sk-label label {font-family: monospace;font-weight: bold;display: inline-block;line-height: 1.2em;}#sk-container-id-2 div.sk-label-container {text-align: center;}#sk-container-id-2 div.sk-container {/* jupyter's `normalize.less` sets `[hidden] { display: none; }` but bootstrap.min.css set `[hidden] { display: none !important; }` so we also need the `!important` here to be able to override the default hidden behavior on the sphinx rendered scikit-learn.org. See: https://github.com/scikit-learn/scikit-learn/issues/21755 */display: inline-block !important;position: relative;}#sk-container-id-2 div.sk-text-repr-fallback {display: none;}</style><div id=\"sk-container-id-2\" class=\"sk-top-container\"><div class=\"sk-text-repr-fallback\"><pre>Pipeline(steps=[(&#x27;features&#x27;,\n",
              "                 FeatureUnion(n_jobs=-1,\n",
              "                              transformer_list=[(&#x27;textcounts&#x27;,\n",
              "                                                 ColumnExtractor(cols=[&#x27;count_capital_words&#x27;,\n",
              "                                                                       &#x27;count_emojis&#x27;,\n",
              "                                                                       &#x27;count_excl_quest_marks&#x27;,\n",
              "                                                                       &#x27;count_hashtags&#x27;,\n",
              "                                                                       &#x27;count_mentions&#x27;,\n",
              "                                                                       &#x27;count_urls&#x27;,\n",
              "                                                                       &#x27;count_words&#x27;])),\n",
              "                                                (&#x27;pipe&#x27;,\n",
              "                                                 Pipeline(steps=[(&#x27;cleantext&#x27;,\n",
              "                                                                  ColumnExtractor(cols=&#x27;clean_text&#x27;)),\n",
              "                                                                 (&#x27;vect&#x27;,\n",
              "                                                                  CountVectorizer(max_df=0.25,\n",
              "                                                                                  ngram_range=(1,\n",
              "                                                                                               2)))]))])),\n",
              "                (&#x27;clf&#x27;, LogisticRegression(C=0.25))])</pre><b>In a Jupyter environment, please rerun this cell to show the HTML representation or trust the notebook. <br />On GitHub, the HTML representation is unable to render, please try loading this page with nbviewer.org.</b></div><div class=\"sk-container\" hidden><div class=\"sk-item sk-dashed-wrapped\"><div class=\"sk-label-container\"><div class=\"sk-label sk-toggleable\"><input class=\"sk-toggleable__control sk-hidden--visually\" id=\"sk-estimator-id-7\" type=\"checkbox\" ><label for=\"sk-estimator-id-7\" class=\"sk-toggleable__label sk-toggleable__label-arrow\">Pipeline</label><div class=\"sk-toggleable__content\"><pre>Pipeline(steps=[(&#x27;features&#x27;,\n",
              "                 FeatureUnion(n_jobs=-1,\n",
              "                              transformer_list=[(&#x27;textcounts&#x27;,\n",
              "                                                 ColumnExtractor(cols=[&#x27;count_capital_words&#x27;,\n",
              "                                                                       &#x27;count_emojis&#x27;,\n",
              "                                                                       &#x27;count_excl_quest_marks&#x27;,\n",
              "                                                                       &#x27;count_hashtags&#x27;,\n",
              "                                                                       &#x27;count_mentions&#x27;,\n",
              "                                                                       &#x27;count_urls&#x27;,\n",
              "                                                                       &#x27;count_words&#x27;])),\n",
              "                                                (&#x27;pipe&#x27;,\n",
              "                                                 Pipeline(steps=[(&#x27;cleantext&#x27;,\n",
              "                                                                  ColumnExtractor(cols=&#x27;clean_text&#x27;)),\n",
              "                                                                 (&#x27;vect&#x27;,\n",
              "                                                                  CountVectorizer(max_df=0.25,\n",
              "                                                                                  ngram_range=(1,\n",
              "                                                                                               2)))]))])),\n",
              "                (&#x27;clf&#x27;, LogisticRegression(C=0.25))])</pre></div></div></div><div class=\"sk-serial\"><div class=\"sk-item sk-dashed-wrapped\"><div class=\"sk-label-container\"><div class=\"sk-label sk-toggleable\"><input class=\"sk-toggleable__control sk-hidden--visually\" id=\"sk-estimator-id-8\" type=\"checkbox\" ><label for=\"sk-estimator-id-8\" class=\"sk-toggleable__label sk-toggleable__label-arrow\">features: FeatureUnion</label><div class=\"sk-toggleable__content\"><pre>FeatureUnion(n_jobs=-1,\n",
              "             transformer_list=[(&#x27;textcounts&#x27;,\n",
              "                                ColumnExtractor(cols=[&#x27;count_capital_words&#x27;,\n",
              "                                                      &#x27;count_emojis&#x27;,\n",
              "                                                      &#x27;count_excl_quest_marks&#x27;,\n",
              "                                                      &#x27;count_hashtags&#x27;,\n",
              "                                                      &#x27;count_mentions&#x27;,\n",
              "                                                      &#x27;count_urls&#x27;,\n",
              "                                                      &#x27;count_words&#x27;])),\n",
              "                               (&#x27;pipe&#x27;,\n",
              "                                Pipeline(steps=[(&#x27;cleantext&#x27;,\n",
              "                                                 ColumnExtractor(cols=&#x27;clean_text&#x27;)),\n",
              "                                                (&#x27;vect&#x27;,\n",
              "                                                 CountVectorizer(max_df=0.25,\n",
              "                                                                 ngram_range=(1,\n",
              "                                                                              2)))]))])</pre></div></div></div><div class=\"sk-parallel\"><div class=\"sk-parallel-item\"><div class=\"sk-item\"><div class=\"sk-label-container\"><div class=\"sk-label sk-toggleable\"><label>textcounts</label></div></div><div class=\"sk-serial\"><div class=\"sk-item\"><div class=\"sk-estimator sk-toggleable\"><input class=\"sk-toggleable__control sk-hidden--visually\" id=\"sk-estimator-id-9\" type=\"checkbox\" ><label for=\"sk-estimator-id-9\" class=\"sk-toggleable__label sk-toggleable__label-arrow\">ColumnExtractor</label><div class=\"sk-toggleable__content\"><pre>ColumnExtractor(cols=[&#x27;count_capital_words&#x27;, &#x27;count_emojis&#x27;,\n",
              "                      &#x27;count_excl_quest_marks&#x27;, &#x27;count_hashtags&#x27;,\n",
              "                      &#x27;count_mentions&#x27;, &#x27;count_urls&#x27;, &#x27;count_words&#x27;])</pre></div></div></div></div></div></div><div class=\"sk-parallel-item\"><div class=\"sk-item\"><div class=\"sk-label-container\"><div class=\"sk-label sk-toggleable\"><label>pipe</label></div></div><div class=\"sk-serial\"><div class=\"sk-item\"><div class=\"sk-serial\"><div class=\"sk-item\"><div class=\"sk-estimator sk-toggleable\"><input class=\"sk-toggleable__control sk-hidden--visually\" id=\"sk-estimator-id-10\" type=\"checkbox\" ><label for=\"sk-estimator-id-10\" class=\"sk-toggleable__label sk-toggleable__label-arrow\">ColumnExtractor</label><div class=\"sk-toggleable__content\"><pre>ColumnExtractor(cols=&#x27;clean_text&#x27;)</pre></div></div></div><div class=\"sk-item\"><div class=\"sk-estimator sk-toggleable\"><input class=\"sk-toggleable__control sk-hidden--visually\" id=\"sk-estimator-id-11\" type=\"checkbox\" ><label for=\"sk-estimator-id-11\" class=\"sk-toggleable__label sk-toggleable__label-arrow\">CountVectorizer</label><div class=\"sk-toggleable__content\"><pre>CountVectorizer(max_df=0.25, ngram_range=(1, 2))</pre></div></div></div></div></div></div></div></div></div></div><div class=\"sk-item\"><div class=\"sk-estimator sk-toggleable\"><input class=\"sk-toggleable__control sk-hidden--visually\" id=\"sk-estimator-id-12\" type=\"checkbox\" ><label for=\"sk-estimator-id-12\" class=\"sk-toggleable__label sk-toggleable__label-arrow\">LogisticRegression</label><div class=\"sk-toggleable__content\"><pre>LogisticRegression(C=0.25)</pre></div></div></div></div></div></div></div>"
            ]
          },
          "metadata": {},
          "execution_count": 54
        }
      ],
      "source": [
        "best_logreg_countvect.best_estimator_.fit(x_train, y_train)"
      ]
    },
    {
      "cell_type": "code",
      "execution_count": 55,
      "metadata": {
        "id": "wPu0jnrjcUwM",
        "colab": {
          "base_uri": "https://localhost:8080/"
        },
        "outputId": "8a2dec35-ae9b-4f90-a4d2-74090a61ea1f"
      },
      "outputs": [
        {
          "output_type": "stream",
          "name": "stdout",
          "text": [
            "Validation Accuracy: 0.783\n"
          ]
        }
      ],
      "source": [
        "# # Evaluating the model on the validation set\n",
        "validation_accuracy = best_logreg_countvect.score(x_val, y_val)\n",
        "print(\"Validation Accuracy: {:.3f}\".format(validation_accuracy))"
      ]
    },
    {
      "cell_type": "markdown",
      "source": [
        "To check example tweet prediction, we need to preprocess the tweet"
      ],
      "metadata": {
        "id": "83a5fvWB3JDl"
      }
    },
    {
      "cell_type": "markdown",
      "source": [
        "# **Predict using Logistic Regression with CountVectorizer**"
      ],
      "metadata": {
        "id": "hLPjJ5IE3kR6"
      }
    },
    {
      "cell_type": "code",
      "source": [
        "# Example tweet for prediction\n",
        "example_tweet = \"I had a great flight with @airlineXYZ! 😊 #happytravel\"\n",
        "\n",
        "# Preprocess the example tweet for prediction\n",
        "preprocessed_example_tweet = preprocess_tweet(example_tweet)\n",
        "\n",
        "\n",
        "logreg_countvect_prediction = best_logreg_countvect.predict(preprocessed_example_tweet)\n",
        "print(\"The sentiment of the tweet is :\", logreg_countvect_prediction[0])\n",
        "\n"
      ],
      "metadata": {
        "id": "7xMlFI0qCTms",
        "colab": {
          "base_uri": "https://localhost:8080/"
        },
        "outputId": "363ee3e0-2260-475f-87ff-15945bbc0351"
      },
      "execution_count": 56,
      "outputs": [
        {
          "output_type": "stream",
          "name": "stdout",
          "text": [
            "The sentiment of the tweet is : positive\n"
          ]
        }
      ]
    },
    {
      "cell_type": "code",
      "source": [
        "sample_tweet = \"I had a bad experience with the airline. The staff was not friendly and not helpful.\"\n",
        "logreg_countvect_predict = best_logreg_countvect.predict(preprocess_tweet(sample_tweet))\n",
        "print(\"The sentiment of the tweet is :\", logreg_countvect_predict[0])"
      ],
      "metadata": {
        "colab": {
          "base_uri": "https://localhost:8080/"
        },
        "id": "47uU7kL91lXm",
        "outputId": "fc1435c3-dc6c-443e-a244-09bb6bcef916"
      },
      "execution_count": 57,
      "outputs": [
        {
          "output_type": "stream",
          "name": "stdout",
          "text": [
            "The sentiment of the tweet is : negative\n"
          ]
        }
      ]
    },
    {
      "cell_type": "code",
      "source": [
        "\n",
        "sample_tweet = \"@VirginAmerica Really missed a prime opportunity for Men Without Hats parody, there. https://t.co/mWpG7grEZP\"\n",
        "logreg_countvect_predict = best_logreg_countvect.predict(preprocess_tweet(sample_tweet))\n",
        "print(\"The sentiment of the tweet is :\", logreg_countvect_predict[0])"
      ],
      "metadata": {
        "colab": {
          "base_uri": "https://localhost:8080/"
        },
        "id": "MQwbvhPk4M-k",
        "outputId": "de874c34-db09-43d9-ab76-ec377ea505eb"
      },
      "execution_count": 58,
      "outputs": [
        {
          "output_type": "stream",
          "name": "stdout",
          "text": [
            "The sentiment of the tweet is : negative\n"
          ]
        }
      ]
    },
    {
      "cell_type": "code",
      "source": [
        "\n",
        "sample_tweet = \"@virginamerica Well, I didn't…but NOW I DO! :-D\"\n",
        "logreg_countvect_predict = best_logreg_countvect.predict(preprocess_tweet(sample_tweet))\n",
        "print(\"The sentiment of the tweet is :\", logreg_countvect_predict[0])"
      ],
      "metadata": {
        "colab": {
          "base_uri": "https://localhost:8080/"
        },
        "id": "TRQSzIUn48Uq",
        "outputId": "d9560150-63db-4e0d-b668-74175a1ab5e0"
      },
      "execution_count": 59,
      "outputs": [
        {
          "output_type": "stream",
          "name": "stdout",
          "text": [
            "The sentiment of the tweet is : positive\n"
          ]
        }
      ]
    },
    {
      "cell_type": "code",
      "source": [
        "sample_tweet = \"@virginamerica Well, I didn't…but NOW I DO! :-D\"\n",
        "logreg_countvect_predict = best_logreg_countvect.predict(preprocess_tweet(sample_tweet))\n",
        "print(\"The sentiment of the tweet is :\", logreg_countvect_predict[0])"
      ],
      "metadata": {
        "colab": {
          "base_uri": "https://localhost:8080/"
        },
        "id": "tTkO5_4U5Y0T",
        "outputId": "5712546f-0a52-43e3-ea6c-228d5c72b917"
      },
      "execution_count": 60,
      "outputs": [
        {
          "output_type": "stream",
          "name": "stdout",
          "text": [
            "The sentiment of the tweet is : positive\n"
          ]
        }
      ]
    },
    {
      "cell_type": "code",
      "source": [
        "sample_tweet = \"Heading to work now. Mondays are always busy.\"\n",
        "logreg_countvect_predict = best_logreg_countvect.predict(preprocess_tweet(sample_tweet))\n",
        "print(\"The sentiment of the tweet is :\", logreg_countvect_predict[0])"
      ],
      "metadata": {
        "colab": {
          "base_uri": "https://localhost:8080/"
        },
        "id": "USXNltndjmEq",
        "outputId": "b84a924f-8d31-41a0-f997-626690314446"
      },
      "execution_count": 61,
      "outputs": [
        {
          "output_type": "stream",
          "name": "stdout",
          "text": [
            "The sentiment of the tweet is : negative\n"
          ]
        }
      ]
    },
    {
      "cell_type": "code",
      "source": [
        "sample_tweet = \"  \"\n",
        "logreg_countvect_predict = best_logreg_countvect.predict(preprocess_tweet(sample_tweet))\n",
        "print(\"The sentiment of the tweet is :\", logreg_countvect_predict[0])"
      ],
      "metadata": {
        "colab": {
          "base_uri": "https://localhost:8080/"
        },
        "id": "JXIL8l0Hjm80",
        "outputId": "199bf6ef-1a41-430c-fd74-497b6e148fb9"
      },
      "execution_count": 64,
      "outputs": [
        {
          "output_type": "stream",
          "name": "stdout",
          "text": [
            "The sentiment of the tweet is : neutral\n"
          ]
        }
      ]
    },
    {
      "cell_type": "code",
      "source": [
        "sample_tweet = \"i don't know\"\n",
        "logreg_countvect_predict = best_logreg_countvect.predict(preprocess_tweet(sample_tweet))\n",
        "print(\"The sentiment of the tweet is :\", logreg_countvect_predict[0])"
      ],
      "metadata": {
        "colab": {
          "base_uri": "https://localhost:8080/"
        },
        "id": "gBL4SKOqjnBS",
        "outputId": "21da2bbc-09db-4b52-c50e-2bdfee9ccedd"
      },
      "execution_count": 65,
      "outputs": [
        {
          "output_type": "stream",
          "name": "stdout",
          "text": [
            "The sentiment of the tweet is : neutral\n"
          ]
        }
      ]
    }
  ],
  "metadata": {
    "colab": {
      "provenance": []
    },
    "kernelspec": {
      "display_name": "Python 3",
      "name": "python3"
    },
    "language_info": {
      "name": "python"
    }
  },
  "nbformat": 4,
  "nbformat_minor": 0
}