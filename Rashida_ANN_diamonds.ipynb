{
  "nbformat": 4,
  "nbformat_minor": 0,
  "metadata": {
    "colab": {
      "provenance": []
    },
    "kernelspec": {
      "name": "python3",
      "display_name": "Python 3"
    },
    "language_info": {
      "name": "python"
    },
    "accelerator": "GPU",
    "gpuClass": "standard"
  },
  "cells": [
    {
      "cell_type": "markdown",
      "source": [
        "Import necessary libraries"
      ],
      "metadata": {
        "id": "kS3Sn2wJaVFL"
      }
    },
    {
      "cell_type": "code",
      "execution_count": 1,
      "metadata": {
        "id": "NBIDZr3v1Nvv"
      },
      "outputs": [],
      "source": [
        "import pandas as pd\n",
        "import numpy as np"
      ]
    },
    {
      "cell_type": "code",
      "source": [
        "data = pd.read_csv(\"diamonds_new.csv\")"
      ],
      "metadata": {
        "id": "CcBi5z4n1t80"
      },
      "execution_count": 2,
      "outputs": []
    },
    {
      "cell_type": "code",
      "source": [
        "data.head()"
      ],
      "metadata": {
        "colab": {
          "base_uri": "https://localhost:8080/",
          "height": 206
        },
        "id": "-ZyHsHf91zht",
        "outputId": "c0be92a1-2b68-4b7b-f648-09f1068932b8"
      },
      "execution_count": 3,
      "outputs": [
        {
          "output_type": "execute_result",
          "data": {
            "text/plain": [
              "   carat      cut color clarity  table     x     y     z  price_new\n",
              "0   0.23    Ideal     E     SI2   55.0  3.95  3.98  2.43      163.0\n",
              "1   0.21  Premium     E     SI1   61.0  3.89  3.84  2.31      163.0\n",
              "2   0.23     Good     E     VS1   65.0  4.05  4.07  2.31      163.5\n",
              "3   0.29  Premium     I     VS2   58.0  4.20  4.23  2.63      167.0\n",
              "4   0.31     Good     J     SI2   58.0  4.34  4.35  2.75      167.5"
            ],
            "text/html": [
              "\n",
              "  <div id=\"df-a4ab12b6-0958-45a5-93cb-21791dbcadb8\">\n",
              "    <div class=\"colab-df-container\">\n",
              "      <div>\n",
              "<style scoped>\n",
              "    .dataframe tbody tr th:only-of-type {\n",
              "        vertical-align: middle;\n",
              "    }\n",
              "\n",
              "    .dataframe tbody tr th {\n",
              "        vertical-align: top;\n",
              "    }\n",
              "\n",
              "    .dataframe thead th {\n",
              "        text-align: right;\n",
              "    }\n",
              "</style>\n",
              "<table border=\"1\" class=\"dataframe\">\n",
              "  <thead>\n",
              "    <tr style=\"text-align: right;\">\n",
              "      <th></th>\n",
              "      <th>carat</th>\n",
              "      <th>cut</th>\n",
              "      <th>color</th>\n",
              "      <th>clarity</th>\n",
              "      <th>table</th>\n",
              "      <th>x</th>\n",
              "      <th>y</th>\n",
              "      <th>z</th>\n",
              "      <th>price_new</th>\n",
              "    </tr>\n",
              "  </thead>\n",
              "  <tbody>\n",
              "    <tr>\n",
              "      <th>0</th>\n",
              "      <td>0.23</td>\n",
              "      <td>Ideal</td>\n",
              "      <td>E</td>\n",
              "      <td>SI2</td>\n",
              "      <td>55.0</td>\n",
              "      <td>3.95</td>\n",
              "      <td>3.98</td>\n",
              "      <td>2.43</td>\n",
              "      <td>163.0</td>\n",
              "    </tr>\n",
              "    <tr>\n",
              "      <th>1</th>\n",
              "      <td>0.21</td>\n",
              "      <td>Premium</td>\n",
              "      <td>E</td>\n",
              "      <td>SI1</td>\n",
              "      <td>61.0</td>\n",
              "      <td>3.89</td>\n",
              "      <td>3.84</td>\n",
              "      <td>2.31</td>\n",
              "      <td>163.0</td>\n",
              "    </tr>\n",
              "    <tr>\n",
              "      <th>2</th>\n",
              "      <td>0.23</td>\n",
              "      <td>Good</td>\n",
              "      <td>E</td>\n",
              "      <td>VS1</td>\n",
              "      <td>65.0</td>\n",
              "      <td>4.05</td>\n",
              "      <td>4.07</td>\n",
              "      <td>2.31</td>\n",
              "      <td>163.5</td>\n",
              "    </tr>\n",
              "    <tr>\n",
              "      <th>3</th>\n",
              "      <td>0.29</td>\n",
              "      <td>Premium</td>\n",
              "      <td>I</td>\n",
              "      <td>VS2</td>\n",
              "      <td>58.0</td>\n",
              "      <td>4.20</td>\n",
              "      <td>4.23</td>\n",
              "      <td>2.63</td>\n",
              "      <td>167.0</td>\n",
              "    </tr>\n",
              "    <tr>\n",
              "      <th>4</th>\n",
              "      <td>0.31</td>\n",
              "      <td>Good</td>\n",
              "      <td>J</td>\n",
              "      <td>SI2</td>\n",
              "      <td>58.0</td>\n",
              "      <td>4.34</td>\n",
              "      <td>4.35</td>\n",
              "      <td>2.75</td>\n",
              "      <td>167.5</td>\n",
              "    </tr>\n",
              "  </tbody>\n",
              "</table>\n",
              "</div>\n",
              "      <button class=\"colab-df-convert\" onclick=\"convertToInteractive('df-a4ab12b6-0958-45a5-93cb-21791dbcadb8')\"\n",
              "              title=\"Convert this dataframe to an interactive table.\"\n",
              "              style=\"display:none;\">\n",
              "        \n",
              "  <svg xmlns=\"http://www.w3.org/2000/svg\" height=\"24px\"viewBox=\"0 0 24 24\"\n",
              "       width=\"24px\">\n",
              "    <path d=\"M0 0h24v24H0V0z\" fill=\"none\"/>\n",
              "    <path d=\"M18.56 5.44l.94 2.06.94-2.06 2.06-.94-2.06-.94-.94-2.06-.94 2.06-2.06.94zm-11 1L8.5 8.5l.94-2.06 2.06-.94-2.06-.94L8.5 2.5l-.94 2.06-2.06.94zm10 10l.94 2.06.94-2.06 2.06-.94-2.06-.94-.94-2.06-.94 2.06-2.06.94z\"/><path d=\"M17.41 7.96l-1.37-1.37c-.4-.4-.92-.59-1.43-.59-.52 0-1.04.2-1.43.59L10.3 9.45l-7.72 7.72c-.78.78-.78 2.05 0 2.83L4 21.41c.39.39.9.59 1.41.59.51 0 1.02-.2 1.41-.59l7.78-7.78 2.81-2.81c.8-.78.8-2.07 0-2.86zM5.41 20L4 18.59l7.72-7.72 1.47 1.35L5.41 20z\"/>\n",
              "  </svg>\n",
              "      </button>\n",
              "      \n",
              "  <style>\n",
              "    .colab-df-container {\n",
              "      display:flex;\n",
              "      flex-wrap:wrap;\n",
              "      gap: 12px;\n",
              "    }\n",
              "\n",
              "    .colab-df-convert {\n",
              "      background-color: #E8F0FE;\n",
              "      border: none;\n",
              "      border-radius: 50%;\n",
              "      cursor: pointer;\n",
              "      display: none;\n",
              "      fill: #1967D2;\n",
              "      height: 32px;\n",
              "      padding: 0 0 0 0;\n",
              "      width: 32px;\n",
              "    }\n",
              "\n",
              "    .colab-df-convert:hover {\n",
              "      background-color: #E2EBFA;\n",
              "      box-shadow: 0px 1px 2px rgba(60, 64, 67, 0.3), 0px 1px 3px 1px rgba(60, 64, 67, 0.15);\n",
              "      fill: #174EA6;\n",
              "    }\n",
              "\n",
              "    [theme=dark] .colab-df-convert {\n",
              "      background-color: #3B4455;\n",
              "      fill: #D2E3FC;\n",
              "    }\n",
              "\n",
              "    [theme=dark] .colab-df-convert:hover {\n",
              "      background-color: #434B5C;\n",
              "      box-shadow: 0px 1px 3px 1px rgba(0, 0, 0, 0.15);\n",
              "      filter: drop-shadow(0px 1px 2px rgba(0, 0, 0, 0.3));\n",
              "      fill: #FFFFFF;\n",
              "    }\n",
              "  </style>\n",
              "\n",
              "      <script>\n",
              "        const buttonEl =\n",
              "          document.querySelector('#df-a4ab12b6-0958-45a5-93cb-21791dbcadb8 button.colab-df-convert');\n",
              "        buttonEl.style.display =\n",
              "          google.colab.kernel.accessAllowed ? 'block' : 'none';\n",
              "\n",
              "        async function convertToInteractive(key) {\n",
              "          const element = document.querySelector('#df-a4ab12b6-0958-45a5-93cb-21791dbcadb8');\n",
              "          const dataTable =\n",
              "            await google.colab.kernel.invokeFunction('convertToInteractive',\n",
              "                                                     [key], {});\n",
              "          if (!dataTable) return;\n",
              "\n",
              "          const docLinkHtml = 'Like what you see? Visit the ' +\n",
              "            '<a target=\"_blank\" href=https://colab.research.google.com/notebooks/data_table.ipynb>data table notebook</a>'\n",
              "            + ' to learn more about interactive tables.';\n",
              "          element.innerHTML = '';\n",
              "          dataTable['output_type'] = 'display_data';\n",
              "          await google.colab.output.renderOutput(dataTable, element);\n",
              "          const docLink = document.createElement('div');\n",
              "          docLink.innerHTML = docLinkHtml;\n",
              "          element.appendChild(docLink);\n",
              "        }\n",
              "      </script>\n",
              "    </div>\n",
              "  </div>\n",
              "  "
            ]
          },
          "metadata": {},
          "execution_count": 3
        }
      ]
    },
    {
      "cell_type": "code",
      "source": [
        "data.info()"
      ],
      "metadata": {
        "colab": {
          "base_uri": "https://localhost:8080/"
        },
        "id": "sg_MvW-611vg",
        "outputId": "912b981e-3329-4b74-ceb8-20c7f29237bb"
      },
      "execution_count": 4,
      "outputs": [
        {
          "output_type": "stream",
          "name": "stdout",
          "text": [
            "<class 'pandas.core.frame.DataFrame'>\n",
            "RangeIndex: 53940 entries, 0 to 53939\n",
            "Data columns (total 9 columns):\n",
            " #   Column     Non-Null Count  Dtype  \n",
            "---  ------     --------------  -----  \n",
            " 0   carat      53841 non-null  float64\n",
            " 1   cut        53940 non-null  object \n",
            " 2   color      53884 non-null  object \n",
            " 3   clarity    53940 non-null  object \n",
            " 4   table      53877 non-null  float64\n",
            " 5   x          53940 non-null  float64\n",
            " 6   y          53940 non-null  float64\n",
            " 7   z          53940 non-null  float64\n",
            " 8   price_new  53940 non-null  float64\n",
            "dtypes: float64(6), object(3)\n",
            "memory usage: 3.7+ MB\n"
          ]
        }
      ]
    },
    {
      "cell_type": "markdown",
      "source": [
        "Handling null values"
      ],
      "metadata": {
        "id": "q1dfU84SaiPU"
      }
    },
    {
      "cell_type": "code",
      "source": [
        "data.isna().sum()"
      ],
      "metadata": {
        "colab": {
          "base_uri": "https://localhost:8080/"
        },
        "id": "JiB67XR13MKP",
        "outputId": "781b9793-77eb-4820-9267-a7714097df65"
      },
      "execution_count": 5,
      "outputs": [
        {
          "output_type": "execute_result",
          "data": {
            "text/plain": [
              "carat        99\n",
              "cut           0\n",
              "color        56\n",
              "clarity       0\n",
              "table        63\n",
              "x             0\n",
              "y             0\n",
              "z             0\n",
              "price_new     0\n",
              "dtype: int64"
            ]
          },
          "metadata": {},
          "execution_count": 5
        }
      ]
    },
    {
      "cell_type": "code",
      "source": [
        "data.shape"
      ],
      "metadata": {
        "colab": {
          "base_uri": "https://localhost:8080/"
        },
        "id": "tLhAPmbR3Pev",
        "outputId": "daa8439d-1671-46f7-f9f0-8362d70821f5"
      },
      "execution_count": 6,
      "outputs": [
        {
          "output_type": "execute_result",
          "data": {
            "text/plain": [
              "(53940, 9)"
            ]
          },
          "metadata": {},
          "execution_count": 6
        }
      ]
    },
    {
      "cell_type": "code",
      "source": [
        "import matplotlib.pyplot as plt"
      ],
      "metadata": {
        "id": "exQ4u-5K3VkQ"
      },
      "execution_count": 7,
      "outputs": []
    },
    {
      "cell_type": "code",
      "source": [
        "plt.hist(data['carat'])\n",
        "plt.show()"
      ],
      "metadata": {
        "colab": {
          "base_uri": "https://localhost:8080/",
          "height": 430
        },
        "id": "gseHov533azw",
        "outputId": "6cfe5f3e-287d-4b7c-d514-ccc7e0d80a3a"
      },
      "execution_count": 8,
      "outputs": [
        {
          "output_type": "display_data",
          "data": {
            "text/plain": [
              "<Figure size 640x480 with 1 Axes>"
            ],
            "image/png": "[encoded data removed]"
          },
          "metadata": {}
        }
      ]
    },
    {
      "cell_type": "code",
      "source": [
        "plt.hist(data['table'])\n",
        "plt.show()"
      ],
      "metadata": {
        "colab": {
          "base_uri": "https://localhost:8080/",
          "height": 430
        },
        "id": "F1tB9pa-3e2D",
        "outputId": "a6791ebd-57a2-492f-9a47-e1ff91370722"
      },
      "execution_count": 9,
      "outputs": [
        {
          "output_type": "display_data",
          "data": {
            "text/plain": [
              "<Figure size 640x480 with 1 Axes>"
            ],
            "image/png": "[encoded data removed]"
          },
          "metadata": {}
        }
      ]
    },
    {
      "cell_type": "code",
      "source": [
        "data.describe()"
      ],
      "metadata": {
        "colab": {
          "base_uri": "https://localhost:8080/",
          "height": 300
        },
        "id": "L1BAK_W53kag",
        "outputId": "2d01ce5b-9d6f-4d4f-f708-cec9beaddd8f"
      },
      "execution_count": 10,
      "outputs": [
        {
          "output_type": "execute_result",
          "data": {
            "text/plain": [
              "              carat         table             x             y             z  \\\n",
              "count  53841.000000  53877.000000  53940.000000  53940.000000  53940.000000   \n",
              "mean       0.798120     57.457719      5.731157      5.734526      3.539635   \n",
              "std        0.474428      2.235742      1.121761      1.142135      0.703869   \n",
              "min        0.200000     43.000000      0.000000      0.000000      0.000000   \n",
              "25%        0.400000     56.000000      4.710000      4.720000      2.910000   \n",
              "50%        0.700000     57.000000      5.700000      5.710000      3.530000   \n",
              "75%        1.040000     59.000000      6.540000      6.540000      4.040000   \n",
              "max        5.010000     95.000000     10.740000     58.900000     31.800000   \n",
              "\n",
              "          price_new  \n",
              "count  53940.000000  \n",
              "mean    1966.399861  \n",
              "std     1994.719869  \n",
              "min      163.000000  \n",
              "25%      475.000000  \n",
              "50%     1200.500000  \n",
              "75%     2662.125000  \n",
              "max     9411.500000  "
            ],
            "text/html": [
              "\n",
              "  <div id=\"df-a5f9da8b-bdfb-4ad2-8d4b-806555c2adff\">\n",
              "    <div class=\"colab-df-container\">\n",
              "      <div>\n",
              "<style scoped>\n",
              "    .dataframe tbody tr th:only-of-type {\n",
              "        vertical-align: middle;\n",
              "    }\n",
              "\n",
              "    .dataframe tbody tr th {\n",
              "        vertical-align: top;\n",
              "    }\n",
              "\n",
              "    .dataframe thead th {\n",
              "        text-align: right;\n",
              "    }\n",
              "</style>\n",
              "<table border=\"1\" class=\"dataframe\">\n",
              "  <thead>\n",
              "    <tr style=\"text-align: right;\">\n",
              "      <th></th>\n",
              "      <th>carat</th>\n",
              "      <th>table</th>\n",
              "      <th>x</th>\n",
              "      <th>y</th>\n",
              "      <th>z</th>\n",
              "      <th>price_new</th>\n",
              "    </tr>\n",
              "  </thead>\n",
              "  <tbody>\n",
              "    <tr>\n",
              "      <th>count</th>\n",
              "      <td>53841.000000</td>\n",
              "      <td>53877.000000</td>\n",
              "      <td>53940.000000</td>\n",
              "      <td>53940.000000</td>\n",
              "      <td>53940.000000</td>\n",
              "      <td>53940.000000</td>\n",
              "    </tr>\n",
              "    <tr>\n",
              "      <th>mean</th>\n",
              "      <td>0.798120</td>\n",
              "      <td>57.457719</td>\n",
              "      <td>5.731157</td>\n",
              "      <td>5.734526</td>\n",
              "      <td>3.539635</td>\n",
              "      <td>1966.399861</td>\n",
              "    </tr>\n",
              "    <tr>\n",
              "      <th>std</th>\n",
              "      <td>0.474428</td>\n",
              "      <td>2.235742</td>\n",
              "      <td>1.121761</td>\n",
              "      <td>1.142135</td>\n",
              "      <td>0.703869</td>\n",
              "      <td>1994.719869</td>\n",
              "    </tr>\n",
              "    <tr>\n",
              "      <th>min</th>\n",
              "      <td>0.200000</td>\n",
              "      <td>43.000000</td>\n",
              "      <td>0.000000</td>\n",
              "      <td>0.000000</td>\n",
              "      <td>0.000000</td>\n",
              "      <td>163.000000</td>\n",
              "    </tr>\n",
              "    <tr>\n",
              "      <th>25%</th>\n",
              "      <td>0.400000</td>\n",
              "      <td>56.000000</td>\n",
              "      <td>4.710000</td>\n",
              "      <td>4.720000</td>\n",
              "      <td>2.910000</td>\n",
              "      <td>475.000000</td>\n",
              "    </tr>\n",
              "    <tr>\n",
              "      <th>50%</th>\n",
              "      <td>0.700000</td>\n",
              "      <td>57.000000</td>\n",
              "      <td>5.700000</td>\n",
              "      <td>5.710000</td>\n",
              "      <td>3.530000</td>\n",
              "      <td>1200.500000</td>\n",
              "    </tr>\n",
              "    <tr>\n",
              "      <th>75%</th>\n",
              "      <td>1.040000</td>\n",
              "      <td>59.000000</td>\n",
              "      <td>6.540000</td>\n",
              "      <td>6.540000</td>\n",
              "      <td>4.040000</td>\n",
              "      <td>2662.125000</td>\n",
              "    </tr>\n",
              "    <tr>\n",
              "      <th>max</th>\n",
              "      <td>5.010000</td>\n",
              "      <td>95.000000</td>\n",
              "      <td>10.740000</td>\n",
              "      <td>58.900000</td>\n",
              "      <td>31.800000</td>\n",
              "      <td>9411.500000</td>\n",
              "    </tr>\n",
              "  </tbody>\n",
              "</table>\n",
              "</div>\n",
              "      <button class=\"colab-df-convert\" onclick=\"convertToInteractive('df-a5f9da8b-bdfb-4ad2-8d4b-806555c2adff')\"\n",
              "              title=\"Convert this dataframe to an interactive table.\"\n",
              "              style=\"display:none;\">\n",
              "        \n",
              "  <svg xmlns=\"http://www.w3.org/2000/svg\" height=\"24px\"viewBox=\"0 0 24 24\"\n",
              "       width=\"24px\">\n",
              "    <path d=\"M0 0h24v24H0V0z\" fill=\"none\"/>\n",
              "    <path d=\"M18.56 5.44l.94 2.06.94-2.06 2.06-.94-2.06-.94-.94-2.06-.94 2.06-2.06.94zm-11 1L8.5 8.5l.94-2.06 2.06-.94-2.06-.94L8.5 2.5l-.94 2.06-2.06.94zm10 10l.94 2.06.94-2.06 2.06-.94-2.06-.94-.94-2.06-.94 2.06-2.06.94z\"/><path d=\"M17.41 7.96l-1.37-1.37c-.4-.4-.92-.59-1.43-.59-.52 0-1.04.2-1.43.59L10.3 9.45l-7.72 7.72c-.78.78-.78 2.05 0 2.83L4 21.41c.39.39.9.59 1.41.59.51 0 1.02-.2 1.41-.59l7.78-7.78 2.81-2.81c.8-.78.8-2.07 0-2.86zM5.41 20L4 18.59l7.72-7.72 1.47 1.35L5.41 20z\"/>\n",
              "  </svg>\n",
              "      </button>\n",
              "      \n",
              "  <style>\n",
              "    .colab-df-container {\n",
              "      display:flex;\n",
              "      flex-wrap:wrap;\n",
              "      gap: 12px;\n",
              "    }\n",
              "\n",
              "    .colab-df-convert {\n",
              "      background-color: #E8F0FE;\n",
              "      border: none;\n",
              "      border-radius: 50%;\n",
              "      cursor: pointer;\n",
              "      display: none;\n",
              "      fill: #1967D2;\n",
              "      height: 32px;\n",
              "      padding: 0 0 0 0;\n",
              "      width: 32px;\n",
              "    }\n",
              "\n",
              "    .colab-df-convert:hover {\n",
              "      background-color: #E2EBFA;\n",
              "      box-shadow: 0px 1px 2px rgba(60, 64, 67, 0.3), 0px 1px 3px 1px rgba(60, 64, 67, 0.15);\n",
              "      fill: #174EA6;\n",
              "    }\n",
              "\n",
              "    [theme=dark] .colab-df-convert {\n",
              "      background-color: #3B4455;\n",
              "      fill: #D2E3FC;\n",
              "    }\n",
              "\n",
              "    [theme=dark] .colab-df-convert:hover {\n",
              "      background-color: #434B5C;\n",
              "      box-shadow: 0px 1px 3px 1px rgba(0, 0, 0, 0.15);\n",
              "      filter: drop-shadow(0px 1px 2px rgba(0, 0, 0, 0.3));\n",
              "      fill: #FFFFFF;\n",
              "    }\n",
              "  </style>\n",
              "\n",
              "      <script>\n",
              "        const buttonEl =\n",
              "          document.querySelector('#df-a5f9da8b-bdfb-4ad2-8d4b-806555c2adff button.colab-df-convert');\n",
              "        buttonEl.style.display =\n",
              "          google.colab.kernel.accessAllowed ? 'block' : 'none';\n",
              "\n",
              "        async function convertToInteractive(key) {\n",
              "          const element = document.querySelector('#df-a5f9da8b-bdfb-4ad2-8d4b-806555c2adff');\n",
              "          const dataTable =\n",
              "            await google.colab.kernel.invokeFunction('convertToInteractive',\n",
              "                                                     [key], {});\n",
              "          if (!dataTable) return;\n",
              "\n",
              "          const docLinkHtml = 'Like what you see? Visit the ' +\n",
              "            '<a target=\"_blank\" href=https://colab.research.google.com/notebooks/data_table.ipynb>data table notebook</a>'\n",
              "            + ' to learn more about interactive tables.';\n",
              "          element.innerHTML = '';\n",
              "          dataTable['output_type'] = 'display_data';\n",
              "          await google.colab.output.renderOutput(dataTable, element);\n",
              "          const docLink = document.createElement('div');\n",
              "          docLink.innerHTML = docLinkHtml;\n",
              "          element.appendChild(docLink);\n",
              "        }\n",
              "      </script>\n",
              "    </div>\n",
              "  </div>\n",
              "  "
            ]
          },
          "metadata": {},
          "execution_count": 10
        }
      ]
    },
    {
      "cell_type": "markdown",
      "source": [
        "Remove rows with zero values for x, y, and z"
      ],
      "metadata": {
        "id": "QRcgcHbEaxu7"
      }
    },
    {
      "cell_type": "code",
      "source": [
        "data[(data['x']==0) | (data['y']==0) | (data['z']==0)].index"
      ],
      "metadata": {
        "colab": {
          "base_uri": "https://localhost:8080/"
        },
        "id": "XW1SjMRn3q84",
        "outputId": "bbf8ddda-59b3-4066-da6b-b02b719dea0a"
      },
      "execution_count": 11,
      "outputs": [
        {
          "output_type": "execute_result",
          "data": {
            "text/plain": [
              "Int64Index([11182, 11963, 15951, 24520, 26243, 27429, 49556, 49557], dtype='int64')"
            ]
          },
          "metadata": {},
          "execution_count": 11
        }
      ]
    },
    {
      "cell_type": "code",
      "source": [
        "data2 = data.drop([11182, 11963, 15951, 24520, 26243, 27429, 49556, 49557])"
      ],
      "metadata": {
        "id": "W15ZK9DV4HAa"
      },
      "execution_count": 12,
      "outputs": []
    },
    {
      "cell_type": "code",
      "source": [
        "plt.scatter(data2['y'], data2['z'])\n",
        "plt.show()"
      ],
      "metadata": {
        "colab": {
          "base_uri": "https://localhost:8080/",
          "height": 430
        },
        "id": "m0dp8Jiw4ZGa",
        "outputId": "bd7c87b4-4846-4f63-9ec1-aa11fddbf0a1"
      },
      "execution_count": 13,
      "outputs": [
        {
          "output_type": "display_data",
          "data": {
            "text/plain": [
              "<Figure size 640x480 with 1 Axes>"
            ],
            "image/png": "[encoded data removed]"
          },
          "metadata": {}
        }
      ]
    },
    {
      "cell_type": "code",
      "source": [
        "plt.boxplot(data2['z'])\n",
        "plt.show()"
      ],
      "metadata": {
        "colab": {
          "base_uri": "https://localhost:8080/",
          "height": 430
        },
        "id": "uvGq9Vlo4m2C",
        "outputId": "02d3b9fd-0829-4ed5-befa-3c1bebc15922"
      },
      "execution_count": 14,
      "outputs": [
        {
          "output_type": "display_data",
          "data": {
            "text/plain": [
              "<Figure size 640x480 with 1 Axes>"
            ],
            "image/png": "[encoded data removed]"
          },
          "metadata": {}
        }
      ]
    },
    {
      "cell_type": "markdown",
      "source": [
        "Removing Outliers"
      ],
      "metadata": {
        "id": "WpT6dAgTa-NB"
      }
    },
    {
      "cell_type": "code",
      "source": [
        "data2[(data2['y'] > 15) | (data2['z'] > 15)].index"
      ],
      "metadata": {
        "colab": {
          "base_uri": "https://localhost:8080/"
        },
        "id": "gyvdXDG14z9A",
        "outputId": "e616f0b9-af8f-494e-dbc5-214d2e0bfb49"
      },
      "execution_count": 15,
      "outputs": [
        {
          "output_type": "execute_result",
          "data": {
            "text/plain": [
              "Int64Index([24067, 48410, 49189], dtype='int64')"
            ]
          },
          "metadata": {},
          "execution_count": 15
        }
      ]
    },
    {
      "cell_type": "code",
      "source": [
        "data3 = data2.drop([24067, 48410, 49189])"
      ],
      "metadata": {
        "id": "3ps3qguq5DH6"
      },
      "execution_count": 16,
      "outputs": []
    },
    {
      "cell_type": "code",
      "source": [
        "data3.shape"
      ],
      "metadata": {
        "colab": {
          "base_uri": "https://localhost:8080/"
        },
        "id": "mKI2wXWm5Z4j",
        "outputId": "4b815bc6-c9d8-46af-f157-26eca7736f9c"
      },
      "execution_count": 17,
      "outputs": [
        {
          "output_type": "execute_result",
          "data": {
            "text/plain": [
              "(53929, 9)"
            ]
          },
          "metadata": {},
          "execution_count": 17
        }
      ]
    },
    {
      "cell_type": "markdown",
      "source": [
        "Fill the missing values"
      ],
      "metadata": {
        "id": "1q5zMNGAbFLC"
      }
    },
    {
      "cell_type": "code",
      "source": [
        "data3.isna().sum()"
      ],
      "metadata": {
        "colab": {
          "base_uri": "https://localhost:8080/"
        },
        "id": "yTGh05NW5iL0",
        "outputId": "4b39fedd-be55-4495-f86a-520a12b158e5"
      },
      "execution_count": 18,
      "outputs": [
        {
          "output_type": "execute_result",
          "data": {
            "text/plain": [
              "carat        99\n",
              "cut           0\n",
              "color        56\n",
              "clarity       0\n",
              "table        63\n",
              "x             0\n",
              "y             0\n",
              "z             0\n",
              "price_new     0\n",
              "dtype: int64"
            ]
          },
          "metadata": {},
          "execution_count": 18
        }
      ]
    },
    {
      "cell_type": "code",
      "source": [
        "car_median = data3['carat'].median()\n",
        "data3['carat'] = data3['carat'].fillna(car_median)"
      ],
      "metadata": {
        "id": "2evRR_0E5l2F"
      },
      "execution_count": 19,
      "outputs": []
    },
    {
      "cell_type": "code",
      "source": [
        "car_table = data3['table'].median()\n",
        "data3['table'] = data3['table'].fillna(car_table)"
      ],
      "metadata": {
        "id": "176Z__aq5yid"
      },
      "execution_count": 20,
      "outputs": []
    },
    {
      "cell_type": "code",
      "source": [
        "data3['color'].value_counts()"
      ],
      "metadata": {
        "colab": {
          "base_uri": "https://localhost:8080/"
        },
        "id": "PHr_el5w6APT",
        "outputId": "733d5787-9936-4dd4-cbeb-1f5d4de13184"
      },
      "execution_count": 21,
      "outputs": [
        {
          "output_type": "execute_result",
          "data": {
            "text/plain": [
              "G    11234\n",
              "E     9795\n",
              "F     9539\n",
              "H     8301\n",
              "D     6774\n",
              "I     5422\n",
              "J     2808\n",
              "Name: color, dtype: int64"
            ]
          },
          "metadata": {},
          "execution_count": 21
        }
      ]
    },
    {
      "cell_type": "code",
      "source": [
        "data3[\"color\"] = data3['color'].fillna(\"G\")"
      ],
      "metadata": {
        "id": "evfvkEpG6HIn"
      },
      "execution_count": 22,
      "outputs": []
    },
    {
      "cell_type": "code",
      "source": [
        "data3.isna().sum()"
      ],
      "metadata": {
        "colab": {
          "base_uri": "https://localhost:8080/"
        },
        "id": "WgmnvdD76Ngg",
        "outputId": "def4e4ac-cd46-400a-c103-c61c55501946"
      },
      "execution_count": 23,
      "outputs": [
        {
          "output_type": "execute_result",
          "data": {
            "text/plain": [
              "carat        0\n",
              "cut          0\n",
              "color        0\n",
              "clarity      0\n",
              "table        0\n",
              "x            0\n",
              "y            0\n",
              "z            0\n",
              "price_new    0\n",
              "dtype: int64"
            ]
          },
          "metadata": {},
          "execution_count": 23
        }
      ]
    },
    {
      "cell_type": "code",
      "source": [
        "data3.columns"
      ],
      "metadata": {
        "colab": {
          "base_uri": "https://localhost:8080/"
        },
        "id": "uMi7oaoM6TTh",
        "outputId": "e0f4f0c1-88ae-4818-e66b-19341c933541"
      },
      "execution_count": 24,
      "outputs": [
        {
          "output_type": "execute_result",
          "data": {
            "text/plain": [
              "Index(['carat', 'cut', 'color', 'clarity', 'table', 'x', 'y', 'z',\n",
              "       'price_new'],\n",
              "      dtype='object')"
            ]
          },
          "metadata": {},
          "execution_count": 24
        }
      ]
    },
    {
      "cell_type": "code",
      "source": [
        "y = data3['price_new']\n",
        "x = data3.drop(\"price_new\", axis=1)"
      ],
      "metadata": {
        "id": "vGE22FBh6Wzp"
      },
      "execution_count": 25,
      "outputs": []
    },
    {
      "cell_type": "markdown",
      "source": [
        "Convert to categorical"
      ],
      "metadata": {
        "id": "BS4vRbIhbX2i"
      }
    },
    {
      "cell_type": "code",
      "source": [
        "x = pd.get_dummies(x)"
      ],
      "metadata": {
        "id": "gzofqLBC6gBP"
      },
      "execution_count": 26,
      "outputs": []
    },
    {
      "cell_type": "markdown",
      "source": [
        "Scale features"
      ],
      "metadata": {
        "id": "02Iw3kLzbSvv"
      }
    },
    {
      "cell_type": "code",
      "source": [
        "from sklearn.preprocessing import MinMaxScaler\n",
        "mn = MinMaxScaler()"
      ],
      "metadata": {
        "id": "dNUwZsR77a-K"
      },
      "execution_count": 27,
      "outputs": []
    },
    {
      "cell_type": "code",
      "source": [
        "x = mn.fit_transform(x)"
      ],
      "metadata": {
        "id": "0aNOtjE87o2H"
      },
      "execution_count": 28,
      "outputs": []
    },
    {
      "cell_type": "markdown",
      "source": [
        "Split data into training and testing sets"
      ],
      "metadata": {
        "id": "_1r048x9bhBq"
      }
    },
    {
      "cell_type": "code",
      "source": [
        "from sklearn.model_selection import train_test_split"
      ],
      "metadata": {
        "id": "GcbVcCI66hUg"
      },
      "execution_count": 29,
      "outputs": []
    },
    {
      "cell_type": "code",
      "source": [
        "x_train, x_test, y_train , y_test = train_test_split(x, y, test_size=0.2, random_state= 134)"
      ],
      "metadata": {
        "id": "5hImoCfO6_sF"
      },
      "execution_count": 30,
      "outputs": []
    },
    {
      "cell_type": "code",
      "source": [
        "from tensorflow.keras.models import Sequential"
      ],
      "metadata": {
        "id": "WShjGTVA77lF"
      },
      "execution_count": 31,
      "outputs": []
    },
    {
      "cell_type": "code",
      "source": [
        "from tensorflow.keras.layers import Dense"
      ],
      "metadata": {
        "id": "v78pMYq98D0F"
      },
      "execution_count": 32,
      "outputs": []
    },
    {
      "cell_type": "code",
      "source": [
        "x.shape"
      ],
      "metadata": {
        "colab": {
          "base_uri": "https://localhost:8080/"
        },
        "id": "hu9hfjpK8TUT",
        "outputId": "52b3247b-2e23-4f06-f609-05f5c90a6504"
      },
      "execution_count": 33,
      "outputs": [
        {
          "output_type": "execute_result",
          "data": {
            "text/plain": [
              "(53929, 25)"
            ]
          },
          "metadata": {},
          "execution_count": 33
        }
      ]
    },
    {
      "cell_type": "markdown",
      "source": [
        "Model 1"
      ],
      "metadata": {
        "id": "jI6PV1QWiZnq"
      }
    },
    {
      "cell_type": "code",
      "source": [
        "model1 = Sequential()\n",
        "model1.add(Dense(32, activation = \"relu\", input_shape = (25,)))\n",
        "model1.add(Dense(16, activation = \"relu\"))\n",
        "model1.add(Dense(8, activation = \"relu\"))\n",
        "\n",
        "model1.add(Dense(1, activation = None))\n",
        "model1.summary()"
      ],
      "metadata": {
        "colab": {
          "base_uri": "https://localhost:8080/"
        },
        "id": "3C6v_62I8cGT",
        "outputId": "2dac415c-5c2f-4280-e2e4-a68269ae192c"
      },
      "execution_count": 34,
      "outputs": [
        {
          "output_type": "stream",
          "name": "stdout",
          "text": [
            "Model: \"sequential\"\n",
            "_________________________________________________________________\n",
            " Layer (type)                Output Shape              Param #   \n",
            "=================================================================\n",
            " dense (Dense)               (None, 32)                832       \n",
            "                                                                 \n",
            " dense_1 (Dense)             (None, 16)                528       \n",
            "                                                                 \n",
            " dense_2 (Dense)             (None, 8)                 136       \n",
            "                                                                 \n",
            " dense_3 (Dense)             (None, 1)                 9         \n",
            "                                                                 \n",
            "=================================================================\n",
            "Total params: 1,505\n",
            "Trainable params: 1,505\n",
            "Non-trainable params: 0\n",
            "_________________________________________________________________\n"
          ]
        }
      ]
    },
    {
      "cell_type": "markdown",
      "source": [
        " Compile this model"
      ],
      "metadata": {
        "id": "kcLDpMmdbzmT"
      }
    },
    {
      "cell_type": "code",
      "source": [
        "model1.compile(optimizer = \"sgd\", loss = \"mean_squared_error\")"
      ],
      "metadata": {
        "id": "1fsivmra9CDJ"
      },
      "execution_count": 35,
      "outputs": []
    },
    {
      "cell_type": "markdown",
      "source": [
        "Train the wights using backpropogation algorithm"
      ],
      "metadata": {
        "id": "8afNFnLbb8GU"
      }
    },
    {
      "cell_type": "code",
      "source": [
        "model1.fit(x_train, y_train, epochs = 10, batch_size = 128)"
      ],
      "metadata": {
        "colab": {
          "base_uri": "https://localhost:8080/"
        },
        "id": "bI-Nx4x09NrR",
        "outputId": "6083ed15-a2f7-4bb8-9b60-e0500c4dee3c"
      },
      "execution_count": 36,
      "outputs": [
        {
          "output_type": "stream",
          "name": "stdout",
          "text": [
            "Epoch 1/10\n",
            "338/338 [==============================] - 3s 3ms/step - loss: 7044431910939918336.0000\n",
            "Epoch 2/10\n",
            "338/338 [==============================] - 1s 3ms/step - loss: 43748589568.0000\n",
            "Epoch 3/10\n",
            "338/338 [==============================] - 1s 3ms/step - loss: 4048428.2500\n",
            "Epoch 4/10\n",
            "338/338 [==============================] - 2s 5ms/step - loss: 3998277.7500\n",
            "Epoch 5/10\n",
            "338/338 [==============================] - 2s 7ms/step - loss: 3998271.0000\n",
            "Epoch 6/10\n",
            "338/338 [==============================] - 2s 7ms/step - loss: 3997954.5000\n",
            "Epoch 7/10\n",
            "338/338 [==============================] - 2s 5ms/step - loss: 3998276.2500\n",
            "Epoch 8/10\n",
            "338/338 [==============================] - 2s 6ms/step - loss: 3997951.2500\n",
            "Epoch 9/10\n",
            "338/338 [==============================] - 2s 6ms/step - loss: 3998017.2500\n",
            "Epoch 10/10\n",
            "338/338 [==============================] - 2s 6ms/step - loss: 3998053.2500\n"
          ]
        },
        {
          "output_type": "execute_result",
          "data": {
            "text/plain": [
              "<keras.callbacks.History at 0x7fdb1823ca00>"
            ]
          },
          "metadata": {},
          "execution_count": 36
        }
      ]
    },
    {
      "cell_type": "code",
      "source": [
        "model1.evaluate(x_test, y_test)"
      ],
      "metadata": {
        "colab": {
          "base_uri": "https://localhost:8080/"
        },
        "id": "DWZw9Gtr9V-9",
        "outputId": "a6600a7e-c7ec-4d8b-8f90-3a0fec51f1e4"
      },
      "execution_count": 37,
      "outputs": [
        {
          "output_type": "stream",
          "name": "stdout",
          "text": [
            "338/338 [==============================] - 2s 6ms/step - loss: 3897382.2500\n"
          ]
        },
        {
          "output_type": "execute_result",
          "data": {
            "text/plain": [
              "3897382.25"
            ]
          },
          "metadata": {},
          "execution_count": 37
        }
      ]
    },
    {
      "cell_type": "markdown",
      "source": [
        "model3\n"
      ],
      "metadata": {
        "id": "vT8hg_ZR9u3Y"
      }
    },
    {
      "cell_type": "code",
      "source": [
        "from tensorflow.keras.layers import Dropout"
      ],
      "metadata": {
        "id": "rHVQInwt_1aO"
      },
      "execution_count": 38,
      "outputs": []
    },
    {
      "cell_type": "code",
      "source": [
        "model3 = Sequential()\n",
        "model3.add(Dense(128, input_shape = (25,), activation = \"relu\"))\n",
        "model3.add(Dense(128, activation = \"relu\"))\n",
        "model3.add(Dropout(0.15))\n",
        "model3.add(Dense(128, activation = \"relu\"))\n",
        "model3.add(Dropout(0.15))\n",
        "model3.add(Dense(64, activation = \"relu\"))\n",
        "model3.add(Dropout(0.15))\n",
        "model3.add(Dense(64, activation = \"relu\"))\n",
        "model3.add(Dropout(0.15))\n",
        "model3.add(Dense(32, activation = \"relu\"))\n",
        "model3.add(Dense(16, activation = \"relu\"))\n",
        "model3.add(Dense(1, activation = None))"
      ],
      "metadata": {
        "id": "E9e_uHa3-mJ0"
      },
      "execution_count": 39,
      "outputs": []
    },
    {
      "cell_type": "code",
      "source": [
        "model3.compile(optimizer = \"adam\", loss = \"mean_squared_error\")"
      ],
      "metadata": {
        "id": "BycHT5Qg_s0f"
      },
      "execution_count": 40,
      "outputs": []
    },
    {
      "cell_type": "code",
      "source": [
        "model3.fit(x_train, y_train, epochs = 30, batch_size = 128)"
      ],
      "metadata": {
        "colab": {
          "base_uri": "https://localhost:8080/"
        },
        "id": "QHG7FRYQADes",
        "outputId": "f535e56e-b162-464d-dc7d-bbba96f84e98"
      },
      "execution_count": 41,
      "outputs": [
        {
          "output_type": "stream",
          "name": "stdout",
          "text": [
            "Epoch 1/30\n",
            "338/338 [==============================] - 7s 5ms/step - loss: 2055542.2500\n",
            "Epoch 2/30\n",
            "338/338 [==============================] - 2s 5ms/step - loss: 230617.7031\n",
            "Epoch 3/30\n",
            "338/338 [==============================] - 2s 6ms/step - loss: 210617.0938\n",
            "Epoch 4/30\n",
            "338/338 [==============================] - 2s 5ms/step - loss: 198601.0000\n",
            "Epoch 5/30\n",
            "338/338 [==============================] - 2s 5ms/step - loss: 189916.9844\n",
            "Epoch 6/30\n",
            "338/338 [==============================] - 2s 5ms/step - loss: 193158.5312\n",
            "Epoch 7/30\n",
            "338/338 [==============================] - 2s 4ms/step - loss: 181080.8438\n",
            "Epoch 8/30\n",
            "338/338 [==============================] - 2s 5ms/step - loss: 183503.2031\n",
            "Epoch 9/30\n",
            "338/338 [==============================] - 2s 5ms/step - loss: 177768.9531\n",
            "Epoch 10/30\n",
            "338/338 [==============================] - 2s 5ms/step - loss: 176442.8750\n",
            "Epoch 11/30\n",
            "338/338 [==============================] - 2s 6ms/step - loss: 179696.7500\n",
            "Epoch 12/30\n",
            "338/338 [==============================] - 2s 4ms/step - loss: 173769.7188\n",
            "Epoch 13/30\n",
            "338/338 [==============================] - 2s 5ms/step - loss: 172388.5312\n",
            "Epoch 14/30\n",
            "338/338 [==============================] - 2s 5ms/step - loss: 170742.2812\n",
            "Epoch 15/30\n",
            "338/338 [==============================] - 1s 4ms/step - loss: 176035.8750\n",
            "Epoch 16/30\n",
            "338/338 [==============================] - 2s 5ms/step - loss: 161335.5312\n",
            "Epoch 17/30\n",
            "338/338 [==============================] - 2s 4ms/step - loss: 164908.4219\n",
            "Epoch 18/30\n",
            "338/338 [==============================] - 2s 6ms/step - loss: 167711.7188\n",
            "Epoch 19/30\n",
            "338/338 [==============================] - 2s 6ms/step - loss: 164605.8906\n",
            "Epoch 20/30\n",
            "338/338 [==============================] - 2s 5ms/step - loss: 160911.6875\n",
            "Epoch 21/30\n",
            "338/338 [==============================] - 2s 5ms/step - loss: 166638.5312\n",
            "Epoch 22/30\n",
            "338/338 [==============================] - 1s 4ms/step - loss: 156241.3594\n",
            "Epoch 23/30\n",
            "338/338 [==============================] - 2s 4ms/step - loss: 161942.4688\n",
            "Epoch 24/30\n",
            "338/338 [==============================] - 2s 5ms/step - loss: 156622.1094\n",
            "Epoch 25/30\n",
            "338/338 [==============================] - 2s 5ms/step - loss: 164730.0469\n",
            "Epoch 26/30\n",
            "338/338 [==============================] - 2s 6ms/step - loss: 148265.2031\n",
            "Epoch 27/30\n",
            "338/338 [==============================] - 2s 5ms/step - loss: 153307.1875\n",
            "Epoch 28/30\n",
            "338/338 [==============================] - 2s 5ms/step - loss: 144445.9844\n",
            "Epoch 29/30\n",
            "338/338 [==============================] - 2s 5ms/step - loss: 151294.4844\n",
            "Epoch 30/30\n",
            "338/338 [==============================] - 2s 5ms/step - loss: 147583.8594\n"
          ]
        },
        {
          "output_type": "execute_result",
          "data": {
            "text/plain": [
              "<keras.callbacks.History at 0x7fda98e3d070>"
            ]
          },
          "metadata": {},
          "execution_count": 41
        }
      ]
    },
    {
      "cell_type": "code",
      "source": [
        "model3.evaluate(x_test, y_test)"
      ],
      "metadata": {
        "colab": {
          "base_uri": "https://localhost:8080/"
        },
        "id": "2NhvGvFmAHvl",
        "outputId": "a47e615c-2080-4788-905f-74e35193c860"
      },
      "execution_count": 42,
      "outputs": [
        {
          "output_type": "stream",
          "name": "stdout",
          "text": [
            "338/338 [==============================] - 1s 4ms/step - loss: 367814.3125\n"
          ]
        },
        {
          "output_type": "execute_result",
          "data": {
            "text/plain": [
              "367814.3125"
            ]
          },
          "metadata": {},
          "execution_count": 42
        }
      ]
    },
    {
      "cell_type": "markdown",
      "source": [
        "Linear Regression"
      ],
      "metadata": {
        "id": "vIC59UoTdp-h"
      }
    },
    {
      "cell_type": "code",
      "source": [
        "from sklearn.linear_model import LinearRegression"
      ],
      "metadata": {
        "id": "8yddVjY1AtN8"
      },
      "execution_count": 43,
      "outputs": []
    },
    {
      "cell_type": "code",
      "source": [
        "lr = LinearRegression()"
      ],
      "metadata": {
        "id": "zxcusg0qA3Wi"
      },
      "execution_count": 44,
      "outputs": []
    },
    {
      "cell_type": "code",
      "source": [
        "lr.fit(x_train, y_train)"
      ],
      "metadata": {
        "colab": {
          "base_uri": "https://localhost:8080/",
          "height": 75
        },
        "id": "L32rS8wEA5HY",
        "outputId": "66d56c51-015a-433b-a043-beffd32ca5aa"
      },
      "execution_count": 45,
      "outputs": [
        {
          "output_type": "execute_result",
          "data": {
            "text/plain": [
              "LinearRegression()"
            ],
            "text/html": [
              "<style>#sk-container-id-1 {color: black;background-color: white;}#sk-container-id-1 pre{padding: 0;}#sk-container-id-1 div.sk-toggleable {background-color: white;}#sk-container-id-1 label.sk-toggleable__label {cursor: pointer;display: block;width: 100%;margin-bottom: 0;padding: 0.3em;box-sizing: border-box;text-align: center;}#sk-container-id-1 label.sk-toggleable__label-arrow:before {content: \"▸\";float: left;margin-right: 0.25em;color: #696969;}#sk-container-id-1 label.sk-toggleable__label-arrow:hover:before {color: black;}#sk-container-id-1 div.sk-estimator:hover label.sk-toggleable__label-arrow:before {color: black;}#sk-container-id-1 div.sk-toggleable__content {max-height: 0;max-width: 0;overflow: hidden;text-align: left;background-color: #f0f8ff;}#sk-container-id-1 div.sk-toggleable__content pre {margin: 0.2em;color: black;border-radius: 0.25em;background-color: #f0f8ff;}#sk-container-id-1 input.sk-toggleable__control:checked~div.sk-toggleable__content {max-height: 200px;max-width: 100%;overflow: auto;}#sk-container-id-1 input.sk-toggleable__control:checked~label.sk-toggleable__label-arrow:before {content: \"▾\";}#sk-container-id-1 div.sk-estimator input.sk-toggleable__control:checked~label.sk-toggleable__label {background-color: #d4ebff;}#sk-container-id-1 div.sk-label input.sk-toggleable__control:checked~label.sk-toggleable__label {background-color: #d4ebff;}#sk-container-id-1 input.sk-hidden--visually {border: 0;clip: rect(1px 1px 1px 1px);clip: rect(1px, 1px, 1px, 1px);height: 1px;margin: -1px;overflow: hidden;padding: 0;position: absolute;width: 1px;}#sk-container-id-1 div.sk-estimator {font-family: monospace;background-color: #f0f8ff;border: 1px dotted black;border-radius: 0.25em;box-sizing: border-box;margin-bottom: 0.5em;}#sk-container-id-1 div.sk-estimator:hover {background-color: #d4ebff;}#sk-container-id-1 div.sk-parallel-item::after {content: \"\";width: 100%;border-bottom: 1px solid gray;flex-grow: 1;}#sk-container-id-1 div.sk-label:hover label.sk-toggleable__label {background-color: #d4ebff;}#sk-container-id-1 div.sk-serial::before {content: \"\";position: absolute;border-left: 1px solid gray;box-sizing: border-box;top: 0;bottom: 0;left: 50%;z-index: 0;}#sk-container-id-1 div.sk-serial {display: flex;flex-direction: column;align-items: center;background-color: white;padding-right: 0.2em;padding-left: 0.2em;position: relative;}#sk-container-id-1 div.sk-item {position: relative;z-index: 1;}#sk-container-id-1 div.sk-parallel {display: flex;align-items: stretch;justify-content: center;background-color: white;position: relative;}#sk-container-id-1 div.sk-item::before, #sk-container-id-1 div.sk-parallel-item::before {content: \"\";position: absolute;border-left: 1px solid gray;box-sizing: border-box;top: 0;bottom: 0;left: 50%;z-index: -1;}#sk-container-id-1 div.sk-parallel-item {display: flex;flex-direction: column;z-index: 1;position: relative;background-color: white;}#sk-container-id-1 div.sk-parallel-item:first-child::after {align-self: flex-end;width: 50%;}#sk-container-id-1 div.sk-parallel-item:last-child::after {align-self: flex-start;width: 50%;}#sk-container-id-1 div.sk-parallel-item:only-child::after {width: 0;}#sk-container-id-1 div.sk-dashed-wrapped {border: 1px dashed gray;margin: 0 0.4em 0.5em 0.4em;box-sizing: border-box;padding-bottom: 0.4em;background-color: white;}#sk-container-id-1 div.sk-label label {font-family: monospace;font-weight: bold;display: inline-block;line-height: 1.2em;}#sk-container-id-1 div.sk-label-container {text-align: center;}#sk-container-id-1 div.sk-container {/* jupyter's `normalize.less` sets `[hidden] { display: none; }` but bootstrap.min.css set `[hidden] { display: none !important; }` so we also need the `!important` here to be able to override the default hidden behavior on the sphinx rendered scikit-learn.org. See: https://github.com/scikit-learn/scikit-learn/issues/21755 */display: inline-block !important;position: relative;}#sk-container-id-1 div.sk-text-repr-fallback {display: none;}</style><div id=\"sk-container-id-1\" class=\"sk-top-container\"><div class=\"sk-text-repr-fallback\"><pre>LinearRegression()</pre><b>In a Jupyter environment, please rerun this cell to show the HTML representation or trust the notebook. <br />On GitHub, the HTML representation is unable to render, please try loading this page with nbviewer.org.</b></div><div class=\"sk-container\" hidden><div class=\"sk-item\"><div class=\"sk-estimator sk-toggleable\"><input class=\"sk-toggleable__control sk-hidden--visually\" id=\"sk-estimator-id-1\" type=\"checkbox\" checked><label for=\"sk-estimator-id-1\" class=\"sk-toggleable__label sk-toggleable__label-arrow\">LinearRegression</label><div class=\"sk-toggleable__content\"><pre>LinearRegression()</pre></div></div></div></div></div>"
            ]
          },
          "metadata": {},
          "execution_count": 45
        }
      ]
    },
    {
      "cell_type": "code",
      "source": [
        "y_pred = lr.predict(x_test)"
      ],
      "metadata": {
        "id": "PpQXuHgqA8Gw"
      },
      "execution_count": 46,
      "outputs": []
    },
    {
      "cell_type": "code",
      "source": [
        "from sklearn.metrics import mean_squared_error"
      ],
      "metadata": {
        "id": "d9AUTsAEA-s4"
      },
      "execution_count": 47,
      "outputs": []
    },
    {
      "cell_type": "code",
      "source": [
        "mean_squared_error(y_test, y_pred)"
      ],
      "metadata": {
        "colab": {
          "base_uri": "https://localhost:8080/"
        },
        "id": "UYrRpei5BECi",
        "outputId": "9c566738-ad58-4865-b8db-b6af8040cbd8"
      },
      "execution_count": 48,
      "outputs": [
        {
          "output_type": "execute_result",
          "data": {
            "text/plain": [
              "310612.43175525905"
            ]
          },
          "metadata": {},
          "execution_count": 48
        }
      ]
    },
    {
      "cell_type": "markdown",
      "source": [
        "Random Forest Regressor"
      ],
      "metadata": {
        "id": "354UzhQMdmwi"
      }
    },
    {
      "cell_type": "code",
      "source": [
        "from sklearn.ensemble import RandomForestRegressor"
      ],
      "metadata": {
        "id": "ibqj1IXRUsqw"
      },
      "execution_count": 49,
      "outputs": []
    },
    {
      "cell_type": "code",
      "source": [
        "rf = RandomForestRegressor(n_estimators=100, random_state=42)\n",
        "rf.fit(x_train, y_train)\n"
      ],
      "metadata": {
        "colab": {
          "base_uri": "https://localhost:8080/",
          "height": 75
        },
        "id": "tEdThhfFX5rj",
        "outputId": "9b6f31ef-15f8-452d-d523-4dd07bc5302d"
      },
      "execution_count": 50,
      "outputs": [
        {
          "output_type": "execute_result",
          "data": {
            "text/plain": [
              "RandomForestRegressor(random_state=42)"
            ],
            "text/html": [
              "<style>#sk-container-id-2 {color: black;background-color: white;}#sk-container-id-2 pre{padding: 0;}#sk-container-id-2 div.sk-toggleable {background-color: white;}#sk-container-id-2 label.sk-toggleable__label {cursor: pointer;display: block;width: 100%;margin-bottom: 0;padding: 0.3em;box-sizing: border-box;text-align: center;}#sk-container-id-2 label.sk-toggleable__label-arrow:before {content: \"▸\";float: left;margin-right: 0.25em;color: #696969;}#sk-container-id-2 label.sk-toggleable__label-arrow:hover:before {color: black;}#sk-container-id-2 div.sk-estimator:hover label.sk-toggleable__label-arrow:before {color: black;}#sk-container-id-2 div.sk-toggleable__content {max-height: 0;max-width: 0;overflow: hidden;text-align: left;background-color: #f0f8ff;}#sk-container-id-2 div.sk-toggleable__content pre {margin: 0.2em;color: black;border-radius: 0.25em;background-color: #f0f8ff;}#sk-container-id-2 input.sk-toggleable__control:checked~div.sk-toggleable__content {max-height: 200px;max-width: 100%;overflow: auto;}#sk-container-id-2 input.sk-toggleable__control:checked~label.sk-toggleable__label-arrow:before {content: \"▾\";}#sk-container-id-2 div.sk-estimator input.sk-toggleable__control:checked~label.sk-toggleable__label {background-color: #d4ebff;}#sk-container-id-2 div.sk-label input.sk-toggleable__control:checked~label.sk-toggleable__label {background-color: #d4ebff;}#sk-container-id-2 input.sk-hidden--visually {border: 0;clip: rect(1px 1px 1px 1px);clip: rect(1px, 1px, 1px, 1px);height: 1px;margin: -1px;overflow: hidden;padding: 0;position: absolute;width: 1px;}#sk-container-id-2 div.sk-estimator {font-family: monospace;background-color: #f0f8ff;border: 1px dotted black;border-radius: 0.25em;box-sizing: border-box;margin-bottom: 0.5em;}#sk-container-id-2 div.sk-estimator:hover {background-color: #d4ebff;}#sk-container-id-2 div.sk-parallel-item::after {content: \"\";width: 100%;border-bottom: 1px solid gray;flex-grow: 1;}#sk-container-id-2 div.sk-label:hover label.sk-toggleable__label {background-color: #d4ebff;}#sk-container-id-2 div.sk-serial::before {content: \"\";position: absolute;border-left: 1px solid gray;box-sizing: border-box;top: 0;bottom: 0;left: 50%;z-index: 0;}#sk-container-id-2 div.sk-serial {display: flex;flex-direction: column;align-items: center;background-color: white;padding-right: 0.2em;padding-left: 0.2em;position: relative;}#sk-container-id-2 div.sk-item {position: relative;z-index: 1;}#sk-container-id-2 div.sk-parallel {display: flex;align-items: stretch;justify-content: center;background-color: white;position: relative;}#sk-container-id-2 div.sk-item::before, #sk-container-id-2 div.sk-parallel-item::before {content: \"\";position: absolute;border-left: 1px solid gray;box-sizing: border-box;top: 0;bottom: 0;left: 50%;z-index: -1;}#sk-container-id-2 div.sk-parallel-item {display: flex;flex-direction: column;z-index: 1;position: relative;background-color: white;}#sk-container-id-2 div.sk-parallel-item:first-child::after {align-self: flex-end;width: 50%;}#sk-container-id-2 div.sk-parallel-item:last-child::after {align-self: flex-start;width: 50%;}#sk-container-id-2 div.sk-parallel-item:only-child::after {width: 0;}#sk-container-id-2 div.sk-dashed-wrapped {border: 1px dashed gray;margin: 0 0.4em 0.5em 0.4em;box-sizing: border-box;padding-bottom: 0.4em;background-color: white;}#sk-container-id-2 div.sk-label label {font-family: monospace;font-weight: bold;display: inline-block;line-height: 1.2em;}#sk-container-id-2 div.sk-label-container {text-align: center;}#sk-container-id-2 div.sk-container {/* jupyter's `normalize.less` sets `[hidden] { display: none; }` but bootstrap.min.css set `[hidden] { display: none !important; }` so we also need the `!important` here to be able to override the default hidden behavior on the sphinx rendered scikit-learn.org. See: https://github.com/scikit-learn/scikit-learn/issues/21755 */display: inline-block !important;position: relative;}#sk-container-id-2 div.sk-text-repr-fallback {display: none;}</style><div id=\"sk-container-id-2\" class=\"sk-top-container\"><div class=\"sk-text-repr-fallback\"><pre>RandomForestRegressor(random_state=42)</pre><b>In a Jupyter environment, please rerun this cell to show the HTML representation or trust the notebook. <br />On GitHub, the HTML representation is unable to render, please try loading this page with nbviewer.org.</b></div><div class=\"sk-container\" hidden><div class=\"sk-item\"><div class=\"sk-estimator sk-toggleable\"><input class=\"sk-toggleable__control sk-hidden--visually\" id=\"sk-estimator-id-2\" type=\"checkbox\" checked><label for=\"sk-estimator-id-2\" class=\"sk-toggleable__label sk-toggleable__label-arrow\">RandomForestRegressor</label><div class=\"sk-toggleable__content\"><pre>RandomForestRegressor(random_state=42)</pre></div></div></div></div></div>"
            ]
          },
          "metadata": {},
          "execution_count": 50
        }
      ]
    },
    {
      "cell_type": "code",
      "source": [
        "rf_mse = mean_squared_error(y_test, rf.predict(x_test))\n",
        "print(\"Random Forest Regressor MSE: \", rf_mse)"
      ],
      "metadata": {
        "colab": {
          "base_uri": "https://localhost:8080/"
        },
        "id": "8SLTUQ2gX5vW",
        "outputId": "5d43c613-3c52-4d91-abc7-ddaa8f303a05"
      },
      "execution_count": 51,
      "outputs": [
        {
          "output_type": "stream",
          "name": "stdout",
          "text": [
            "Random Forest Regressor MSE:  74243.49266416018\n"
          ]
        }
      ]
    },
    {
      "cell_type": "markdown",
      "source": [
        "XGBoost Regressor"
      ],
      "metadata": {
        "id": "HnYcZMIMdzv5"
      }
    },
    {
      "cell_type": "code",
      "source": [
        "from xgboost import XGBRegressor"
      ],
      "metadata": {
        "id": "FGBWbLIqX5yk"
      },
      "execution_count": 52,
      "outputs": []
    },
    {
      "cell_type": "code",
      "source": [
        "xgb = XGBRegressor(n_estimators=100, random_state=42)\n",
        "xgb.fit(x_train, y_train)\n"
      ],
      "metadata": {
        "colab": {
          "base_uri": "https://localhost:8080/",
          "height": 248
        },
        "id": "Egq8ENMHYR6D",
        "outputId": "c57f6673-f7ee-4879-aa33-b8c968b16ddd"
      },
      "execution_count": 53,
      "outputs": [
        {
          "output_type": "execute_result",
          "data": {
            "text/plain": [
              "XGBRegressor(base_score=None, booster=None, callbacks=None,\n",
              "             colsample_bylevel=None, colsample_bynode=None,\n",
              "             colsample_bytree=None, early_stopping_rounds=None,\n",
              "             enable_categorical=False, eval_metric=None, feature_types=None,\n",
              "             gamma=None, gpu_id=None, grow_policy=None, importance_type=None,\n",
              "             interaction_constraints=None, learning_rate=None, max_bin=None,\n",
              "             max_cat_threshold=None, max_cat_to_onehot=None,\n",
              "             max_delta_step=None, max_depth=None, max_leaves=None,\n",
              "             min_child_weight=None, missing=nan, monotone_constraints=None,\n",
              "             n_estimators=100, n_jobs=None, num_parallel_tree=None,\n",
              "             predictor=None, random_state=42, ...)"
            ],
            "text/html": [
              "<style>#sk-container-id-3 {color: black;background-color: white;}#sk-container-id-3 pre{padding: 0;}#sk-container-id-3 div.sk-toggleable {background-color: white;}#sk-container-id-3 label.sk-toggleable__label {cursor: pointer;display: block;width: 100%;margin-bottom: 0;padding: 0.3em;box-sizing: border-box;text-align: center;}#sk-container-id-3 label.sk-toggleable__label-arrow:before {content: \"▸\";float: left;margin-right: 0.25em;color: #696969;}#sk-container-id-3 label.sk-toggleable__label-arrow:hover:before {color: black;}#sk-container-id-3 div.sk-estimator:hover label.sk-toggleable__label-arrow:before {color: black;}#sk-container-id-3 div.sk-toggleable__content {max-height: 0;max-width: 0;overflow: hidden;text-align: left;background-color: #f0f8ff;}#sk-container-id-3 div.sk-toggleable__content pre {margin: 0.2em;color: black;border-radius: 0.25em;background-color: #f0f8ff;}#sk-container-id-3 input.sk-toggleable__control:checked~div.sk-toggleable__content {max-height: 200px;max-width: 100%;overflow: auto;}#sk-container-id-3 input.sk-toggleable__control:checked~label.sk-toggleable__label-arrow:before {content: \"▾\";}#sk-container-id-3 div.sk-estimator input.sk-toggleable__control:checked~label.sk-toggleable__label {background-color: #d4ebff;}#sk-container-id-3 div.sk-label input.sk-toggleable__control:checked~label.sk-toggleable__label {background-color: #d4ebff;}#sk-container-id-3 input.sk-hidden--visually {border: 0;clip: rect(1px 1px 1px 1px);clip: rect(1px, 1px, 1px, 1px);height: 1px;margin: -1px;overflow: hidden;padding: 0;position: absolute;width: 1px;}#sk-container-id-3 div.sk-estimator {font-family: monospace;background-color: #f0f8ff;border: 1px dotted black;border-radius: 0.25em;box-sizing: border-box;margin-bottom: 0.5em;}#sk-container-id-3 div.sk-estimator:hover {background-color: #d4ebff;}#sk-container-id-3 div.sk-parallel-item::after {content: \"\";width: 100%;border-bottom: 1px solid gray;flex-grow: 1;}#sk-container-id-3 div.sk-label:hover label.sk-toggleable__label {background-color: #d4ebff;}#sk-container-id-3 div.sk-serial::before {content: \"\";position: absolute;border-left: 1px solid gray;box-sizing: border-box;top: 0;bottom: 0;left: 50%;z-index: 0;}#sk-container-id-3 div.sk-serial {display: flex;flex-direction: column;align-items: center;background-color: white;padding-right: 0.2em;padding-left: 0.2em;position: relative;}#sk-container-id-3 div.sk-item {position: relative;z-index: 1;}#sk-container-id-3 div.sk-parallel {display: flex;align-items: stretch;justify-content: center;background-color: white;position: relative;}#sk-container-id-3 div.sk-item::before, #sk-container-id-3 div.sk-parallel-item::before {content: \"\";position: absolute;border-left: 1px solid gray;box-sizing: border-box;top: 0;bottom: 0;left: 50%;z-index: -1;}#sk-container-id-3 div.sk-parallel-item {display: flex;flex-direction: column;z-index: 1;position: relative;background-color: white;}#sk-container-id-3 div.sk-parallel-item:first-child::after {align-self: flex-end;width: 50%;}#sk-container-id-3 div.sk-parallel-item:last-child::after {align-self: flex-start;width: 50%;}#sk-container-id-3 div.sk-parallel-item:only-child::after {width: 0;}#sk-container-id-3 div.sk-dashed-wrapped {border: 1px dashed gray;margin: 0 0.4em 0.5em 0.4em;box-sizing: border-box;padding-bottom: 0.4em;background-color: white;}#sk-container-id-3 div.sk-label label {font-family: monospace;font-weight: bold;display: inline-block;line-height: 1.2em;}#sk-container-id-3 div.sk-label-container {text-align: center;}#sk-container-id-3 div.sk-container {/* jupyter's `normalize.less` sets `[hidden] { display: none; }` but bootstrap.min.css set `[hidden] { display: none !important; }` so we also need the `!important` here to be able to override the default hidden behavior on the sphinx rendered scikit-learn.org. See: https://github.com/scikit-learn/scikit-learn/issues/21755 */display: inline-block !important;position: relative;}#sk-container-id-3 div.sk-text-repr-fallback {display: none;}</style><div id=\"sk-container-id-3\" class=\"sk-top-container\"><div class=\"sk-text-repr-fallback\"><pre>XGBRegressor(base_score=None, booster=None, callbacks=None,\n",
              "             colsample_bylevel=None, colsample_bynode=None,\n",
              "             colsample_bytree=None, early_stopping_rounds=None,\n",
              "             enable_categorical=False, eval_metric=None, feature_types=None,\n",
              "             gamma=None, gpu_id=None, grow_policy=None, importance_type=None,\n",
              "             interaction_constraints=None, learning_rate=None, max_bin=None,\n",
              "             max_cat_threshold=None, max_cat_to_onehot=None,\n",
              "             max_delta_step=None, max_depth=None, max_leaves=None,\n",
              "             min_child_weight=None, missing=nan, monotone_constraints=None,\n",
              "             n_estimators=100, n_jobs=None, num_parallel_tree=None,\n",
              "             predictor=None, random_state=42, ...)</pre><b>In a Jupyter environment, please rerun this cell to show the HTML representation or trust the notebook. <br />On GitHub, the HTML representation is unable to render, please try loading this page with nbviewer.org.</b></div><div class=\"sk-container\" hidden><div class=\"sk-item\"><div class=\"sk-estimator sk-toggleable\"><input class=\"sk-toggleable__control sk-hidden--visually\" id=\"sk-estimator-id-3\" type=\"checkbox\" checked><label for=\"sk-estimator-id-3\" class=\"sk-toggleable__label sk-toggleable__label-arrow\">XGBRegressor</label><div class=\"sk-toggleable__content\"><pre>XGBRegressor(base_score=None, booster=None, callbacks=None,\n",
              "             colsample_bylevel=None, colsample_bynode=None,\n",
              "             colsample_bytree=None, early_stopping_rounds=None,\n",
              "             enable_categorical=False, eval_metric=None, feature_types=None,\n",
              "             gamma=None, gpu_id=None, grow_policy=None, importance_type=None,\n",
              "             interaction_constraints=None, learning_rate=None, max_bin=None,\n",
              "             max_cat_threshold=None, max_cat_to_onehot=None,\n",
              "             max_delta_step=None, max_depth=None, max_leaves=None,\n",
              "             min_child_weight=None, missing=nan, monotone_constraints=None,\n",
              "             n_estimators=100, n_jobs=None, num_parallel_tree=None,\n",
              "             predictor=None, random_state=42, ...)</pre></div></div></div></div></div>"
            ]
          },
          "metadata": {},
          "execution_count": 53
        }
      ]
    },
    {
      "cell_type": "code",
      "source": [
        "xgb_mse = mean_squared_error(y_test, xgb.predict(x_test))\n",
        "print(\"XGBoost Regressor MSE: \", xgb_mse)"
      ],
      "metadata": {
        "colab": {
          "base_uri": "https://localhost:8080/"
        },
        "id": "XaLfgJZvYR-4",
        "outputId": "07f42072-8406-4f44-92dd-698035d05d89"
      },
      "execution_count": 54,
      "outputs": [
        {
          "output_type": "stream",
          "name": "stdout",
          "text": [
            "XGBoost Regressor MSE:  75575.38964359989\n"
          ]
        }
      ]
    },
    {
      "cell_type": "markdown",
      "source": [
        "Gradient Boosting Regressor"
      ],
      "metadata": {
        "id": "psPyokwTdXxK"
      }
    },
    {
      "cell_type": "code",
      "source": [
        "from sklearn.ensemble import GradientBoostingRegressor\n"
      ],
      "metadata": {
        "id": "nYuGoBZsYSHQ"
      },
      "execution_count": 55,
      "outputs": []
    },
    {
      "cell_type": "code",
      "source": [
        "gb_model = GradientBoostingRegressor(n_estimators=100, random_state=134)\n",
        "gb_model.fit(x_train, y_train)\n"
      ],
      "metadata": {
        "colab": {
          "base_uri": "https://localhost:8080/",
          "height": 75
        },
        "id": "kT-KMcfPd-0p",
        "outputId": "e8aa1dea-034b-46f6-f7fc-15073ea0da45"
      },
      "execution_count": 56,
      "outputs": [
        {
          "output_type": "execute_result",
          "data": {
            "text/plain": [
              "GradientBoostingRegressor(random_state=134)"
            ],
            "text/html": [
              "<style>#sk-container-id-4 {color: black;background-color: white;}#sk-container-id-4 pre{padding: 0;}#sk-container-id-4 div.sk-toggleable {background-color: white;}#sk-container-id-4 label.sk-toggleable__label {cursor: pointer;display: block;width: 100%;margin-bottom: 0;padding: 0.3em;box-sizing: border-box;text-align: center;}#sk-container-id-4 label.sk-toggleable__label-arrow:before {content: \"▸\";float: left;margin-right: 0.25em;color: #696969;}#sk-container-id-4 label.sk-toggleable__label-arrow:hover:before {color: black;}#sk-container-id-4 div.sk-estimator:hover label.sk-toggleable__label-arrow:before {color: black;}#sk-container-id-4 div.sk-toggleable__content {max-height: 0;max-width: 0;overflow: hidden;text-align: left;background-color: #f0f8ff;}#sk-container-id-4 div.sk-toggleable__content pre {margin: 0.2em;color: black;border-radius: 0.25em;background-color: #f0f8ff;}#sk-container-id-4 input.sk-toggleable__control:checked~div.sk-toggleable__content {max-height: 200px;max-width: 100%;overflow: auto;}#sk-container-id-4 input.sk-toggleable__control:checked~label.sk-toggleable__label-arrow:before {content: \"▾\";}#sk-container-id-4 div.sk-estimator input.sk-toggleable__control:checked~label.sk-toggleable__label {background-color: #d4ebff;}#sk-container-id-4 div.sk-label input.sk-toggleable__control:checked~label.sk-toggleable__label {background-color: #d4ebff;}#sk-container-id-4 input.sk-hidden--visually {border: 0;clip: rect(1px 1px 1px 1px);clip: rect(1px, 1px, 1px, 1px);height: 1px;margin: -1px;overflow: hidden;padding: 0;position: absolute;width: 1px;}#sk-container-id-4 div.sk-estimator {font-family: monospace;background-color: #f0f8ff;border: 1px dotted black;border-radius: 0.25em;box-sizing: border-box;margin-bottom: 0.5em;}#sk-container-id-4 div.sk-estimator:hover {background-color: #d4ebff;}#sk-container-id-4 div.sk-parallel-item::after {content: \"\";width: 100%;border-bottom: 1px solid gray;flex-grow: 1;}#sk-container-id-4 div.sk-label:hover label.sk-toggleable__label {background-color: #d4ebff;}#sk-container-id-4 div.sk-serial::before {content: \"\";position: absolute;border-left: 1px solid gray;box-sizing: border-box;top: 0;bottom: 0;left: 50%;z-index: 0;}#sk-container-id-4 div.sk-serial {display: flex;flex-direction: column;align-items: center;background-color: white;padding-right: 0.2em;padding-left: 0.2em;position: relative;}#sk-container-id-4 div.sk-item {position: relative;z-index: 1;}#sk-container-id-4 div.sk-parallel {display: flex;align-items: stretch;justify-content: center;background-color: white;position: relative;}#sk-container-id-4 div.sk-item::before, #sk-container-id-4 div.sk-parallel-item::before {content: \"\";position: absolute;border-left: 1px solid gray;box-sizing: border-box;top: 0;bottom: 0;left: 50%;z-index: -1;}#sk-container-id-4 div.sk-parallel-item {display: flex;flex-direction: column;z-index: 1;position: relative;background-color: white;}#sk-container-id-4 div.sk-parallel-item:first-child::after {align-self: flex-end;width: 50%;}#sk-container-id-4 div.sk-parallel-item:last-child::after {align-self: flex-start;width: 50%;}#sk-container-id-4 div.sk-parallel-item:only-child::after {width: 0;}#sk-container-id-4 div.sk-dashed-wrapped {border: 1px dashed gray;margin: 0 0.4em 0.5em 0.4em;box-sizing: border-box;padding-bottom: 0.4em;background-color: white;}#sk-container-id-4 div.sk-label label {font-family: monospace;font-weight: bold;display: inline-block;line-height: 1.2em;}#sk-container-id-4 div.sk-label-container {text-align: center;}#sk-container-id-4 div.sk-container {/* jupyter's `normalize.less` sets `[hidden] { display: none; }` but bootstrap.min.css set `[hidden] { display: none !important; }` so we also need the `!important` here to be able to override the default hidden behavior on the sphinx rendered scikit-learn.org. See: https://github.com/scikit-learn/scikit-learn/issues/21755 */display: inline-block !important;position: relative;}#sk-container-id-4 div.sk-text-repr-fallback {display: none;}</style><div id=\"sk-container-id-4\" class=\"sk-top-container\"><div class=\"sk-text-repr-fallback\"><pre>GradientBoostingRegressor(random_state=134)</pre><b>In a Jupyter environment, please rerun this cell to show the HTML representation or trust the notebook. <br />On GitHub, the HTML representation is unable to render, please try loading this page with nbviewer.org.</b></div><div class=\"sk-container\" hidden><div class=\"sk-item\"><div class=\"sk-estimator sk-toggleable\"><input class=\"sk-toggleable__control sk-hidden--visually\" id=\"sk-estimator-id-4\" type=\"checkbox\" checked><label for=\"sk-estimator-id-4\" class=\"sk-toggleable__label sk-toggleable__label-arrow\">GradientBoostingRegressor</label><div class=\"sk-toggleable__content\"><pre>GradientBoostingRegressor(random_state=134)</pre></div></div></div></div></div>"
            ]
          },
          "metadata": {},
          "execution_count": 56
        }
      ]
    },
    {
      "cell_type": "code",
      "source": [
        "gb_pred = gb_model.predict(x_test)\n",
        "mse = mean_squared_error(y_test, gb_pred)\n",
        "print(\"Mean Squared Error:\", mse)"
      ],
      "metadata": {
        "colab": {
          "base_uri": "https://localhost:8080/"
        },
        "id": "YuXKOHQGd_YJ",
        "outputId": "b387615a-77c4-4b05-8cf1-e5d04137e666"
      },
      "execution_count": 57,
      "outputs": [
        {
          "output_type": "stream",
          "name": "stdout",
          "text": [
            "Mean Squared Error: 133192.87285951865\n"
          ]
        }
      ]
    },
    {
      "cell_type": "markdown",
      "source": [
        "Model4\n"
      ],
      "metadata": {
        "id": "sq7qhG4recAS"
      }
    },
    {
      "cell_type": "code",
      "source": [
        "model4 = Sequential()\n",
        "model4.add(Dense(256, input_shape=(25,), activation=\"relu\"))\n",
        "model4.add(Dense(128, activation=\"relu\"))\n",
        "model4.add(Dense(64, activation=\"relu\"))\n",
        "model4.add(Dense(32, activation=\"relu\"))\n",
        "model4.add(Dense(16, activation=\"relu\"))\n",
        "model4.add(Dense(8, activation=\"relu\"))\n",
        "model4.add(Dense(1, activation=None))\n"
      ],
      "metadata": {
        "id": "j2uAP3YUecZz"
      },
      "execution_count": 58,
      "outputs": []
    },
    {
      "cell_type": "code",
      "source": [
        "model4.compile(optimizer=\"adam\", loss=\"mean_squared_error\")"
      ],
      "metadata": {
        "id": "RpA3oCEkesCf"
      },
      "execution_count": 59,
      "outputs": []
    },
    {
      "cell_type": "code",
      "source": [
        "model4.fit(x_train, y_train, epochs=30, batch_size=128)"
      ],
      "metadata": {
        "colab": {
          "base_uri": "https://localhost:8080/"
        },
        "id": "Knk_7oDEe0o8",
        "outputId": "1a2257e0-4592-460c-9958-8742393b8383"
      },
      "execution_count": 60,
      "outputs": [
        {
          "output_type": "stream",
          "name": "stdout",
          "text": [
            "Epoch 1/30\n",
            "338/338 [==============================] - 6s 4ms/step - loss: 2824753.0000\n",
            "Epoch 2/30\n",
            "338/338 [==============================] - 1s 4ms/step - loss: 126540.5469\n",
            "Epoch 3/30\n",
            "338/338 [==============================] - 2s 5ms/step - loss: 111576.0391\n",
            "Epoch 4/30\n",
            "338/338 [==============================] - 2s 6ms/step - loss: 105176.8750\n",
            "Epoch 5/30\n",
            "338/338 [==============================] - 1s 4ms/step - loss: 103250.7344\n",
            "Epoch 6/30\n",
            "338/338 [==============================] - 1s 4ms/step - loss: 100439.7969\n",
            "Epoch 7/30\n",
            "338/338 [==============================] - 1s 4ms/step - loss: 99347.6797\n",
            "Epoch 8/30\n",
            "338/338 [==============================] - 1s 4ms/step - loss: 98803.5938\n",
            "Epoch 9/30\n",
            "338/338 [==============================] - 1s 4ms/step - loss: 96480.0391\n",
            "Epoch 10/30\n",
            "338/338 [==============================] - 1s 4ms/step - loss: 95411.7969\n",
            "Epoch 11/30\n",
            "338/338 [==============================] - 2s 5ms/step - loss: 95100.6719\n",
            "Epoch 12/30\n",
            "338/338 [==============================] - 2s 6ms/step - loss: 94266.5781\n",
            "Epoch 13/30\n",
            "338/338 [==============================] - 2s 4ms/step - loss: 93043.8594\n",
            "Epoch 14/30\n",
            "338/338 [==============================] - 1s 4ms/step - loss: 94141.2188\n",
            "Epoch 15/30\n",
            "338/338 [==============================] - 1s 4ms/step - loss: 93784.9609\n",
            "Epoch 16/30\n",
            "338/338 [==============================] - 1s 4ms/step - loss: 94340.9609\n",
            "Epoch 17/30\n",
            "338/338 [==============================] - 1s 4ms/step - loss: 94097.1875\n",
            "Epoch 18/30\n",
            "338/338 [==============================] - 1s 4ms/step - loss: 93507.9766\n",
            "Epoch 19/30\n",
            "338/338 [==============================] - 1s 4ms/step - loss: 92161.7969\n",
            "Epoch 20/30\n",
            "338/338 [==============================] - 2s 6ms/step - loss: 91207.9297\n",
            "Epoch 21/30\n",
            "338/338 [==============================] - 2s 5ms/step - loss: 90381.4141\n",
            "Epoch 22/30\n",
            "338/338 [==============================] - 1s 4ms/step - loss: 90841.4844\n",
            "Epoch 23/30\n",
            "338/338 [==============================] - 1s 4ms/step - loss: 91483.1016\n",
            "Epoch 24/30\n",
            "338/338 [==============================] - 1s 4ms/step - loss: 90699.3750\n",
            "Epoch 25/30\n",
            "338/338 [==============================] - 1s 4ms/step - loss: 90598.3516\n",
            "Epoch 26/30\n",
            "338/338 [==============================] - 1s 4ms/step - loss: 89539.3359\n",
            "Epoch 27/30\n",
            "338/338 [==============================] - 1s 4ms/step - loss: 90711.8906\n",
            "Epoch 28/30\n",
            "338/338 [==============================] - 2s 6ms/step - loss: 90823.6016\n",
            "Epoch 29/30\n",
            "338/338 [==============================] - 2s 6ms/step - loss: 89365.5781\n",
            "Epoch 30/30\n",
            "338/338 [==============================] - 1s 4ms/step - loss: 90018.0078\n"
          ]
        },
        {
          "output_type": "execute_result",
          "data": {
            "text/plain": [
              "<keras.callbacks.History at 0x7fda91f77be0>"
            ]
          },
          "metadata": {},
          "execution_count": 60
        }
      ]
    },
    {
      "cell_type": "code",
      "source": [
        "model4.evaluate(x_test, y_test)"
      ],
      "metadata": {
        "colab": {
          "base_uri": "https://localhost:8080/"
        },
        "id": "T-Rvt2b6exzJ",
        "outputId": "5e4d8d8b-1e49-496a-8e66-01fb78302602"
      },
      "execution_count": 61,
      "outputs": [
        {
          "output_type": "stream",
          "name": "stdout",
          "text": [
            "338/338 [==============================] - 1s 2ms/step - loss: 84626.6406\n"
          ]
        },
        {
          "output_type": "execute_result",
          "data": {
            "text/plain": [
              "84626.640625"
            ]
          },
          "metadata": {},
          "execution_count": 61
        }
      ]
    },
    {
      "cell_type": "markdown",
      "source": [
        "Model5"
      ],
      "metadata": {
        "id": "QM-gX61tf1Hg"
      }
    },
    {
      "cell_type": "code",
      "source": [
        "from tensorflow.keras import regularizers"
      ],
      "metadata": {
        "id": "JK2aSQd1f23T"
      },
      "execution_count": 70,
      "outputs": []
    },
    {
      "cell_type": "code",
      "source": [
        "model5 = Sequential()\n",
        "model5.add(Dense(256, input_shape=(25,), activation=\"relu\", kernel_regularizer=regularizers.l2(0.001)))\n",
        "model5.add(Dense(128, activation=\"relu\", kernel_regularizer=regularizers.l2(0.001)))\n",
        "model5.add(Dense(64, activation=\"relu\", kernel_regularizer=regularizers.l2(0.001)))\n",
        "model5.add(Dense(32, activation=\"relu\", kernel_regularizer=regularizers.l2(0.001)))\n",
        "model5.add(Dense(16, activation=\"relu\", kernel_regularizer=regularizers.l2(0.001)))\n",
        "model5.add(Dense(8, activation=\"relu\", kernel_regularizer=regularizers.l2(0.001)))\n",
        "model5.add(Dense(1, activation=None))"
      ],
      "metadata": {
        "id": "NSurSeAjf3LK"
      },
      "execution_count": 71,
      "outputs": []
    },
    {
      "cell_type": "code",
      "source": [
        "model5.compile(optimizer=\"RMSprop\", loss=\"mean_squared_error\")\n"
      ],
      "metadata": {
        "id": "WMkz5k2ef3RZ"
      },
      "execution_count": 72,
      "outputs": []
    },
    {
      "cell_type": "code",
      "source": [
        "model5.fit(x_train, y_train, epochs=50, batch_size=128)\n"
      ],
      "metadata": {
        "colab": {
          "base_uri": "https://localhost:8080/"
        },
        "id": "Jziv-GI0gFjZ",
        "outputId": "d8c31c3b-08ed-45a7-acff-d551b2d4a1e3"
      },
      "execution_count": 73,
      "outputs": [
        {
          "output_type": "stream",
          "name": "stdout",
          "text": [
            "Epoch 1/50\n",
            "338/338 [==============================] - 3s 4ms/step - loss: 2094233.7500\n",
            "Epoch 2/50\n",
            "338/338 [==============================] - 1s 4ms/step - loss: 139644.1719\n",
            "Epoch 3/50\n",
            "338/338 [==============================] - 1s 4ms/step - loss: 121880.1250\n",
            "Epoch 4/50\n",
            "338/338 [==============================] - 1s 4ms/step - loss: 113455.1797\n",
            "Epoch 5/50\n",
            "338/338 [==============================] - 2s 5ms/step - loss: 111122.8203\n",
            "Epoch 6/50\n",
            "338/338 [==============================] - 2s 6ms/step - loss: 109397.5625\n",
            "Epoch 7/50\n",
            "338/338 [==============================] - 1s 4ms/step - loss: 107259.2734\n",
            "Epoch 8/50\n",
            "338/338 [==============================] - 1s 4ms/step - loss: 104920.3281\n",
            "Epoch 9/50\n",
            "338/338 [==============================] - 1s 4ms/step - loss: 104974.8828\n",
            "Epoch 10/50\n",
            "338/338 [==============================] - 2s 5ms/step - loss: 103134.5781\n",
            "Epoch 11/50\n",
            "338/338 [==============================] - 2s 6ms/step - loss: 103122.1719\n",
            "Epoch 12/50\n",
            "338/338 [==============================] - 1s 4ms/step - loss: 102250.8984\n",
            "Epoch 13/50\n",
            "338/338 [==============================] - 2s 6ms/step - loss: 102205.1094\n",
            "Epoch 14/50\n",
            "338/338 [==============================] - 2s 5ms/step - loss: 101519.4453\n",
            "Epoch 15/50\n",
            "338/338 [==============================] - 1s 4ms/step - loss: 100166.2734\n",
            "Epoch 16/50\n",
            "338/338 [==============================] - 1s 4ms/step - loss: 99925.9062\n",
            "Epoch 17/50\n",
            "338/338 [==============================] - 1s 4ms/step - loss: 98985.9297\n",
            "Epoch 18/50\n",
            "338/338 [==============================] - 1s 4ms/step - loss: 99030.5703\n",
            "Epoch 19/50\n",
            "338/338 [==============================] - 1s 4ms/step - loss: 99235.8906\n",
            "Epoch 20/50\n",
            "338/338 [==============================] - 1s 4ms/step - loss: 98088.7109\n",
            "Epoch 21/50\n",
            "338/338 [==============================] - 2s 5ms/step - loss: 98337.5469\n",
            "Epoch 22/50\n",
            "338/338 [==============================] - 2s 6ms/step - loss: 98558.3047\n",
            "Epoch 23/50\n",
            "338/338 [==============================] - 1s 4ms/step - loss: 97124.2891\n",
            "Epoch 24/50\n",
            "338/338 [==============================] - 1s 4ms/step - loss: 96626.8750\n",
            "Epoch 25/50\n",
            "338/338 [==============================] - 1s 4ms/step - loss: 95393.6094\n",
            "Epoch 26/50\n",
            "338/338 [==============================] - 1s 4ms/step - loss: 96093.5078\n",
            "Epoch 27/50\n",
            "338/338 [==============================] - 1s 4ms/step - loss: 95231.5000\n",
            "Epoch 28/50\n",
            "338/338 [==============================] - 1s 4ms/step - loss: 94679.9375\n",
            "Epoch 29/50\n",
            "338/338 [==============================] - 1s 4ms/step - loss: 94252.1562\n",
            "Epoch 30/50\n",
            "338/338 [==============================] - 2s 6ms/step - loss: 93995.8984\n",
            "Epoch 31/50\n",
            "338/338 [==============================] - 2s 5ms/step - loss: 93563.6562\n",
            "Epoch 32/50\n",
            "338/338 [==============================] - 1s 4ms/step - loss: 92692.9688\n",
            "Epoch 33/50\n",
            "338/338 [==============================] - 1s 4ms/step - loss: 92995.1172\n",
            "Epoch 34/50\n",
            "338/338 [==============================] - 1s 4ms/step - loss: 90893.5078\n",
            "Epoch 35/50\n",
            "338/338 [==============================] - 1s 4ms/step - loss: 90573.5703\n",
            "Epoch 36/50\n",
            "338/338 [==============================] - 1s 4ms/step - loss: 91031.7891\n",
            "Epoch 37/50\n",
            "338/338 [==============================] - 1s 4ms/step - loss: 90241.0547\n",
            "Epoch 38/50\n",
            "338/338 [==============================] - 2s 5ms/step - loss: 89593.6016\n",
            "Epoch 39/50\n",
            "338/338 [==============================] - 2s 6ms/step - loss: 89527.9375\n",
            "Epoch 40/50\n",
            "338/338 [==============================] - 1s 4ms/step - loss: 88796.6094\n",
            "Epoch 41/50\n",
            "338/338 [==============================] - 1s 4ms/step - loss: 88768.9219\n",
            "Epoch 42/50\n",
            "338/338 [==============================] - 1s 4ms/step - loss: 86696.2266\n",
            "Epoch 43/50\n",
            "338/338 [==============================] - 1s 4ms/step - loss: 87633.6328\n",
            "Epoch 44/50\n",
            "338/338 [==============================] - 1s 4ms/step - loss: 86523.7266\n",
            "Epoch 45/50\n",
            "338/338 [==============================] - 1s 4ms/step - loss: 87763.1328\n",
            "Epoch 46/50\n",
            "338/338 [==============================] - 2s 5ms/step - loss: 85804.8281\n",
            "Epoch 47/50\n",
            "338/338 [==============================] - 2s 6ms/step - loss: 86588.8281\n",
            "Epoch 48/50\n",
            "338/338 [==============================] - 1s 4ms/step - loss: 86084.1016\n",
            "Epoch 49/50\n",
            "338/338 [==============================] - 1s 4ms/step - loss: 85963.9297\n",
            "Epoch 50/50\n",
            "338/338 [==============================] - 1s 4ms/step - loss: 84541.8203\n"
          ]
        },
        {
          "output_type": "execute_result",
          "data": {
            "text/plain": [
              "<keras.callbacks.History at 0x7fda91a21a60>"
            ]
          },
          "metadata": {},
          "execution_count": 73
        }
      ]
    },
    {
      "cell_type": "code",
      "source": [
        "model5.evaluate(x_test, y_test)"
      ],
      "metadata": {
        "colab": {
          "base_uri": "https://localhost:8080/"
        },
        "id": "jYiyKnAqgIRK",
        "outputId": "20d19064-21b6-4804-bfbe-75eb602e8580"
      },
      "execution_count": 74,
      "outputs": [
        {
          "output_type": "stream",
          "name": "stdout",
          "text": [
            "338/338 [==============================] - 1s 2ms/step - loss: 77771.2891\n"
          ]
        },
        {
          "output_type": "execute_result",
          "data": {
            "text/plain": [
              "77771.2890625"
            ]
          },
          "metadata": {},
          "execution_count": 74
        }
      ]
    },
    {
      "cell_type": "markdown",
      "source": [
        "Comparing MSE of Different models\n",
        "\n",
        "*  model 1 \t\t= 3897382.25\n",
        "*  model 3 \t\t= 367814.3125\n",
        "*  model 4 \t\t= 84626.640625\n",
        "*  model 5 \t\t= 77771.2890625\n",
        "*  Linear Regression\t= 310612.43175525905\n",
        "*  Random forest regressor\t= 74243.49266416018  ( the best MSE value )\n",
        "*  XG boost regressor\t= 75575.38964359989\n",
        "*  Gradient boost regressor= 133192.87285951865\n",
        "\n",
        "\n",
        "\n",
        "\n",
        "\n",
        "\n",
        "\n",
        "\n"
      ],
      "metadata": {
        "id": "If4JOMfEhvJl"
      }
    }
  ]
}